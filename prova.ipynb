{
 "cells": [
  {
   "cell_type": "code",
   "execution_count": 251,
   "metadata": {},
   "outputs": [],
   "source": [
    "from sklearn.preprocessing import OneHotEncoder\n",
    "import numpy as np\n",
    "import pandas as pd\n",
    "from sklearn.cluster import KMeans"
   ]
  },
  {
   "cell_type": "code",
   "execution_count": 252,
   "metadata": {},
   "outputs": [],
   "source": [
    "def convert_categorical_to_numeric(users):\n",
    "    # Separar atributos numéricos y categóricos\n",
    "    categorical_data = []\n",
    "    numeric_data = []\n",
    "    for user in users:\n",
    "        categorical_attributes = []\n",
    "        numeric_attributes = []\n",
    "        for key, value in user.attributes.items():\n",
    "            if isinstance(value, str):\n",
    "                categorical_attributes.append(value)\n",
    "            else:\n",
    "                numeric_attributes.append(value)\n",
    "        categorical_data.append(categorical_attributes)\n",
    "        numeric_data.append(numeric_attributes)\n",
    "\n",
    "    # Aplicar One-Hot Encoding a los datos categóricos\n",
    "    encoder = OneHotEncoder(sparse_output=False)\n",
    "    transformed_categorical_data = encoder.fit_transform(categorical_data)\n",
    "\n",
    "    # Combinar los datos numéricos con los categóricos transformados\n",
    "    combined_data = np.hstack((numeric_data, transformed_categorical_data))\n",
    "\n",
    "    # Actualizar los atributos de los usuarios\n",
    "    for i, user in enumerate(users):\n",
    "        user.attributes = combined_data[i]\n",
    "\n",
    "    return encoder, users"
   ]
  },
  {
   "cell_type": "code",
   "execution_count": 253,
   "metadata": {},
   "outputs": [],
   "source": [
    "class User:\n",
    "    def __init__(self, user_id, attributes):\n",
    "        self.user_id = user_id\n",
    "        self.attributes = attributes  # Ejemplo: {'edad': 30, 'género': 'F'}\n",
    "        self.cluster = None\n",
    "\n",
    "class Book:\n",
    "    def __init__(self, book_id, title, attributes):\n",
    "        self.book_id = book_id\n",
    "        self.title = title\n",
    "        self.attributes = attributes  # Ejemplo: {'género': 'Fantasía', 'año': 2001}\n",
    "\n",
    "class Rating:\n",
    "    def __init__(self, user_id, book_id, score):\n",
    "        self.user_id = user_id\n",
    "        self.book_id = book_id\n",
    "        self.score = score"
   ]
  },
  {
   "cell_type": "code",
   "execution_count": 254,
   "metadata": {},
   "outputs": [],
   "source": [
    "class CBR:\n",
    "    def __init__(self, users, books, ratings):\n",
    "        self.books = books\n",
    "        self.ratings = ratings\n",
    "        self.encoder, self.users = self.init_users(users)\n",
    "        self.kmeans = None\n",
    "\n",
    "    def init_users(self, users):\n",
    "        return convert_categorical_to_numeric(users)\n",
    "    \n",
    "    def make_clusters(self, k):\n",
    "        user_attributes = np.array([user.attributes for user in self.users])\n",
    "        kmeans = KMeans(n_clusters=k, n_init=10)  # Ajustar el número de clusters según sea necesario\n",
    "        kmeans.fit(user_attributes)\n",
    "        self.kmeans = kmeans\n",
    "\n",
    "        for i, user in enumerate(self.users):\n",
    "            user.cluster = kmeans.labels_[i]\n",
    "\n",
    "    def predict_user_cluster(self, user):\n",
    "        user.attributes = self.__convert_user_attributes(user.attributes)\n",
    "        return self.kmeans.predict([user.attributes])[0]\n",
    "    \n",
    "    def __convert_user_attributes(self, user_attributes):\n",
    "        categorical_attributes = []\n",
    "        numeric_attributes = []\n",
    "        for key, value in user_attributes.items():\n",
    "            if isinstance(value, str):\n",
    "                categorical_attributes.append(value)\n",
    "            else:\n",
    "                numeric_attributes.append(value)\n",
    "\n",
    "        transformed_categorical_data = self.encoder.transform([categorical_attributes])\n",
    "        return np.hstack((numeric_attributes, transformed_categorical_data[0]))"
   ]
  },
  {
   "cell_type": "code",
   "execution_count": 255,
   "metadata": {},
   "outputs": [
    {
     "name": "stdout",
     "output_type": "stream",
     "text": [
      "{'edad': 26, 'género': 'hombre'}\n",
      "{'edad': 20, 'género': 'mujer'}\n",
      "{'edad': 22, 'género': 'hombre'}\n",
      "{'edad': 40, 'género': 'hombre'}\n",
      "{'edad': 40, 'género': 'mujer'}\n",
      "{'edad': 45, 'género': 'hombre'}\n"
     ]
    }
   ],
   "source": [
    "# Create dataset with 6 users and \"edad\" and \"género\" attributes\n",
    "df = pd.DataFrame({\n",
    "    'ind': [1, 2, 3, 4, 5, 6],\n",
    "    'edad': [26, 20, 22, 40, 40, 45],\n",
    "    'género': ['hombre', 'mujer', 'hombre', 'hombre', 'mujer', 'hombre']\n",
    "})\n",
    "\n",
    "# Per cada fila creamos un usuario con sus atributos\n",
    "users = []\n",
    "for index, row in df.iterrows():\n",
    "    user_id = row['ind']\n",
    "    attributes = row.drop('ind').to_dict()\n",
    "    print(attributes)\n",
    "    users.append(User(user_id, attributes))\n",
    "\n",
    "cbr = CBR(users, [], [])"
   ]
  },
  {
   "cell_type": "code",
   "execution_count": 256,
   "metadata": {},
   "outputs": [],
   "source": [
    "cbr.make_clusters(2)"
   ]
  },
  {
   "cell_type": "code",
   "execution_count": 257,
   "metadata": {},
   "outputs": [
    {
     "name": "stdout",
     "output_type": "stream",
     "text": [
      "User: 1 Cluster: 0 Attributes: [26.  1.  0.]\n",
      "User: 2 Cluster: 0 Attributes: [20.  0.  1.]\n",
      "User: 3 Cluster: 0 Attributes: [22.  1.  0.]\n",
      "User: 4 Cluster: 1 Attributes: [40.  1.  0.]\n",
      "User: 5 Cluster: 1 Attributes: [40.  0.  1.]\n",
      "User: 6 Cluster: 1 Attributes: [45.  1.  0.]\n"
     ]
    }
   ],
   "source": [
    "# Print clusters\n",
    "for user in cbr.users:\n",
    "    print(\"User: \" + str(user.user_id) + \" Cluster: \" + str(user.cluster) + \" Attributes: \" + str(user.attributes))"
   ]
  },
  {
   "cell_type": "code",
   "execution_count": 258,
   "metadata": {},
   "outputs": [],
   "source": [
    "book1 = Book(1, 'El señor de los anillos', {'género': 'Fantasía', 'año': 2001})\n",
    "book2 = Book(2, 'El código Da Vinci', {'género': 'Misterio', 'año': 2005})\n",
    "\n",
    "rating1 = Rating(1, 1, 5)\n",
    "rating2 = Rating(1, 2, 3)\n",
    "rating3 = Rating(2, 1, 2)\n",
    "rating4 = Rating(2, 2, 4)"
   ]
  },
  {
   "cell_type": "code",
   "execution_count": 259,
   "metadata": {},
   "outputs": [
    {
     "name": "stdout",
     "output_type": "stream",
     "text": [
      "Cluster: 0\n"
     ]
    }
   ],
   "source": [
    "user7 = User(7, {'edad': 25, 'género': 'mujer'})\n",
    "users = np.append(users, user7)\n",
    "\n",
    "print(\"Cluster:\", cbr.predict_user_cluster(user7))"
   ]
  }
 ],
 "metadata": {
  "kernelspec": {
   "display_name": "Python 3",
   "language": "python",
   "name": "python3"
  },
  "language_info": {
   "codemirror_mode": {
    "name": "ipython",
    "version": 3
   },
   "file_extension": ".py",
   "mimetype": "text/x-python",
   "name": "python",
   "nbconvert_exporter": "python",
   "pygments_lexer": "ipython3",
   "version": "3.10.4"
  }
 },
 "nbformat": 4,
 "nbformat_minor": 2
}
