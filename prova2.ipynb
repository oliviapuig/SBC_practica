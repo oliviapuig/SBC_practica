{
 "cells": [
  {
   "cell_type": "markdown",
   "metadata": {},
   "source": [
    "# SBC - Pràctica CBR\n",
    "\n",
    "- Aina Gomila\n",
    "- Ruth Parajó\n",
    "- Olivia Puig\n",
    "- Marc Ucelayeta"
   ]
  },
  {
   "cell_type": "code",
   "execution_count": 1,
   "metadata": {},
   "outputs": [],
   "source": [
    "import pandas as pd\n",
    "from sklearn.cluster import KMeans\n",
    "from cbr import CBR"
   ]
  },
  {
   "cell_type": "code",
   "execution_count": 2,
   "metadata": {},
   "outputs": [],
   "source": [
    "class Usuari:\n",
    "    def __init__(self, ind, attributes):\n",
    "        self.ind = ind\n",
    "        self.attributes = attributes\n",
    "        self.edat = attributes[\"edat\"]\n",
    "        self.estil_literari = attributes[\"estil_literari\"]\n",
    "        self.temas_especifics = attributes[\"temas_especifics\"]\n",
    "        self.complexitat = attributes[\"complexitat\"]\n",
    "        self.caracteristiques = attributes[\"caracteristiques\"]\n",
    "        self.desenvolupament_del_personatge = attributes[\"desenvolupament_del_personatge\"]\n",
    "        self.accio_o_reflexio = attributes[\"accio_o_reflexio\"]\n",
    "        self.longitud = attributes[\"longitud\"]\n",
    "        self.epoca = attributes[\"epoca\"]\n",
    "        self.detall_cientific = attributes[\"detall_cientific\"]\n",
    "\n",
    "        self.vector = []\n",
    "\n",
    "        self.llibres_recomanats = []\n",
    "        self.puntuacio_llibres = []\n",
    "    \n",
    "    def __str__(self):\n",
    "        print(f\"User {self.ind}\")\n",
    "        for key, value in self.attributes.items():\n",
    "            print(f\"{key}: {value}\")\n",
    "        return \"\""
   ]
  },
  {
   "cell_type": "code",
   "execution_count": null,
   "metadata": {},
   "outputs": [],
   "source": [
    "class Llibre:\n"
   ]
  },
  {
   "cell_type": "code",
   "execution_count": 3,
   "metadata": {},
   "outputs": [
    {
     "name": "stdout",
     "output_type": "stream",
     "text": [
      "User 1\n",
      "edat: 20\n",
      "estil_literari: realisme\n",
      "temas_especifics: amor\n",
      "complexitat: baixa\n",
      "caracteristiques: simples\n",
      "desenvolupament_del_personatge: alt\n",
      "accio_o_reflexio: accio\n",
      "longitud: mitjana\n",
      "epoca: actual\n",
      "detall_cientific: baix\n",
      "\n"
     ]
    }
   ],
   "source": [
    "att = {\n",
    "    \"edat\": 20,\n",
    "    \"estil_literari\": \"realisme\",\n",
    "    \"temas_especifics\": \"amor\",\n",
    "    \"complexitat\": \"baixa\",\n",
    "    \"caracteristiques\": \"simples\",\n",
    "    \"desenvolupament_del_personatge\": \"alt\",\n",
    "    \"accio_o_reflexio\": \"accio\",\n",
    "    \"longitud\": \"mitjana\",\n",
    "    \"epoca\": \"actual\",\n",
    "    \"detall_cientific\": \"baix\"\n",
    "}\n",
    "user = Usuari(1, att)\n",
    "\n",
    "att2 = {\n",
    "    \"edat\": 50,\n",
    "    \"estil_literari\": \"simbolisme\",\n",
    "    \"temas_especifics\": \"terror\",\n",
    "    \"complexitat\": \"alta\",\n",
    "    \"caracteristiques\": \"complexes\",\n",
    "    \"desenvolupament_del_personatge\": \"mitja\",\n",
    "    \"accio_o_reflexio\": \"reflexio\",\n",
    "    \"longitud\": \"llarga\",\n",
    "    \"epoca\": \"futura\",\n",
    "    \"detall_cientific\": \"alta\"\n",
    "}\n",
    "user2 = Usuari(2, att2)\n",
    "\n",
    "att3 = {\n",
    "    \"edat\": 50,\n",
    "    \"estil_literari\": \"simbolisme\",\n",
    "    \"temas_especifics\": \"terror\",\n",
    "    \"complexitat\": \"baixa\",\n",
    "    \"caracteristiques\": \"complexes\",\n",
    "    \"desenvolupament_del_personatge\": \"mitja\",\n",
    "    \"accio_o_reflexio\": \"reflexio\",\n",
    "    \"longitud\": \"llarga\",\n",
    "    \"epoca\": \"futura\",\n",
    "    \"detall_cientific\": \"alta\"\n",
    "}\n",
    "user3 = Usuari(3, att3)\n",
    "print(user)"
   ]
  },
  {
   "cell_type": "code",
   "execution_count": 5,
   "metadata": {},
   "outputs": [],
   "source": [
    "cbr = CBR([user, user2, user3])\n",
    "encoder = cbr.get_encoder()\n",
    "users = cbr.transform_user_to_numeric(encoder, cbr.get_users())"
   ]
  },
  {
   "cell_type": "code",
   "execution_count": 6,
   "metadata": {},
   "outputs": [
    {
     "name": "stdout",
     "output_type": "stream",
     "text": [
      "[0.2 1.  0.  0.  0.  0.  0.  0.  1.  0.  0.  0.  0.  0.  0.  0.  0.  0.\n",
      " 0.  0.  0.  0.  0.  0.  0.  0.  0.  0.  0.  0.  0.  0.  0.  0.  0.  0.\n",
      " 0.  0.  0.  0.  0.  1.  0.  0.  1.  0.  0.  0.  1.  1.  0.  0.  1.  0.\n",
      " 1.  0.  0.  1.  0.  0. ]\n",
      "[0.5 0.  0.  0.  1.  0.  0.  0.  0.  0.  1.  0.  0.  0.  0.  0.  0.  0.\n",
      " 0.  0.  0.  0.  0.  0.  0.  0.  0.  0.  0.  0.  0.  0.  0.  0.  0.  0.\n",
      " 0.  0.  0.  0.  0.  0.  0.  1.  0.  1.  0.  1.  0.  0.  1.  0.  0.  1.\n",
      " 0.  0.  1.  0.  0.  1. ]\n",
      "[0.5 0.  0.  0.  1.  0.  0.  0.  0.  0.  1.  0.  0.  0.  0.  0.  0.  0.\n",
      " 0.  0.  0.  0.  0.  0.  0.  0.  0.  0.  0.  0.  0.  0.  0.  0.  0.  0.\n",
      " 0.  0.  0.  0.  0.  1.  0.  0.  0.  1.  0.  1.  0.  0.  1.  0.  0.  1.\n",
      " 0.  0.  1.  0.  0.  1. ]\n"
     ]
    }
   ],
   "source": [
    "print(cbr.get_users()[0].vector)\n",
    "print(cbr.get_users()[1].vector)\n",
    "print(cbr.get_users()[2].vector)"
   ]
  },
  {
   "cell_type": "code",
   "execution_count": 7,
   "metadata": {},
   "outputs": [
    {
     "name": "stdout",
     "output_type": "stream",
     "text": [
      "Cosine\n",
      "0.010935657966662841\n",
      "0.8918918918918919\n",
      "Hamming\n",
      "0.31666666666666665\n",
      "0.03333333333333333\n"
     ]
    }
   ],
   "source": [
    "print(\"Cosine\")\n",
    "print(cbr.similarity(cbr.get_users()[0], cbr.get_users()[1], \"cosine\"))\n",
    "print(cbr.similarity(cbr.get_users()[1], cbr.get_users()[2], \"cosine\"))\n",
    "print(\"Hamming\")\n",
    "print(cbr.similarity(cbr.get_users()[0], cbr.get_users()[1], \"hamming\"))\n",
    "print(cbr.similarity(cbr.get_users()[1], cbr.get_users()[2], \"hamming\"))"
   ]
  }
 ],
 "metadata": {
  "kernelspec": {
   "display_name": "Python 3",
   "language": "python",
   "name": "python3"
  },
  "language_info": {
   "codemirror_mode": {
    "name": "ipython",
    "version": 3
   },
   "file_extension": ".py",
   "mimetype": "text/x-python",
   "name": "python",
   "nbconvert_exporter": "python",
   "pygments_lexer": "ipython3",
   "version": "3.10.4"
  }
 },
 "nbformat": 4,
 "nbformat_minor": 2
}
