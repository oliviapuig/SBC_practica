{
 "cells": [
  {
   "cell_type": "markdown",
   "metadata": {},
   "source": [
    "# SBC - Pràctica CBR\n",
    "\n",
    "- Aina Gomila\n",
    "- Ruth Parajó\n",
    "- Olivia Puig\n",
    "- Marc Ucelayeta"
   ]
  },
  {
   "cell_type": "code",
   "execution_count": 1,
   "metadata": {},
   "outputs": [],
   "source": [
    "import pandas as pd\n",
    "from sklearn.cluster import KMeans\n",
    "from cbr import CBR\n",
    "from utils import Usuari"
   ]
  },
  {
   "cell_type": "code",
   "execution_count": 2,
   "metadata": {},
   "outputs": [
    {
     "name": "stdout",
     "output_type": "stream",
     "text": [
      "User 2\n",
      "edat: 50\n",
      "estil_literari: simbolisme\n",
      "temas_especifics: terror\n",
      "complexitat: baixa\n",
      "caracteristiques: complexes\n",
      "desenvolupament_del_personatge: mitja\n",
      "accio_o_reflexio: reflexio\n",
      "longitud: llarga\n",
      "epoca: futura\n",
      "detall_cientific: alta\n",
      "llibres_recomanats: []\n",
      "puntuacio_llibres: []\n",
      "\n"
     ]
    }
   ],
   "source": [
    "att = {\n",
    "    \"edat\": 20,\n",
    "    \"estil_literari\": \"realisme\",\n",
    "    \"temas_especifics\": \"amor\",\n",
    "    \"complexitat\": \"baixa\",\n",
    "    \"caracteristiques\": \"simples\",\n",
    "    \"desenvolupament_del_personatge\": \"alt\",\n",
    "    \"accio_o_reflexio\": \"accio\",\n",
    "    \"longitud\": \"mitjana\",\n",
    "    \"epoca\": \"actual\",\n",
    "    \"detall_cientific\": \"baix\",\n",
    "    \"llibres_recomanats\": [\"llibre4\", \"llibre6\", \"llibre7\"],\n",
    "    \"puntuacio_llibres\": [4, 4, 1]\n",
    "}\n",
    "user = Usuari(0, att)\n",
    "\n",
    "att2 = {\n",
    "    \"edat\": 50,\n",
    "    \"estil_literari\": \"simbolisme\",\n",
    "    \"temas_especifics\": \"terror\",\n",
    "    \"complexitat\": \"alta\",\n",
    "    \"caracteristiques\": \"complexes\",\n",
    "    \"desenvolupament_del_personatge\": \"mitja\",\n",
    "    \"accio_o_reflexio\": \"reflexio\",\n",
    "    \"longitud\": \"llarga\",\n",
    "    \"epoca\": \"futura\",\n",
    "    \"detall_cientific\": \"alta\",\n",
    "    \"llibres_recomanats\": [\"llibre1\", \"llibre2\", \"llibre3\", \"llibre4\"],\n",
    "    \"puntuacio_llibres\": [4, 1, 5, 3]\n",
    "}\n",
    "user2 = Usuari(1, att2)\n",
    "\n",
    "att3 = {\n",
    "    \"edat\": 50,\n",
    "    \"estil_literari\": \"simbolisme\",\n",
    "    \"temas_especifics\": \"terror\",\n",
    "    \"complexitat\": \"baixa\",\n",
    "    \"caracteristiques\": \"complexes\",\n",
    "    \"desenvolupament_del_personatge\": \"mitja\",\n",
    "    \"accio_o_reflexio\": \"reflexio\",\n",
    "    \"longitud\": \"llarga\",\n",
    "    \"epoca\": \"futura\",\n",
    "    \"detall_cientific\": \"alta\",\n",
    "    \"llibres_recomanats\": [],\n",
    "    \"puntuacio_llibres\": []\n",
    "}\n",
    "user3 = Usuari(2, att3)\n",
    "print(user3)"
   ]
  },
  {
   "cell_type": "code",
   "execution_count": 3,
   "metadata": {},
   "outputs": [
    {
     "name": "stdout",
     "output_type": "stream",
     "text": [
      "[<utils.Usuari object at 0x1771c4820>, <utils.Usuari object at 0x1771c7520>]\n",
      "[<utils.Usuari object at 0x1771c4820>, <utils.Usuari object at 0x1771c7520>]\n",
      "[<utils.Usuari object at 0x1771c5630>]\n"
     ]
    },
    {
     "ename": "AttributeError",
     "evalue": "'tuple' object has no attribute 'llibres_recomanats'",
     "output_type": "error",
     "traceback": [
      "\u001b[0;31m---------------------------------------------------------------------------\u001b[0m",
      "\u001b[0;31mAttributeError\u001b[0m                            Traceback (most recent call last)",
      "\u001b[1;32m/Users/ucemarc/Documents/GitHub/SBC_practica/prova2.ipynb Celda 4\u001b[0m line \u001b[0;36m2\n\u001b[1;32m      <a href='vscode-notebook-cell:/Users/ucemarc/Documents/GitHub/SBC_practica/prova2.ipynb#X43sZmlsZQ%3D%3D?line=0'>1</a>\u001b[0m cbr \u001b[39m=\u001b[39m CBR([user, user2])\n\u001b[0;32m----> <a href='vscode-notebook-cell:/Users/ucemarc/Documents/GitHub/SBC_practica/prova2.ipynb#X43sZmlsZQ%3D%3D?line=1'>2</a>\u001b[0m llista \u001b[39m=\u001b[39m cbr\u001b[39m.\u001b[39;49mrecomana(user3)\n\u001b[1;32m      <a href='vscode-notebook-cell:/Users/ucemarc/Documents/GitHub/SBC_practica/prova2.ipynb#X43sZmlsZQ%3D%3D?line=2'>3</a>\u001b[0m \u001b[39mprint\u001b[39m(llista)\n",
      "File \u001b[0;32m~/Documents/GitHub/SBC_practica/cbr.py:104\u001b[0m, in \u001b[0;36mCBR.recomana\u001b[0;34m(self, user)\u001b[0m\n\u001b[1;32m    102\u001b[0m user \u001b[39m=\u001b[39m \u001b[39mself\u001b[39m\u001b[39m.\u001b[39mtransform_user_to_numeric(\u001b[39mself\u001b[39m\u001b[39m.\u001b[39mencoder, [user])[\u001b[39m0\u001b[39m]\n\u001b[1;32m    103\u001b[0m users \u001b[39m=\u001b[39m \u001b[39mself\u001b[39m\u001b[39m.\u001b[39mretrieve(user, \u001b[39m\"\u001b[39m\u001b[39mcosine\u001b[39m\u001b[39m\"\u001b[39m)\n\u001b[0;32m--> 104\u001b[0m user \u001b[39m=\u001b[39m \u001b[39mself\u001b[39;49m\u001b[39m.\u001b[39;49mreuse(user, users)\n\u001b[1;32m    105\u001b[0m user \u001b[39m=\u001b[39m \u001b[39mself\u001b[39m\u001b[39m.\u001b[39mrevise(user)\n\u001b[1;32m    106\u001b[0m \u001b[39mself\u001b[39m\u001b[39m.\u001b[39mretain(user)\n",
      "File \u001b[0;32m~/Documents/GitHub/SBC_practica/cbr.py:78\u001b[0m, in \u001b[0;36mCBR.reuse\u001b[0;34m(self, user, users)\u001b[0m\n\u001b[1;32m     74\u001b[0m \u001b[39m\u001b[39m\u001b[39m\"\"\"\u001b[39;00m\n\u001b[1;32m     75\u001b[0m \u001b[39mAgafar tots els llibres dels 5 usuaris més similars\u001b[39;00m\n\u001b[1;32m     76\u001b[0m \u001b[39m\"\"\"\u001b[39;00m\n\u001b[1;32m     77\u001b[0m \u001b[39mfor\u001b[39;00m u \u001b[39min\u001b[39;00m users:\n\u001b[0;32m---> 78\u001b[0m     user\u001b[39m.\u001b[39mllibres_recomanats \u001b[39m+\u001b[39m\u001b[39m=\u001b[39m u\u001b[39m.\u001b[39;49mllibres_recomanats\n\u001b[1;32m     79\u001b[0m     user\u001b[39m.\u001b[39mpuntuacio_llibres \u001b[39m+\u001b[39m\u001b[39m=\u001b[39m u\u001b[39m.\u001b[39mpuntuacio_llibres\n\u001b[1;32m     80\u001b[0m \u001b[39mreturn\u001b[39;00m user\n",
      "\u001b[0;31mAttributeError\u001b[0m: 'tuple' object has no attribute 'llibres_recomanats'"
     ]
    }
   ],
   "source": [
    "cbr = CBR([user, user2])\n",
    "llista = cbr.recomana(user3)\n",
    "print(llista)\n"
   ]
  }
 ],
 "metadata": {
  "kernelspec": {
   "display_name": "Python 3",
   "language": "python",
   "name": "python3"
  },
  "language_info": {
   "codemirror_mode": {
    "name": "ipython",
    "version": 3
   },
   "file_extension": ".py",
   "mimetype": "text/x-python",
   "name": "python",
   "nbconvert_exporter": "python",
   "pygments_lexer": "ipython3",
   "version": "3.10.4"
  }
 },
 "nbformat": 4,
 "nbformat_minor": 2
}
