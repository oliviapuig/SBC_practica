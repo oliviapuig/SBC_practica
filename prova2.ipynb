{
 "cells": [
  {
   "cell_type": "code",
   "execution_count": 1,
   "metadata": {},
   "outputs": [],
   "source": [
    "from sklearn.preprocessing import OneHotEncoder\n",
    "import numpy as np\n",
    "import pandas as pd\n",
    "from sklearn.cluster import KMeans\n",
    "from sklearn.metrics.pairwise import cosine_similarity\n",
    "from sklearn.metrics import DistanceMetric"
   ]
  },
  {
   "cell_type": "code",
   "execution_count": 2,
   "metadata": {},
   "outputs": [],
   "source": [
    "class User:\n",
    "    def __init__(self, ind, attributes):\n",
    "        self.ind = ind\n",
    "        self.attributes = attributes\n",
    "        self.edat = attributes[\"edat\"]\n",
    "        self.estil_literari = attributes[\"estil_literari\"]\n",
    "        self.temas_especifics = attributes[\"temas_especifics\"]\n",
    "        self.complexitat = attributes[\"complexitat\"]\n",
    "        self.caracteristiques = attributes[\"caracteristiques\"]\n",
    "        self.desenvolupament_del_personatge = attributes[\"desenvolupament_del_personatge\"]\n",
    "        self.accio_o_reflexio = attributes[\"accio_o_reflexio\"]\n",
    "        self.longitud = attributes[\"longitud\"]\n",
    "        self.epoca = attributes[\"epoca\"]\n",
    "        self.detall_cientific = attributes[\"detall_cientific\"]\n",
    "\n",
    "        self.vector = []\n",
    "    \n",
    "    def __str__(self):\n",
    "        print(f\"User {self.ind}\")\n",
    "        for key, value in self.attributes.items():\n",
    "            print(f\"{key}: {value}\")\n",
    "        return \"\""
   ]
  },
  {
   "cell_type": "code",
   "execution_count": 3,
   "metadata": {},
   "outputs": [
    {
     "name": "stdout",
     "output_type": "stream",
     "text": [
      "User 1\n",
      "edat: 20\n",
      "estil_literari: realisme\n",
      "temas_especifics: amor\n",
      "complexitat: baixa\n",
      "caracteristiques: simples\n",
      "desenvolupament_del_personatge: alt\n",
      "accio_o_reflexio: accio\n",
      "longitud: mitjana\n",
      "epoca: actual\n",
      "detall_cientific: baix\n",
      "\n"
     ]
    }
   ],
   "source": [
    "att = {\n",
    "    \"edat\": 20,\n",
    "    \"estil_literari\": \"realisme\",\n",
    "    \"temas_especifics\": \"amor\",\n",
    "    \"complexitat\": \"baixa\",\n",
    "    \"caracteristiques\": \"simples\",\n",
    "    \"desenvolupament_del_personatge\": \"alt\",\n",
    "    \"accio_o_reflexio\": \"accio\",\n",
    "    \"longitud\": \"mitjana\",\n",
    "    \"epoca\": \"actual\",\n",
    "    \"detall_cientific\": \"baix\"\n",
    "}\n",
    "user = User(1, att)\n",
    "\n",
    "att2 = {\n",
    "    \"edat\": 50,\n",
    "    \"estil_literari\": \"simbolisme\",\n",
    "    \"temas_especifics\": \"terror\",\n",
    "    \"complexitat\": \"alta\",\n",
    "    \"caracteristiques\": \"complexes\",\n",
    "    \"desenvolupament_del_personatge\": \"mitja\",\n",
    "    \"accio_o_reflexio\": \"reflexio\",\n",
    "    \"longitud\": \"llarga\",\n",
    "    \"epoca\": \"futura\",\n",
    "    \"detall_cientific\": \"alta\"\n",
    "}\n",
    "user2 = User(2, att2)\n",
    "\n",
    "att3 = {\n",
    "    \"edat\": 50,\n",
    "    \"estil_literari\": \"simbolisme\",\n",
    "    \"temas_especifics\": \"terror\",\n",
    "    \"complexitat\": \"baixa\",\n",
    "    \"caracteristiques\": \"complexes\",\n",
    "    \"desenvolupament_del_personatge\": \"mitja\",\n",
    "    \"accio_o_reflexio\": \"reflexio\",\n",
    "    \"longitud\": \"llarga\",\n",
    "    \"epoca\": \"futura\",\n",
    "    \"detall_cientific\": \"alta\"\n",
    "}\n",
    "user3 = User(3, att3)\n",
    "print(user)"
   ]
  },
  {
   "cell_type": "code",
   "execution_count": 4,
   "metadata": {},
   "outputs": [],
   "source": [
    "class CBR:\n",
    "    def __init__(self, users):\n",
    "        self.users = users\n",
    "    \n",
    "    def __str__(self):\n",
    "        for user in self.users:\n",
    "            print(user)\n",
    "        return \"\"\n",
    "    \n",
    "    def get_users(self):\n",
    "        return self.users\n",
    "    \n",
    "    def get_encoder(self):\n",
    "        categories = [\n",
    "            [\"realisme\", \"romanticisme\", \"naturalisme\", \"simbolisme\", \"modernisme\", \"realisme magico\", \"postmodernisme\"],\n",
    "            [\"amor\", \"aventura\", \"terror\", \"fantasia\", \"ciencia ficcio\", \"historica\", \"filosofica\", \"psicologica\", \"social\", \"politica\", \"religiosa\", \"erotica\", \"humoristica\", \"costumista\", \"negra\", \"realista\", \"fantastica\", \"mitologica\", \"poetica\", \"satirica\", \"biografica\", \"epica\", \"didactica\", \"teatral\", \"lirica\", \"epistolar\", \"dramatica\", \"epica\", \"didactica\", \"teatral\", \"lirica\", \"epistolar\", \"dramatica\"],\n",
    "            [\"baixa\", \"mitjana\", \"alta\"],\n",
    "            [\"simples\", \"complexes\"],\n",
    "            [\"baix\", \"mitja\", \"alt\"],\n",
    "            [\"accio\", \"reflexio\"],\n",
    "            [\"curta\", \"mitjana\", \"llarga\"],\n",
    "            [\"actual\", \"passada\", \"futura\"],\n",
    "            [\"baix\", \"mitja\", \"alta\"]\n",
    "        ]\n",
    "        encoder = OneHotEncoder(categories=categories, sparse_output=False)\n",
    "        encoder.fit([[\"realisme\", \"amor\", \"baixa\", \"simples\", \"baix\", \"accio\", \"curta\", \"actual\", \"baix\"]])\n",
    "        return encoder\n",
    "    \n",
    "    def transform_user_to_numeric(self, encoder, users):\n",
    "        for user in users:\n",
    "            categorical_attributes = []\n",
    "            numeric_attributes = []\n",
    "            for key, value in user.attributes.items():\n",
    "                if isinstance(value, str):\n",
    "                    categorical_attributes.append(value)\n",
    "                else:\n",
    "                    numeric_attributes.append(value/100)\n",
    "\n",
    "            transformed_categorical_data = encoder.transform([categorical_attributes])\n",
    "            combined_data = np.hstack((numeric_attributes, transformed_categorical_data[0]))\n",
    "\n",
    "            user.vector = combined_data\n",
    "\n",
    "        return users\n",
    "    \n",
    "    def similarity(self, user1, user2, metric):\n",
    "        if metric == \"hamming\":\n",
    "            # Hamming distance\n",
    "            dist = DistanceMetric.get_metric('hamming')\n",
    "            return dist.pairwise([user1.vector], [user2.vector])[0][0]\n",
    "        elif metric == \"cosine\":\n",
    "            return cosine_similarity([user1.vector], [user2.vector])[0][0]\n",
    "        \n",
    "    def retrieve(self, user, metric):\n",
    "        \"\"\"\n",
    "        Return 5 most similar users\n",
    "        \"\"\"\n",
    "        similarities = []\n",
    "        for u in self.users:\n",
    "            similarities.append((u, self.similarity(user, u, metric)))\n",
    "        similarities.sort(key=lambda x: x[1], reverse=True)\n",
    "        return similarities[:5]"
   ]
  },
  {
   "cell_type": "code",
   "execution_count": 5,
   "metadata": {},
   "outputs": [],
   "source": [
    "cbr = CBR([user, user2, user3])\n",
    "encoder = cbr.get_encoder()\n",
    "users = cbr.transform_user_to_numeric(encoder, cbr.get_users())"
   ]
  },
  {
   "cell_type": "code",
   "execution_count": 6,
   "metadata": {},
   "outputs": [
    {
     "name": "stdout",
     "output_type": "stream",
     "text": [
      "[0.2 1.  0.  0.  0.  0.  0.  0.  1.  0.  0.  0.  0.  0.  0.  0.  0.  0.\n",
      " 0.  0.  0.  0.  0.  0.  0.  0.  0.  0.  0.  0.  0.  0.  0.  0.  0.  0.\n",
      " 0.  0.  0.  0.  0.  1.  0.  0.  1.  0.  0.  0.  1.  1.  0.  0.  1.  0.\n",
      " 1.  0.  0.  1.  0.  0. ]\n",
      "[0.5 0.  0.  0.  1.  0.  0.  0.  0.  0.  1.  0.  0.  0.  0.  0.  0.  0.\n",
      " 0.  0.  0.  0.  0.  0.  0.  0.  0.  0.  0.  0.  0.  0.  0.  0.  0.  0.\n",
      " 0.  0.  0.  0.  0.  0.  0.  1.  0.  1.  0.  1.  0.  0.  1.  0.  0.  1.\n",
      " 0.  0.  1.  0.  0.  1. ]\n",
      "[0.5 0.  0.  0.  1.  0.  0.  0.  0.  0.  1.  0.  0.  0.  0.  0.  0.  0.\n",
      " 0.  0.  0.  0.  0.  0.  0.  0.  0.  0.  0.  0.  0.  0.  0.  0.  0.  0.\n",
      " 0.  0.  0.  0.  0.  1.  0.  0.  0.  1.  0.  1.  0.  0.  1.  0.  0.  1.\n",
      " 0.  0.  1.  0.  0.  1. ]\n"
     ]
    }
   ],
   "source": [
    "print(cbr.get_users()[0].vector)\n",
    "print(cbr.get_users()[1].vector)\n",
    "print(cbr.get_users()[2].vector)"
   ]
  },
  {
   "cell_type": "code",
   "execution_count": 7,
   "metadata": {},
   "outputs": [
    {
     "name": "stdout",
     "output_type": "stream",
     "text": [
      "Cosine\n",
      "0.010935657966662841\n",
      "0.8918918918918919\n",
      "Hamming\n",
      "0.31666666666666665\n",
      "0.03333333333333333\n"
     ]
    }
   ],
   "source": [
    "print(\"Cosine\")\n",
    "print(cbr.similarity(cbr.get_users()[0], cbr.get_users()[1], \"cosine\"))\n",
    "print(cbr.similarity(cbr.get_users()[1], cbr.get_users()[2], \"cosine\"))\n",
    "print(\"Hamming\")\n",
    "print(cbr.similarity(cbr.get_users()[0], cbr.get_users()[1], \"hamming\"))\n",
    "print(cbr.similarity(cbr.get_users()[1], cbr.get_users()[2], \"hamming\"))"
   ]
  }
 ],
 "metadata": {
  "kernelspec": {
   "display_name": "Python 3",
   "language": "python",
   "name": "python3"
  },
  "language_info": {
   "codemirror_mode": {
    "name": "ipython",
    "version": 3
   },
   "file_extension": ".py",
   "mimetype": "text/x-python",
   "name": "python",
   "nbconvert_exporter": "python",
   "pygments_lexer": "ipython3",
   "version": "3.10.4"
  }
 },
 "nbformat": 4,
 "nbformat_minor": 2
}
