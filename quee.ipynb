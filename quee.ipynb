{
 "cells": [
  {
   "cell_type": "code",
   "execution_count": 13,
   "metadata": {},
   "outputs": [],
   "source": [
    "import pandas as pd\n",
    "import pickle"
   ]
  },
  {
   "cell_type": "code",
   "execution_count": 14,
   "metadata": {},
   "outputs": [
    {
     "name": "stderr",
     "output_type": "stream",
     "text": [
      "/Library/Frameworks/Python.framework/Versions/3.12/lib/python3.12/site-packages/sklearn/base.py:348: InconsistentVersionWarning: Trying to unpickle estimator KMeans from version 1.2.2 when using version 1.3.2. This might lead to breaking code or invalid results. Use at your own risk. For more info please refer to:\n",
      "https://scikit-learn.org/stable/model_persistence.html#security-maintainability-limitations\n",
      "  warnings.warn(\n"
     ]
    }
   ],
   "source": [
    "# llegir archivo pkl\n",
    "with open('data/clustering/model_clustering_llibres.pkl', 'rb') as f:\n",
    "    kmeans = pickle.load(f)\n",
    "    \n",
    "# Open casos pickle file\n",
    "with open('data/casos.pkl', 'rb') as df:\n",
    "    casos = pickle.load(df)"
   ]
  },
  {
   "cell_type": "code",
   "execution_count": 15,
   "metadata": {},
   "outputs": [
    {
     "name": "stderr",
     "output_type": "stream",
     "text": [
      "/Library/Frameworks/Python.framework/Versions/3.12/lib/python3.12/site-packages/sklearn/base.py:348: InconsistentVersionWarning: Trying to unpickle estimator KMeans from version 1.2.2 when using version 1.3.2. This might lead to breaking code or invalid results. Use at your own risk. For more info please refer to:\n",
      "https://scikit-learn.org/stable/model_persistence.html#security-maintainability-limitations\n",
      "  warnings.warn(\n"
     ]
    }
   ],
   "source": [
    "# Open kmeans pickle file\n",
    "with open('data/clustering/model_clustering_llibres.pkl', 'rb') as f:\n",
    "    kmeans = pickle.load(f)"
   ]
  },
  {
   "cell_type": "code",
   "execution_count": 16,
   "metadata": {},
   "outputs": [
    {
     "name": "stdout",
     "output_type": "stream",
     "text": [
      "      Cluster_0  Cluster_1  Cluster_2  Cluster_3  Cluster_4\n",
      "0      0.884500   0.642203   0.828265   0.654891   0.725704\n",
      "1      0.699375   0.667045   0.846271   0.691565   0.553339\n",
      "2      0.575030   0.821311   0.718187   0.860480   0.722420\n",
      "3      0.657895   0.868196   0.765010   0.885900   0.799563\n",
      "4      0.849363   0.668218   0.857227   0.696724   0.697404\n",
      "...         ...        ...        ...        ...        ...\n",
      "1596   0.801389   0.720735   0.884537   0.699499   0.643980\n",
      "1597   0.715854   0.755904   0.770344   0.886011   0.796541\n",
      "1598   0.665769   0.870463   0.729366   0.806983   0.793846\n",
      "1599   0.763092   0.880879   0.759314   0.813686   0.874714\n",
      "1600   0.829407   0.658168   0.820130   0.646888   0.687009\n",
      "\n",
      "[1601 rows x 5 columns]\n"
     ]
    }
   ],
   "source": [
    "from sklearn.metrics.pairwise import cosine_similarity\n",
    "\n",
    "# Obtain centroids\n",
    "centroides = kmeans.cluster_centers_\n",
    "\n",
    "casos = casos['vector'].tolist()\n",
    "# Calcular similitud del coseno entre cada caso y cada centroide\n",
    "similitudes = cosine_similarity(casos, centroides)\n",
    "\n",
    "# Crear un DataFrame con los resultados\n",
    "resultado_similitudes = pd.DataFrame(similitudes, columns=[f'Cluster_{i}' for i in range(centroides.shape[0])])\n",
    "\n",
    "print(resultado_similitudes)\n"
   ]
  },
  {
   "cell_type": "code",
   "execution_count": 17,
   "metadata": {},
   "outputs": [
    {
     "name": "stdout",
     "output_type": "stream",
     "text": [
      "0       Cluster_0\n",
      "1       Cluster_2\n",
      "2       Cluster_3\n",
      "3       Cluster_3\n",
      "4       Cluster_2\n",
      "          ...    \n",
      "1596    Cluster_2\n",
      "1597    Cluster_3\n",
      "1598    Cluster_1\n",
      "1599    Cluster_1\n",
      "1600    Cluster_0\n",
      "Length: 1601, dtype: object\n"
     ]
    }
   ],
   "source": [
    "# buscar el cluster libro mas similar a nuestro usuario\n",
    "cluster = resultado_similitudes.idxmax(axis=1)\n",
    "print(cluster)"
   ]
  },
  {
   "cell_type": "code",
   "execution_count": 19,
   "metadata": {},
   "outputs": [
    {
     "name": "stdout",
     "output_type": "stream",
     "text": [
      "El usuario 0 pertenece al cluster Cluster_0\n"
     ]
    },
    {
     "ename": "IndexError",
     "evalue": "only integers, slices (`:`), ellipsis (`...`), numpy.newaxis (`None`) and integer or boolean arrays are valid indices",
     "output_type": "error",
     "traceback": [
      "\u001b[0;31m---------------------------------------------------------------------------\u001b[0m",
      "\u001b[0;31mIndexError\u001b[0m                                Traceback (most recent call last)",
      "Cell \u001b[0;32mIn[19], line 6\u001b[0m\n\u001b[1;32m      4\u001b[0m \u001b[38;5;28;01mfor\u001b[39;00m i \u001b[38;5;129;01min\u001b[39;00m \u001b[38;5;28mrange\u001b[39m(\u001b[38;5;241m0\u001b[39m, \u001b[38;5;28mlen\u001b[39m(cluster)):\n\u001b[1;32m      5\u001b[0m     \u001b[38;5;28mprint\u001b[39m(\u001b[38;5;124mf\u001b[39m\u001b[38;5;124m'\u001b[39m\u001b[38;5;124mEl usuario \u001b[39m\u001b[38;5;132;01m{\u001b[39;00mi\u001b[38;5;132;01m}\u001b[39;00m\u001b[38;5;124m pertenece al cluster \u001b[39m\u001b[38;5;132;01m{\u001b[39;00mcluster[i]\u001b[38;5;132;01m}\u001b[39;00m\u001b[38;5;124m'\u001b[39m)\n\u001b[0;32m----> 6\u001b[0m     \u001b[38;5;28mprint\u001b[39m(\u001b[38;5;124mf\u001b[39m\u001b[38;5;124m'\u001b[39m\u001b[38;5;124mEl libro con mas puntuacion del cluster \u001b[39m\u001b[38;5;132;01m{\u001b[39;00mcluster[i]\u001b[38;5;132;01m}\u001b[39;00m\u001b[38;5;124m es: \u001b[39m\u001b[38;5;132;01m{\u001b[39;00m\u001b[43mcasos\u001b[49m\u001b[43m[\u001b[49m\u001b[43mi\u001b[49m\u001b[43m]\u001b[49m\u001b[43m[\u001b[49m\u001b[43mcluster\u001b[49m\u001b[43m[\u001b[49m\u001b[43mi\u001b[49m\u001b[43m]\u001b[49m\u001b[43m]\u001b[49m\u001b[38;5;132;01m}\u001b[39;00m\u001b[38;5;124m'\u001b[39m)\n\u001b[1;32m      7\u001b[0m     \u001b[38;5;28mprint\u001b[39m(\u001b[38;5;124m'\u001b[39m\u001b[38;5;124m---------------------------------\u001b[39m\u001b[38;5;124m'\u001b[39m)\n",
      "\u001b[0;31mIndexError\u001b[0m: only integers, slices (`:`), ellipsis (`...`), numpy.newaxis (`None`) and integer or boolean arrays are valid indices"
     ]
    }
   ],
   "source": [
    "import numpy as np\n",
    "# segun el cluster que pertenece cada usuario, buscar el libro con mas puntuacion dentro de ese cluster\n"
   ]
  }
 ],
 "metadata": {
  "kernelspec": {
   "display_name": "Python 3",
   "language": "python",
   "name": "python3"
  },
  "language_info": {
   "codemirror_mode": {
    "name": "ipython",
    "version": 3
   },
   "file_extension": ".py",
   "mimetype": "text/x-python",
   "name": "python",
   "nbconvert_exporter": "python",
   "pygments_lexer": "ipython3",
   "version": "3.12.0"
  }
 },
 "nbformat": 4,
 "nbformat_minor": 2
}
