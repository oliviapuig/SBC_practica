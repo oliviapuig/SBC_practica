{
 "cells": [
  {
   "cell_type": "code",
   "execution_count": 1,
   "metadata": {},
   "outputs": [],
   "source": [
    "import pandas as pd\n",
    "import pickle"
   ]
  },
  {
   "cell_type": "code",
   "execution_count": 2,
   "metadata": {},
   "outputs": [
    {
     "name": "stderr",
     "output_type": "stream",
     "text": [
      "/Library/Frameworks/Python.framework/Versions/3.12/lib/python3.12/site-packages/sklearn/base.py:348: InconsistentVersionWarning: Trying to unpickle estimator KMeans from version 1.2.2 when using version 1.3.2. This might lead to breaking code or invalid results. Use at your own risk. For more info please refer to:\n",
      "https://scikit-learn.org/stable/model_persistence.html#security-maintainability-limitations\n",
      "  warnings.warn(\n"
     ]
    }
   ],
   "source": [
    "# llegir archivo pkl\n",
    "with open('data/clustering/model_clustering_llibres.pkl', 'rb') as f:\n",
    "    kmeans = pickle.load(f)\n",
    "    \n",
    "# Open casos pickle file\n",
    "with open('data/casos.pkl', 'rb') as df:\n",
    "    casos = pickle.load(df)"
   ]
  },
  {
   "cell_type": "code",
   "execution_count": 3,
   "metadata": {},
   "outputs": [
    {
     "name": "stderr",
     "output_type": "stream",
     "text": [
      "/Library/Frameworks/Python.framework/Versions/3.12/lib/python3.12/site-packages/sklearn/base.py:348: InconsistentVersionWarning: Trying to unpickle estimator KMeans from version 1.2.2 when using version 1.3.2. This might lead to breaking code or invalid results. Use at your own risk. For more info please refer to:\n",
      "https://scikit-learn.org/stable/model_persistence.html#security-maintainability-limitations\n",
      "  warnings.warn(\n"
     ]
    }
   ],
   "source": [
    "# Open kmeans pickle file\n",
    "with open('data/clustering/model_clustering_llibres.pkl', 'rb') as f:\n",
    "    kmeans = pickle.load(f)"
   ]
  },
  {
   "cell_type": "code",
   "execution_count": 4,
   "metadata": {},
   "outputs": [
    {
     "name": "stdout",
     "output_type": "stream",
     "text": [
      "      Cluster_0  Cluster_1  Cluster_2  Cluster_3  Cluster_4\n",
      "0      0.884500   0.642203   0.828265   0.654891   0.725704\n",
      "1      0.699375   0.667045   0.846271   0.691565   0.553339\n",
      "2      0.575030   0.821311   0.718187   0.860480   0.722420\n",
      "3      0.657895   0.868196   0.765010   0.885900   0.799563\n",
      "4      0.849363   0.668218   0.857227   0.696724   0.697404\n",
      "...         ...        ...        ...        ...        ...\n",
      "1596   0.801389   0.720735   0.884537   0.699499   0.643980\n",
      "1597   0.715854   0.755904   0.770344   0.886011   0.796541\n",
      "1598   0.665769   0.870463   0.729366   0.806983   0.793846\n",
      "1599   0.763092   0.880879   0.759314   0.813686   0.874714\n",
      "1600   0.829407   0.658168   0.820130   0.646888   0.687009\n",
      "\n",
      "[1601 rows x 5 columns]\n"
     ]
    }
   ],
   "source": [
    "from sklearn.metrics.pairwise import cosine_similarity\n",
    "\n",
    "# Obtain centroids\n",
    "centroides = kmeans.cluster_centers_\n",
    "\n",
    "casos = casos['vector'].tolist()\n",
    "# Calcular similitud del coseno entre cada caso y cada centroide\n",
    "similitudes = cosine_similarity(casos, centroides)\n",
    "\n",
    "# Crear un DataFrame con los resultados\n",
    "resultado_similitudes = pd.DataFrame(similitudes, columns=[f'Cluster_{i}' for i in range(centroides.shape[0])])\n",
    "\n",
    "print(resultado_similitudes)\n"
   ]
  },
  {
   "cell_type": "code",
   "execution_count": 5,
   "metadata": {},
   "outputs": [
    {
     "name": "stdout",
     "output_type": "stream",
     "text": [
      "0       Cluster_0\n",
      "1       Cluster_2\n",
      "2       Cluster_3\n",
      "3       Cluster_3\n",
      "4       Cluster_2\n",
      "          ...    \n",
      "1596    Cluster_2\n",
      "1597    Cluster_3\n",
      "1598    Cluster_1\n",
      "1599    Cluster_1\n",
      "1600    Cluster_0\n",
      "Length: 1601, dtype: object\n"
     ]
    }
   ],
   "source": [
    "# buscar el cluster libro mas similar a nuestro usuario\n",
    "cluster = resultado_similitudes.idxmax(axis=1)\n",
    "print(cluster)"
   ]
  },
  {
   "cell_type": "code",
   "execution_count": 6,
   "metadata": {},
   "outputs": [],
   "source": [
    "# crear chatbot on pregunti si vol ser innovador o tradicional\n",
    "# si vol innovador, li recomanem llibres del cluster més proper a l'usuari\n",
    "# si vol tradicional, li recomanem llibres del mateix cluster de l'usuari"
   ]
  },
  {
   "cell_type": "code",
   "execution_count": 7,
   "metadata": {},
   "outputs": [],
   "source": [
    "def obtener_libros_del_cluster(cluster, casos):\n",
    "    libros = casos[cluster == cluster]\n",
    "    return libros, libros.index"
   ]
  },
  {
   "cell_type": "code",
   "execution_count": 11,
   "metadata": {},
   "outputs": [],
   "source": [
    "import random\n",
    "import numpy as np\n",
    "import pandas as pd\n",
    "from sklearn.metrics.pairwise import cosine_similarity"
   ]
  },
  {
   "cell_type": "code",
   "execution_count": 14,
   "metadata": {},
   "outputs": [
    {
     "name": "stdout",
     "output_type": "stream",
     "text": [
      "\n",
      "Usuario: 0, Cluster: Cluster_0\n"
     ]
    },
    {
     "ename": "AttributeError",
     "evalue": "'numpy.ndarray' object has no attribute 'index'",
     "output_type": "error",
     "traceback": [
      "\u001b[0;31m---------------------------------------------------------------------------\u001b[0m",
      "\u001b[0;31mAttributeError\u001b[0m                            Traceback (most recent call last)",
      "Cell \u001b[0;32mIn[14], line 13\u001b[0m\n\u001b[1;32m      9\u001b[0m \u001b[38;5;28;01mif\u001b[39;00m preferencia_usuario \u001b[38;5;241m==\u001b[39m \u001b[38;5;124m'\u001b[39m\u001b[38;5;124mexplorador\u001b[39m\u001b[38;5;124m'\u001b[39m:\n\u001b[1;32m     10\u001b[0m     \u001b[38;5;66;03m# Coge un libro random del cluster de al lado\u001b[39;00m\n\u001b[1;32m     11\u001b[0m     \u001b[38;5;66;03m# calcular cluster mas proximo con medida de similitud\u001b[39;00m\n\u001b[1;32m     12\u001b[0m     cluster_mas_proximo \u001b[38;5;241m=\u001b[39m resultado_similitudes\u001b[38;5;241m.\u001b[39miloc[usuario]\u001b[38;5;241m.\u001b[39midxmax()\n\u001b[0;32m---> 13\u001b[0m     recomendaciones \u001b[38;5;241m=\u001b[39m \u001b[43mobtener_libros_del_cluster\u001b[49m\u001b[43m(\u001b[49m\u001b[43mcluster_mas_proximo\u001b[49m\u001b[43m,\u001b[49m\u001b[43m \u001b[49m\u001b[43mcasos\u001b[49m\u001b[43m)\u001b[49m\n\u001b[1;32m     15\u001b[0m \u001b[38;5;28;01melif\u001b[39;00m preferencia_usuario \u001b[38;5;241m==\u001b[39m \u001b[38;5;124m'\u001b[39m\u001b[38;5;124mtradicional\u001b[39m\u001b[38;5;124m'\u001b[39m:\n\u001b[1;32m     16\u001b[0m     \u001b[38;5;66;03m# Coge un libro random del cluster del usuario\u001b[39;00m\n\u001b[1;32m     17\u001b[0m     recomendaciones, _ \u001b[38;5;241m=\u001b[39m obtener_libros_del_cluster(cluster_usuario, casos)\n",
      "Cell \u001b[0;32mIn[7], line 3\u001b[0m, in \u001b[0;36mobtener_libros_del_cluster\u001b[0;34m(cluster, casos)\u001b[0m\n\u001b[1;32m      1\u001b[0m \u001b[38;5;28;01mdef\u001b[39;00m \u001b[38;5;21mobtener_libros_del_cluster\u001b[39m(cluster, casos):\n\u001b[1;32m      2\u001b[0m     libros \u001b[38;5;241m=\u001b[39m casos[cluster \u001b[38;5;241m==\u001b[39m cluster]\n\u001b[0;32m----> 3\u001b[0m     \u001b[38;5;28;01mreturn\u001b[39;00m libros, \u001b[43mlibros\u001b[49m\u001b[38;5;241;43m.\u001b[39;49m\u001b[43mindex\u001b[49m\n",
      "\u001b[0;31mAttributeError\u001b[0m: 'numpy.ndarray' object has no attribute 'index'"
     ]
    }
   ],
   "source": [
    "# Flujo de preguntas basadas en preferencias del usuario\n",
    "for usuario, cluster_usuario in enumerate(cluster):\n",
    "    print(f\"\\nUsuario: {usuario}, Cluster: {cluster_usuario}\")\n",
    "\n",
    "    # Pregunta al usuario si es explorador o tradicional\n",
    "    preferencia_usuario = input(\" Ets explorador o tradicional? \").lower()\n",
    "\n",
    "    # Obtén recomendación basada en la preferencia del usuario\n",
    "    if preferencia_usuario == 'explorador':\n",
    "        # Coge un libro random del cluster de al lado\n",
    "        # calcular cluster mas proximo con medida de similitud\n",
    "        cluster_mas_proximo = resultado_similitudes.iloc[usuario].idxmax()\n",
    "        recomendaciones = obtener_libros_del_cluster(cluster_mas_proximo, casos)\n",
    "        \n",
    "    elif preferencia_usuario == 'tradicional':\n",
    "        # Coge un libro random del cluster del usuario\n",
    "        recomendaciones, _ = obtener_libros_del_cluster(cluster_usuario, casos)\n",
    "    else:\n",
    "        print(\"Opción no válida. Por favor, responde 'explorador' o 'tradicional'.\")\n",
    "        continue\n",
    "\n",
    "    # Muestra las recomendaciones al usuario\n",
    "    print(\"\\nTe recomiendo los siguientes libros:\")\n",
    "    for recomendacion in recomendaciones.sample(5).index:\n",
    "        print(f\" - {recomendacion}\")\n",
    "        \n",
    "\n",
    "print(\"\\nEspero que encuentres algo interesante. ¡Disfruta de la lectura!\")\n"
   ]
  }
 ],
 "metadata": {
  "kernelspec": {
   "display_name": "Python 3",
   "language": "python",
   "name": "python3"
  },
  "language_info": {
   "codemirror_mode": {
    "name": "ipython",
    "version": 3
   },
   "file_extension": ".py",
   "mimetype": "text/x-python",
   "name": "python",
   "nbconvert_exporter": "python",
   "pygments_lexer": "ipython3",
   "version": "3.12.0"
  }
 },
 "nbformat": 4,
 "nbformat_minor": 2
}
