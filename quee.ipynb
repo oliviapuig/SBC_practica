{
 "cells": [
  {
   "cell_type": "code",
   "execution_count": 1,
   "metadata": {},
   "outputs": [],
   "source": [
    "import pandas as pd\n",
    "import pickle"
   ]
  },
  {
   "cell_type": "code",
   "execution_count": 2,
   "metadata": {},
   "outputs": [],
   "source": [
    "# Cargar el archivo pickle\n",
    "with open('casos_cluster.pkl', 'rb') as f:\n",
    "    casos_cluster = pickle.load(f)\n",
    "\n",
    "# Convertir el diccionario a un DataFrame de pandas\n",
    "df = pd.DataFrame.from_dict(casos_cluster)\n",
    "\n",
    "# Guardar el DataFrame en un archivo CSV\n",
    "df.to_csv('casos_cluster.csv', index=False)"
   ]
  },
  {
   "cell_type": "code",
   "execution_count": 7,
   "metadata": {},
   "outputs": [],
   "source": [
    "# función para calcular los centroides de los clusters en llibres_cluster\n",
    "def calcular_centroides(llibres_cluster):\n",
    "    # agrupar los libros por cluster\n",
    "    grupos = llibres_cluster.groupby('cluster')\n",
    "    # calcular el centroide de cada cluster\n",
    "    for cluster, grupo in grupos:\n",
    "        # calcular el centroide del cluster\n",
    "        centroide = grupo.mean(axis=0)\n",
    "        centroide['cluster'] = cluster\n",
    "        centroide = centroide.append(centroide, ignore_index=True)\n",
    "    return llibres_cluster\n",
    "    "
   ]
  }
 ],
 "metadata": {
  "kernelspec": {
   "display_name": "Python 3",
   "language": "python",
   "name": "python3"
  },
  "language_info": {
   "codemirror_mode": {
    "name": "ipython",
    "version": 3
   },
   "file_extension": ".py",
   "mimetype": "text/x-python",
   "name": "python",
   "nbconvert_exporter": "python",
   "pygments_lexer": "ipython3",
   "version": "3.12.0"
  }
 },
 "nbformat": 4,
 "nbformat_minor": 2
}
