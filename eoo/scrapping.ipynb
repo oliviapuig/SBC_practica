{
 "cells": [
  {
   "cell_type": "code",
   "execution_count": 14,
   "metadata": {},
   "outputs": [
    {
     "name": "stdout",
     "output_type": "stream",
     "text": [
      "Las primeras 500 filas del archivo JSON fueron descargadas exitosamente.\n"
     ]
    }
   ],
   "source": [
    "import requests\n",
    "import gzip\n",
    "import json\n",
    "\n",
    "# URL del archivo JSON comprimido\n",
    "url = 'https://datarepo.eng.ucsd.edu/mcauley_group/gdrive/goodreads/goodreads_reviews_dedup.json.gz'\n",
    "\n",
    "# Realizar la solicitud GET al servidor\n",
    "response = requests.get(url, stream=True)\n",
    "\n",
    "# Verificar si la solicitud fue exitosa (código de estado 200)\n",
    "if response.status_code == 200:\n",
    "    # Descomprimir el contenido del archivo\n",
    "    with gzip.GzipFile(fileobj=response.raw) as f:\n",
    "        # Leer las primeras 500 filas del JSON\n",
    "        primeras_500_filas = [json.loads(next(f)[:-1].decode('utf-8')) for _ in range(50000)]\n",
    "\n",
    "    # Guardar las primeras 500 filas en un nuevo archivo JSON\n",
    "    with open('eoo.json', 'w', encoding='utf-8') as file:\n",
    "        json.dump(primeras_500_filas, file, indent=2)\n",
    "\n",
    "    print(\"Las primeras 500 filas del archivo JSON fueron descargadas exitosamente.\")\n",
    "else:\n",
    "    print(f\"Error al descargar el archivo. Código de estado: {response.status_code}\")"
   ]
  },
  {
   "cell_type": "code",
   "execution_count": 15,
   "metadata": {},
   "outputs": [],
   "source": [
    "import pandas as pd\n",
    "# Read eoo.json only user_id, book_id, rating\n",
    "df = pd.read_json('eoo.json')\n",
    "df = df[['user_id', 'book_id', 'rating']]"
   ]
  },
  {
   "cell_type": "code",
   "execution_count": 16,
   "metadata": {},
   "outputs": [
    {
     "data": {
      "image/png": "[encoded data removed]",
      "text/plain": [
       "<Figure size 1000x600 with 1 Axes>"
      ]
     },
     "metadata": {},
     "output_type": "display_data"
    }
   ],
   "source": [
    "# Plot rating distribution\n",
    "import matplotlib.pyplot as plt\n",
    "import seaborn as sns\n",
    "sns.set_style('darkgrid')\n",
    "plt.figure(figsize=(10, 6))\n",
    "sns.countplot(x='rating', data=df)\n",
    "plt.xlabel('Rating')\n",
    "plt.ylabel('Count')\n",
    "plt.title('Rating Distribution')\n",
    "plt.show()"
   ]
  },
  {
   "cell_type": "code",
   "execution_count": 18,
   "metadata": {},
   "outputs": [
    {
     "name": "stdout",
     "output_type": "stream",
     "text": [
      "1014\n"
     ]
    }
   ],
   "source": [
    "# Give me unique users\n",
    "unique_users = df['user_id'].unique()"
   ]
  },
  {
   "cell_type": "code",
   "execution_count": null,
   "metadata": {},
   "outputs": [],
   "source": [
    "# Make a database with unique users, list of books rated and list of rating for each book\n",
    "for user in unique_users:\n",
    "    # Filter by user\n",
    "    user_df = df[df['user_id'] == user]\n",
    "    # Get list of books rated by user\n",
    "    books = user_df['book_id'].tolist()\n",
    "    # Get list of ratings for each book\n",
    "    ratings = user_df['rating'].tolist()\n",
    "    # Create a dictionary with books and ratings\n",
    "    user_dict = dict(zip(books, ratings))\n",
    "    # Save dictionary in a file\n",
    "    with open(f'users/{user}.json', 'w', encoding='utf-8') as file:\n",
    "        json.dump(user_dict, file, indent=2)\n"
   ]
  },
  {
   "cell_type": "code",
   "execution_count": 4,
   "metadata": {},
   "outputs": [
    {
     "name": "stdout",
     "output_type": "stream",
     "text": [
      "Las primeras 500 filas del archivo JSON fueron descargadas exitosamente.\n"
     ]
    }
   ],
   "source": [
    "url='https://datarepo.eng.ucsd.edu/mcauley_group/gdrive/goodreads/goodreads_books.json.gz'\n",
    "\n",
    "# Realizar la solicitud GET al servidor\n",
    "response = requests.get(url, stream=True)\n",
    "\n",
    "# Verificar si la solicitud fue exitosa (código de estado 200)\n",
    "if response.status_code == 200:\n",
    "    # Descomprimir el contenido del archivo\n",
    "    with gzip.GzipFile(fileobj=response.raw) as f:\n",
    "        # Leer las primeras 500 filas del JSON\n",
    "        primeras_500_filas = [json.loads(next(f)[:-1].decode('utf-8')) for _ in range(500)]\n",
    "\n",
    "    # Guardar las primeras 500 filas en un nuevo archivo JSON\n",
    "    with open('500_llibres.json', 'w', encoding='utf-8') as file:\n",
    "        json.dump(primeras_500_filas, file, indent=2)\n",
    "\n",
    "    print(\"Las primeras 500 filas del archivo JSON fueron descargadas exitosamente.\")\n",
    "else:\n",
    "    print(f\"Error al descargar el archivo. Código de estado: {response.status_code}\")"
   ]
  }
 ],
 "metadata": {
  "kernelspec": {
   "display_name": "Python 3",
   "language": "python",
   "name": "python3"
  },
  "language_info": {
   "codemirror_mode": {
    "name": "ipython",
    "version": 3
   },
   "file_extension": ".py",
   "mimetype": "text/x-python",
   "name": "python",
   "nbconvert_exporter": "python",
   "pygments_lexer": "ipython3",
   "version": "3.10.4"
  },
  "orig_nbformat": 4
 },
 "nbformat": 4,
 "nbformat_minor": 2
}
