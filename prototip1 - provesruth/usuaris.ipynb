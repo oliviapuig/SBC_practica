{
 "cells": [
  {
   "cell_type": "code",
   "execution_count": 27,
   "metadata": {},
   "outputs": [],
   "source": [
    "import pickle\n",
    "import random\n",
    "import matplotlib.pyplot as plt\n",
    "from collections import Counter\n",
    "import pandas as pd\n",
    "from utils import Usuari"
   ]
  },
  {
   "cell_type": "code",
   "execution_count": 28,
   "metadata": {},
   "outputs": [],
   "source": [
    "llibres=pd.read_csv('../data/books_clean.csv')"
   ]
  },
  {
   "cell_type": "code",
   "execution_count": 29,
   "metadata": {},
   "outputs": [],
   "source": [
    "estils_literaris = [\"Modernisme\",\"Noucentisme\",\"Surrealisme\",\"Realisme\",\"Romanticisme\",\"Barroquisme\",\"Simbolisme\",\"Escola Mallorquina\",\"Escola Valenciana\",\"Escola Catalana\"\n",
    "]\n",
    "\n",
    "temes_de_llibres = [\n",
    "    'Amor','Aventura','Ciència-ficció','Fantasia','Misteri','Històric','Romàntic','Drama','Comèdia','Thriller','Horror','Filosofia','Autoajuda','Biografia','Poesia','Clàssic','Infantil','Jovenil','No-ficció','Crim','Viatges','Ciència','Humor','Religió','Esport','Política','Culinària','Terror','Ecològic','Educatiu','Futurista','Western','Espionatge','Art','Negoci','Familiar','Ficció històrica','Romanticisme','Conte de fades','Teatre','Mitologia','Ucronia','Apocalíptic','Ciberpunk','Distopia','Realisme màgic','Satira'\n",
    "]\n",
    "\n",
    "complexitat = ['baixa','mitja','alta']\n",
    "\n",
    "demografia = ['infantil','juvenil','adult']\n",
    "\n",
    "situacio= ['estudiant', 'treballador', 'atur', 'jubilitat']\n",
    "\n",
    "estat_civil= ['solter', 'casat', 'divorciat', 'viudu']\n",
    "\n",
    "llibres= list(llibres['isbn13'])"
   ]
  },
  {
   "cell_type": "code",
   "execution_count": 30,
   "metadata": {},
   "outputs": [],
   "source": [
    "atributs = [estils_literaris,temes_de_llibres,complexitat,demografia,situacio,estat_civil,llibres]"
   ]
  },
  {
   "cell_type": "code",
   "execution_count": 31,
   "metadata": {},
   "outputs": [],
   "source": [
    "probabilitats_normalitzades=[]\n",
    "num_usuaris = 100\n",
    "llistes_categories=atributs\n",
    "# Bucle per cada llista de categories\n",
    "for llista_categories in llistes_categories:\n",
    "    # Generar probabilitats aleatòries per a cada categoria\n",
    "    probs=[random.uniform(0.01, 1) for _ in range(len(llista_categories))]\n",
    "\n",
    "    # Normalitzar les probabilitats perquè sumin 1\n",
    "    probabilitats_normalitzades.append([prob / sum(probs) for prob in probs])\n",
    "    \n",
    "\n",
    "llista_usuaris=[]\n",
    "for _ in range(num_usuaris):\n",
    "\n",
    "    llibres_recomenats=[]\n",
    "    llibres_usuari=[]\n",
    "\n",
    "    for i in range(3): #afegim 3 llibres recomanats aleatoris en funció de la probabilitat assignada a cada isbn\n",
    "        llibre_recomenat=random.choices(llistes_categories[6], weights=probabilitats_normalitzades[6])[0]\n",
    "        while llibre_recomenat in llibres_recomenats: # si ja està dins la llista tria un altre\n",
    "            llibre_recomenat=random.choices(llistes_categories[6], weights=probabilitats_normalitzades[6])[0]\n",
    "        llibres_recomenats.append(llibre_recomenat)\n",
    "\n",
    "    for i in range(5): # afegim 5 llibres aleatoris que s'ha llegit l'usuari  en funció de la probabilitat assignada a cada isbn\n",
    "        llibre_usuari=random.choices(llistes_categories[6], weights=probabilitats_normalitzades[6])[0]\n",
    "        while llibre_usuari in llibres_usuari or llibre_usuari in llibres_recomenats: # si ja està a la llista dels recomanats o llegits tria un altre\n",
    "            llibre_usuari=random.choices(llistes_categories[6], weights=probabilitats_normalitzades[6])[0]\n",
    "        llibres_usuari.append(llibre_usuari)\n",
    "\n",
    "    '''llista_usuaris.append({'estils_literaris': random.choices(llistes_categories[0], weights=probabilitats_normalitzades[0])[0],\n",
    "                       'temes_de_llibres': random.choices(llistes_categories[1], weights=probabilitats_normalitzades[1])[0],\n",
    "                       'complexitat': random.choices(llistes_categories[2], weights=probabilitats_normalitzades[2])[0],\n",
    "                       'demografia': random.choices(llistes_categories[3], weights=probabilitats_normalitzades[3])[0],\n",
    "                       'situacio': random.choices(llistes_categories[4], weights=probabilitats_normalitzades[4])[0],\n",
    "                       'estat_civil': random.choices(llistes_categories[5], weights=probabilitats_normalitzades[5])[0],\n",
    "                       'llibres_usuari': llibres_usuari,\n",
    "                       'val_llibres': random.sample(range(6), 3),\n",
    "                       'llibres_recomanats': llibres_recomenats,\n",
    "                       'puntuacio_llibres': random.sample(range(6), 3)\n",
    "                       } )'''\n",
    "    llista_usuaris.append({'llibres_usuari': llibres_usuari,\n",
    "                       'val_llibres': random.choices(range(6),k= 5), #genera valoracions del 0 al 5 aleatories per cada llibre llegit\n",
    "                       'llibres_recomanats': llibres_recomenats,\n",
    "                       'puntuacio_llibres': random.choices(range(6),k= 5) #genera puntuacions del 0 al 5 aleatories per cada llibre recomanat\n",
    "                       } )\n"
   ]
  },
  {
   "cell_type": "code",
   "execution_count": 32,
   "metadata": {},
   "outputs": [
    {
     "data": {
      "text/plain": [
       "\"for clau in llista_usuaris[0].keys():\\n    if clau != 'llibres_recomanats' and clau != 'puntuacio_llibres':\\n        # Obtenir els valors de la clau de tota la llista\\n        valors_clau = [diccionari[clau] for diccionari in llista_usuaris]\\n        \\n        # Comptar la freqüència de cada valor\\n        contador = Counter(valors_clau)\\n        # Crear un gràfic de barres amb les freqüències\\n        plt.bar(contador.keys(), contador.values())\\n        plt.xlabel(clau)\\n        plt.ylabel('Freqüència')\\n        plt.title(f'Distribució de {clau}')\\n        plt.xticks(rotation=45, ha='right')\\n        plt.show()\""
      ]
     },
     "execution_count": 32,
     "metadata": {},
     "output_type": "execute_result"
    }
   ],
   "source": [
    "'''for clau in llista_usuaris[0].keys():\n",
    "    if clau != 'llibres_recomanats' and clau != 'puntuacio_llibres':\n",
    "        # Obtenir els valors de la clau de tota la llista\n",
    "        valors_clau = [diccionari[clau] for diccionari in llista_usuaris]\n",
    "        \n",
    "        # Comptar la freqüència de cada valor\n",
    "        contador = Counter(valors_clau)\n",
    "        # Crear un gràfic de barres amb les freqüències\n",
    "        plt.bar(contador.keys(), contador.values())\n",
    "        plt.xlabel(clau)\n",
    "        plt.ylabel('Freqüència')\n",
    "        plt.title(f'Distribució de {clau}')\n",
    "        plt.xticks(rotation=45, ha='right')\n",
    "        plt.show()'''"
   ]
  },
  {
   "cell_type": "code",
   "execution_count": 33,
   "metadata": {},
   "outputs": [],
   "source": [
    "usuaris_instancies = []\n",
    "\n",
    "# Iterar sobre la lista de diccionarios y crear instancias de Usuario\n",
    "for i,usuari_atr in enumerate(llista_usuaris):\n",
    "    usuari = Usuari(i,usuari_atr)\n",
    "    usuaris_instancies.append(usuari)\n"
   ]
  },
  {
   "cell_type": "code",
   "execution_count": 34,
   "metadata": {},
   "outputs": [],
   "source": [
    "with open('usuaris.pkl', 'wb') as file:\n",
    "    pickle.dump(usuaris_instancies, file)"
   ]
  },
  {
   "cell_type": "code",
   "execution_count": 35,
   "metadata": {},
   "outputs": [],
   "source": [
    "with open('usuaris.pkl', 'rb') as file:\n",
    "    loaded_usuaris = pickle.load(file)"
   ]
  },
  {
   "cell_type": "code",
   "execution_count": 51,
   "metadata": {},
   "outputs": [],
   "source": [
    "'''db=pd.DataFrame(llista_usuaris)\n",
    "db.to_csv('casos.csv',index=False)'''"
   ]
  }
 ],
 "metadata": {
  "kernelspec": {
   "display_name": "Python 3",
   "language": "python",
   "name": "python3"
  },
  "language_info": {
   "codemirror_mode": {
    "name": "ipython",
    "version": 3
   },
   "file_extension": ".py",
   "mimetype": "text/x-python",
   "name": "python",
   "nbconvert_exporter": "python",
   "pygments_lexer": "ipython3",
   "version": "3.9.6"
  },
  "orig_nbformat": 4
 },
 "nbformat": 4,
 "nbformat_minor": 2
}
