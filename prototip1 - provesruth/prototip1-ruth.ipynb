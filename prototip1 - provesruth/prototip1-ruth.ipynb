{
 "cells": [
  {
   "cell_type": "markdown",
   "metadata": {},
   "source": [
    "# SBC - Pràctica CBR\n",
    "\n",
    "- Aina Gomila\n",
    "- Ruth Parajó\n",
    "- Olivia Puig\n",
    "- Marc Ucelayeta"
   ]
  },
  {
   "cell_type": "code",
   "execution_count": 6,
   "metadata": {},
   "outputs": [],
   "source": [
    "from cbr import CBR\n",
    "from utils import Usuari\n",
    "import pickle"
   ]
  },
  {
   "cell_type": "code",
   "execution_count": 7,
   "metadata": {},
   "outputs": [],
   "source": [
    "with open('usuaris.pkl', 'rb') as file:\n",
    "    usuaris = pickle.load(file)\n"
   ]
  },
  {
   "cell_type": "markdown",
   "metadata": {},
   "source": [
    "Cas nou"
   ]
  },
  {
   "cell_type": "code",
   "execution_count": 8,
   "metadata": {},
   "outputs": [],
   "source": [
    "atributs = {\n",
    "    \"llibres_usuari\": [\"9780439785969\", \"9780439358071\", \"9780439554893\"],\n",
    "    \"val_llibres\": [4, 4, 1],\n",
    "    \"llibres_recomanats\": [],\n",
    "    \"puntuacio_llibres\": []\n",
    "}\n",
    "usuari_nou = Usuari(101, atributs)"
   ]
  },
  {
   "cell_type": "code",
   "execution_count": 10,
   "metadata": {},
   "outputs": [
    {
     "data": {
      "text/plain": [
       "array([ 0.00000000e+00,  1.11022302e-16,  0.00000000e+00,  0.00000000e+00,\n",
       "        6.00000000e-01,  0.00000000e+00,  0.00000000e+00,  0.00000000e+00,\n",
       "        0.00000000e+00,  6.00000000e-01,  0.00000000e+00,  0.00000000e+00,\n",
       "        0.00000000e+00,  0.00000000e+00,  0.00000000e+00,  0.00000000e+00,\n",
       "        0.00000000e+00,  0.00000000e+00,  0.00000000e+00, -6.00000000e-01,\n",
       "        0.00000000e+00,  0.00000000e+00,  0.00000000e+00,  0.00000000e+00,\n",
       "        0.00000000e+00,  0.00000000e+00,  0.00000000e+00,  0.00000000e+00,\n",
       "        0.00000000e+00,  0.00000000e+00,  0.00000000e+00,  0.00000000e+00,\n",
       "        6.00000000e-01,  0.00000000e+00,  1.20000000e+00, -6.00000000e-01,\n",
       "        0.00000000e+00,  6.00000000e-01,  0.00000000e+00,  0.00000000e+00,\n",
       "        6.00000000e-01,  1.11022302e-16,  1.11022302e-16,  6.00000000e-01,\n",
       "        1.20000000e+00, -6.00000000e-01,  0.00000000e+00,  1.11022302e-16,\n",
       "        6.00000000e-01,  0.00000000e+00,  0.00000000e+00,  1.11022302e-16,\n",
       "        6.00000000e-01])"
      ]
     },
     "execution_count": 10,
     "metadata": {},
     "output_type": "execute_result"
    }
   ],
   "source": [
    "usuari_nou.vector"
   ]
  },
  {
   "cell_type": "code",
   "execution_count": 9,
   "metadata": {},
   "outputs": [
    {
     "name": "stdout",
     "output_type": "stream",
     "text": [
      "Similitud mitjana entre l'usuari nou i els altres: 0.045036714105761676\n",
      "Usuari final:\n",
      "User 101\n",
      "llibres_usuari: ['9780439785969', '9780439358071', '9780439554893']\n",
      "val_llibres: [4, 4, 1]\n",
      "llibres_recomanats: ['9780024266408', '9780743231510', '9781857151435']\n",
      "puntuacio_llibres: [2, 3, 4]\n",
      "\n"
     ]
    }
   ],
   "source": [
    "cbr = CBR(usuaris)\n",
    "user_final = cbr.recomana(usuari_nou)\n",
    "print(\"Usuari final:\")\n",
    "print(user_final)"
   ]
  },
  {
   "cell_type": "code",
   "execution_count": 11,
   "metadata": {},
   "outputs": [
    {
     "name": "stdout",
     "output_type": "stream",
     "text": [
      "User 101\n",
      "llibres_usuari: ['9780439785969', '9780439358071', '9780439554893']\n",
      "val_llibres: [4, 4, 1]\n",
      "llibres_recomanats: ['9780024266408', '9780743231510', '9781857151435']\n",
      "puntuacio_llibres: [2, 3, 4]\n",
      "\n"
     ]
    }
   ],
   "source": [
    "# comprovació de que guarda el nou cas perquè és poc similar\n",
    "for u in cbr.users:\n",
    "    if u.ind == 101:\n",
    "        print(u)"
   ]
  }
 ],
 "metadata": {
  "kernelspec": {
   "display_name": "Python 3",
   "language": "python",
   "name": "python3"
  },
  "language_info": {
   "codemirror_mode": {
    "name": "ipython",
    "version": 3
   },
   "file_extension": ".py",
   "mimetype": "text/x-python",
   "name": "python",
   "nbconvert_exporter": "python",
   "pygments_lexer": "ipython3",
   "version": "3.9.6"
  }
 },
 "nbformat": 4,
 "nbformat_minor": 2
}
