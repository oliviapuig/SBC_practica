{
 "cells": [
  {
   "cell_type": "code",
   "execution_count": null,
   "metadata": {},
   "outputs": [],
   "source": [
    "import pickle\n",
    "import random"
   ]
  },
  {
   "cell_type": "code",
   "execution_count": null,
   "metadata": {},
   "outputs": [],
   "source": [
    "atributs_usuari = {}\n",
    "'''\n",
    "usuaris_atributs[\"edat\"] = ,\n",
    "    \"estil_literari\": \"Modernista\",\n",
    "    \"temas_especifics\": [\"Amor\", \"Naturaleza\"],\n",
    "    \"complexitat\": 4,\n",
    "    \"caracteristiques\": {\"color\": \"rojo\", \"forma\": \"oval\"},\n",
    "    \"desenvolupament_del_personatge\": \"Completo\",\n",
    "    \"accio_o_reflexio\": \"Reflexión\",\n",
    "    \"longitud\": 300,\n",
    "    \"epoca\": \"Siglo XX\",\n",
    "    \"detall_cientific\": True\n",
    "}'''"
   ]
  },
  {
   "cell_type": "code",
   "execution_count": null,
   "metadata": {},
   "outputs": [],
   "source": [
    "estils_literaris = [\n",
    "    \"Modernisme\",\n",
    "    \"Noucentisme\",\n",
    "    \"Surrealisme\",\n",
    "    \"Realisme\",\n",
    "    \"Romanticisme\",\n",
    "    \"Barroquisme\",\n",
    "    \"Simbolisme\",\n",
    "    \"Escola Mallorquina\",\n",
    "    \"Escola Valenciana\",\n",
    "    \"Escola Catalana\"\n",
    "]"
   ]
  },
  {
   "cell_type": "code",
   "execution_count": null,
   "metadata": {},
   "outputs": [],
   "source": [
    "for id in range(10):\n",
    "    atributs_usuari[\"id\"] = id\n",
    "\n",
    "    # Assigna aleatòriament l'any de publicació basat en la dècada\n",
    "    decada = random.choice(estils_literaris)\n",
    "    min_any, max_any = any_publicacio[random.choice(decada_de_publicacio)]\n",
    "    atributs_usuari[\"any_publicacio\"] = random.randint(min_any, max_any)\n",
    "\n",
    "    # Etiqueta el atributs_usuari com a \"classics\" basat en l'any de publicació\n",
    "    if decada in [\"Decada_50\", \"Decada_60\", \"Decada_70\"] and random.random() < 0.1:\n",
    "        atributs_usuari[\"genere\"] = \"classics\"\n",
    "    # Assigna aleatòriament el número de pàgines basat en el gènere del atributs_usuari\n",
    "    min_pagines, max_pagines = pagines_per_genere[atributs_usuari[\"genere\"]]\n",
    "    atributs_usuari[\"num_pagines\"] = random.randint(min_pagines, max_pagines)\n",
    "    # Assigna aleatòriament si és bestseller o no\n",
    "    atributs_usuari[\"bestseller\"] = random.choices([True, False], weights=[0.2,0.8])\n",
    "    # Definim que la demografia del atributs_usuari és la mateixa que la de l'autor\n",
    "    atributs_usuari[\"demografia\"] = autor[\"demografia\"]\n",
    "    # Assigna aleatòriament la valoració del atributs_usuari\n",
    "    num = 101\n",
    "    while num < 0 or num > 100:\n",
    "        num = random.gauss(60,30)\n",
    "    atributs_usuari[\"valoracio\"] = round(num,0)\n",
    "    # Assigna l'autor del atributs_usuari\n",
    "    atributs_usuari[\"autor\"] = nom\n",
    "\n",
    "    # Mentre que el atributs_usuari sigui de génere classic i l'any de publicació sigui posterior a 1979, torna a crear un atributs_usuari\n",
    "    while atributs_usuari[\"genere\"] == \"classics\" and atributs_usuari[\"any_publicacio\"] > 1979:\n",
    "        atributs_usuari[\"any_publicacio\"] = random.randint(1950, 1979)\n"
   ]
  }
 ],
 "metadata": {
  "language_info": {
   "name": "python"
  },
  "orig_nbformat": 4
 },
 "nbformat": 4,
 "nbformat_minor": 2
}
