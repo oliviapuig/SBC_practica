{
 "cells": [
  {
   "cell_type": "markdown",
   "metadata": {},
   "source": [
    "# SBC - Pràctica CBR\n",
    "\n",
    "- Aina Gomila\n",
    "- Ruth Parajó\n",
    "- Olivia Puig\n",
    "- Marc Ucelayeta"
   ]
  },
  {
   "cell_type": "code",
   "execution_count": null,
   "metadata": {},
   "outputs": [],
   "source": [
    "from cbr import CBR\n",
    "from utils import Usuari\n",
    "import pickle"
   ]
  },
  {
   "cell_type": "code",
   "execution_count": null,
   "metadata": {},
   "outputs": [],
   "source": [
    "with open('../data/usuaris.pkl', 'rb') as file:\n",
    "    usuaris = pickle.load(file)"
   ]
  },
  {
   "cell_type": "code",
   "execution_count": null,
   "metadata": {},
   "outputs": [],
   "source": [
    "atributs = {\n",
    "    \"llibres_usuari\": [\"9780439785969\", \"9780439358071\", \"9780439554893\"],\n",
    "    \"val_llibres\": [4, 4, 1],\n",
    "    \"llibres_recomanats\": [],\n",
    "    \"puntuacio_llibres\": []\n",
    "}\n",
    "usuari_nou = Usuari(100, atributs)\n",
    "usuari_nou.vector"
   ]
  },
  {
   "cell_type": "code",
   "execution_count": null,
   "metadata": {},
   "outputs": [],
   "source": [
    "cbr = CBR(usuaris)\n",
    "for u in cbr.users:\n",
    "    print(u.get_id(), u.vector)\n",
    "user_final = cbr.recomana(usuari_nou)\n",
    "print(\"Usuari final:\")\n",
    "print(user_final)"
   ]
  }
 ],
 "metadata": {
  "language_info": {
   "name": "python"
  }
 },
 "nbformat": 4,
 "nbformat_minor": 2
}
