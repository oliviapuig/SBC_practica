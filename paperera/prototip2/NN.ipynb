{
 "cells": [
  {
   "cell_type": "code",
   "execution_count": 1,
   "metadata": {},
   "outputs": [],
   "source": [
    "from preproces_books import preprocess_books\n",
    "#preprocess_books()"
   ]
  },
  {
   "cell_type": "code",
   "execution_count": 2,
   "metadata": {},
   "outputs": [],
   "source": [
    "import pickle\n",
    "import pandas as pd\n",
    "import tensorflow as tf\n",
    "from tensorflow.keras.models import Model\n",
    "from tensorflow.keras.layers import Input, Dense, Concatenate\n",
    "import matplotlib.pyplot as plt"
   ]
  },
  {
   "cell_type": "code",
   "execution_count": 3,
   "metadata": {},
   "outputs": [],
   "source": [
    "usuaris = pd.read_pickle('../../data/casos.pkl')\n",
    "llibres = pd.read_pickle('../../data/llibres.pkl')"
   ]
  },
  {
   "cell_type": "code",
   "execution_count": 6,
   "metadata": {},
   "outputs": [
    {
     "name": "stdout",
     "output_type": "stream",
     "text": [
      "Dimensió vector usuari: 85\n",
      "Dimensió vector llibre: 85\n",
      "Model: \"model_1\"\n",
      "__________________________________________________________________________________________________\n",
      " Layer (type)                Output Shape                 Param #   Connected to                  \n",
      "==================================================================================================\n",
      " entrada_usuari (InputLayer  [(None, 85)]                 0         []                            \n",
      " )                                                                                                \n",
      "                                                                                                  \n",
      " entrada_llibre (InputLayer  [(None, 85)]                 0         []                            \n",
      " )                                                                                                \n",
      "                                                                                                  \n",
      " dense_6 (Dense)             (None, 64)                   5504      ['entrada_usuari[0][0]']      \n",
      "                                                                                                  \n",
      " dense_7 (Dense)             (None, 64)                   5504      ['entrada_llibre[0][0]']      \n",
      "                                                                                                  \n",
      " concatenate_1 (Concatenate  (None, 128)                  0         ['dense_6[0][0]',             \n",
      " )                                                                   'dense_7[0][0]']             \n",
      "                                                                                                  \n",
      " dense_8 (Dense)             (None, 256)                  33024     ['concatenate_1[0][0]']       \n",
      "                                                                                                  \n",
      " dense_9 (Dense)             (None, 128)                  32896     ['dense_8[0][0]']             \n",
      "                                                                                                  \n",
      " dense_10 (Dense)            (None, 64)                   8256      ['dense_9[0][0]']             \n",
      "                                                                                                  \n",
      " dense_11 (Dense)            (None, 1)                    65        ['dense_10[0][0]']            \n",
      "                                                                                                  \n",
      "==================================================================================================\n",
      "Total params: 85249 (333.00 KB)\n",
      "Trainable params: 85249 (333.00 KB)\n",
      "Non-trainable params: 0 (0.00 Byte)\n",
      "__________________________________________________________________________________________________\n"
     ]
    }
   ],
   "source": [
    "# Dimensiones de los vectores de usuario y libro\n",
    "dim_usuari = len(usuaris[\"vector\"].iloc[0])\n",
    "dim_llibre = len(llibres[\"vector\"].iloc[0])\n",
    "print(\"Dimensió vector usuari:\", dim_usuari)\n",
    "print(\"Dimensió vector llibre:\", dim_llibre)\n",
    "\n",
    "# Entradas\n",
    "entrada_usuari = Input(shape=(dim_usuari,), name='entrada_usuari')\n",
    "entrada_llibre = Input(shape=(dim_llibre,), name='entrada_llibre')\n",
    "\n",
    "# Procesamiento de las entradas\n",
    "proc_usuari = Dense(64, activation='relu')(entrada_usuari)\n",
    "proc_llibre = Dense(64, activation='relu')(entrada_llibre)\n",
    "\n",
    "# Combinación de características\n",
    "combinacio = Concatenate()([proc_usuari, proc_llibre])\n",
    "\n",
    "# Capas ocultas\n",
    "oculta1 = Dense(256, activation='relu')(combinacio)\n",
    "oculta2 = Dense(128, activation='relu')(oculta1)\n",
    "oculta3 = Dense(64, activation='relu')(oculta2)\n",
    "\n",
    "# Capa de salida\n",
    "sortida = Dense(1, activation='linear')(oculta3)\n",
    "\n",
    "# Creación del modelo\n",
    "model = Model(inputs=[entrada_usuari, entrada_llibre], outputs=sortida)\n",
    "\n",
    "# Compilación del modelo\n",
    "model.compile(optimizer='adam', loss='mean_squared_error')\n",
    "\n",
    "# Resumen del modelo\n",
    "model.summary()\n"
   ]
  },
  {
   "cell_type": "code",
   "execution_count": 18,
   "metadata": {},
   "outputs": [],
   "source": [
    "def vector_llibre(id_llibre):\n",
    "    # Pasamos el book_id del libro y devolvemos su vector\n",
    "    return llibres[llibres[\"book_id\"] == int(id_llibre)][\"vector\"].iloc[0]"
   ]
  },
  {
   "cell_type": "code",
   "execution_count": 19,
   "metadata": {},
   "outputs": [],
   "source": [
    "# Inicializa listas vacías para almacenar los datos\n",
    "vectores_usuarios = []\n",
    "vectores_libros = []\n",
    "puntuaciones = []\n",
    "\n",
    "for user in usuaris.itertuples():\n",
    "    # Obtiene el vector del usuario\n",
    "    vector_usuario = user.vector\n",
    "\n",
    "    # Para cada libro leído y su puntuación\n",
    "    for book_id, val in zip(user.llibres_usuari, user.val_llibres):\n",
    "        # Obtiene el vector del libro (modifica esto según tu implementación)\n",
    "        vector_libro = vector_llibre(book_id)\n",
    "\n",
    "        # Añade los datos al conjunto de datos\n",
    "        vectores_usuarios.append(vector_usuario)\n",
    "        vectores_libros.append(vector_libro)\n",
    "        puntuaciones.append(val)\n",
    "\n",
    "    # Repite para los libros recomendados\n",
    "    for book_id, punt in zip(user.llibres_recomanats, user.puntuacions_llibres):\n",
    "        # Obtiene el vector del libro (modifica esto según tu implementación)\n",
    "        vector_libro = vector_llibre(book_id)\n",
    "\n",
    "        # Añade los datos al conjunto de datos\n",
    "        vectores_usuarios.append(vector_usuario)\n",
    "        vectores_libros.append(vector_libro)\n",
    "        puntuaciones.append(punt)\n",
    "\n",
    "# Convertir las listas en arrays de NumPy para su uso con TensorFlow/Keras\n",
    "import numpy as np\n",
    "\n",
    "vectores_usuarios_np = np.array(vectores_usuarios)\n",
    "vectores_libros_np = np.array(vectores_libros)\n",
    "puntuaciones_np = np.array(puntuaciones)"
   ]
  },
  {
   "cell_type": "code",
   "execution_count": 20,
   "metadata": {},
   "outputs": [
    {
     "name": "stdout",
     "output_type": "stream",
     "text": [
      "(22794, 85)\n",
      "(22794, 85)\n",
      "(22794,)\n"
     ]
    }
   ],
   "source": [
    "print(vectores_usuarios_np.shape)\n",
    "print(vectores_libros_np.shape)\n",
    "print(puntuaciones_np.shape)"
   ]
  },
  {
   "cell_type": "code",
   "execution_count": 21,
   "metadata": {},
   "outputs": [],
   "source": [
    "from sklearn.model_selection import train_test_split\n",
    "\n",
    "# Dividir los datos en conjuntos de entrenamiento y prueba (80% entrenamiento, 20% prueba)\n",
    "X_train, X_test, y_train, y_test = train_test_split(\n",
    "    np.hstack((vectores_usuarios_np, vectores_libros_np)),  # Concatenar vectores de usuario y libro\n",
    "    puntuaciones_np, \n",
    "    test_size=0.2, \n",
    "    random_state=42\n",
    ")"
   ]
  },
  {
   "cell_type": "code",
   "execution_count": 22,
   "metadata": {},
   "outputs": [
    {
     "name": "stdout",
     "output_type": "stream",
     "text": [
      "(18235, 170)\n",
      "(4559, 170)\n",
      "(18235,)\n",
      "(4559,)\n"
     ]
    }
   ],
   "source": [
    "print(X_train.shape)\n",
    "print(X_test.shape)\n",
    "print(y_train.shape)\n",
    "print(y_test.shape)"
   ]
  },
  {
   "cell_type": "code",
   "execution_count": 27,
   "metadata": {},
   "outputs": [
    {
     "name": "stdout",
     "output_type": "stream",
     "text": [
      "Epoch 1/10\n",
      "1824/1824 [==============================] - 14s 7ms/step - loss: 1.4671 - val_loss: 1.3181\n",
      "Epoch 2/10\n",
      "1824/1824 [==============================] - 13s 7ms/step - loss: 1.4238 - val_loss: 1.3142\n",
      "Epoch 3/10\n",
      "1824/1824 [==============================] - 13s 7ms/step - loss: 1.4205 - val_loss: 1.2965\n",
      "Epoch 4/10\n",
      "1824/1824 [==============================] - 13s 7ms/step - loss: 1.4071 - val_loss: 1.4808\n",
      "Epoch 5/10\n",
      "1824/1824 [==============================] - 13s 7ms/step - loss: 1.3756 - val_loss: 1.2816\n",
      "Epoch 6/10\n",
      "1824/1824 [==============================] - 14s 8ms/step - loss: 1.3605 - val_loss: 1.2989\n",
      "Epoch 7/10\n",
      "1824/1824 [==============================] - 13s 7ms/step - loss: 1.3362 - val_loss: 1.3127\n",
      "Epoch 8/10\n",
      "1824/1824 [==============================] - 14s 7ms/step - loss: 1.3164 - val_loss: 1.3064\n",
      "Epoch 9/10\n",
      "1824/1824 [==============================] - 13s 7ms/step - loss: 1.2961 - val_loss: 1.3153\n",
      "Epoch 10/10\n",
      "1824/1824 [==============================] - 13s 7ms/step - loss: 1.2746 - val_loss: 1.2774\n"
     ]
    }
   ],
   "source": [
    "# Enable eager execution\n",
    "tf.config.run_functions_eagerly(True)\n",
    "\n",
    "# Entrenamiento del modelo\n",
    "data = [X_train[:, :dim_usuari], X_train[:, dim_usuari:]]\n",
    "historial = model.fit(\n",
    "    data,  # Separar los vectores de usuario y libro\n",
    "    y_train, \n",
    "    epochs=10,\n",
    "    batch_size=8,\n",
    "    validation_split=0.2\n",
    ")"
   ]
  },
  {
   "cell_type": "code",
   "execution_count": 28,
   "metadata": {},
   "outputs": [
    {
     "data": {
      "image/png": "[encoded data removed]",
      "text/plain": [
       "<Figure size 1200x600 with 1 Axes>"
      ]
     },
     "metadata": {},
     "output_type": "display_data"
    }
   ],
   "source": [
    "# Plot training & validation loss values\n",
    "plt.figure(figsize=(12, 6))\n",
    "plt.plot(historial.history['loss'])\n",
    "plt.plot(historial.history['val_loss'])\n",
    "plt.title('Model loss')\n",
    "plt.ylabel('Loss')\n",
    "plt.xlabel('Epoch')\n",
    "plt.legend(['Train', 'Validation'], loc='upper right')\n",
    "plt.show()"
   ]
  },
  {
   "cell_type": "code",
   "execution_count": 30,
   "metadata": {},
   "outputs": [
    {
     "name": "stdout",
     "output_type": "stream",
     "text": [
      " 32/143 [=====>........................] - ETA: 0s - loss: 1.5883"
     ]
    },
    {
     "name": "stderr",
     "output_type": "stream",
     "text": [
      "/Users/ucemarc/.pyenv/versions/3.10.4/lib/python3.10/site-packages/tensorflow/python/data/ops/structured_function.py:258: UserWarning: Even though the `tf.config.experimental_run_functions_eagerly` option is set, this option does not apply to tf.data functions. To force eager execution of tf.data functions, please use `tf.data.experimental.enable_debug_mode()`.\n",
      "  warnings.warn(\n"
     ]
    },
    {
     "name": "stdout",
     "output_type": "stream",
     "text": [
      "143/143 [==============================] - 0s 3ms/step - loss: 1.4077\n",
      "Pérdida en el conjunto de prueba: 1.4077028036117554\n"
     ]
    }
   ],
   "source": [
    "data_eval = [X_test[:, :dim_usuari], X_test[:, dim_usuari:]]\n",
    "# Evaluación del modelo con el conjunto de prueba\n",
    "evaluacion = model.evaluate(\n",
    "    data_eval,\n",
    "    y_test\n",
    ")\n",
    "\n",
    "print(f'Pérdida en el conjunto de prueba: {evaluacion}')"
   ]
  },
  {
   "cell_type": "code",
   "execution_count": 32,
   "metadata": {},
   "outputs": [
    {
     "name": "stdout",
     "output_type": "stream",
     "text": [
      " 52/143 [=========>....................] - ETA: 0s"
     ]
    },
    {
     "name": "stderr",
     "output_type": "stream",
     "text": [
      "/Users/ucemarc/.pyenv/versions/3.10.4/lib/python3.10/site-packages/tensorflow/python/data/ops/structured_function.py:258: UserWarning: Even though the `tf.config.experimental_run_functions_eagerly` option is set, this option does not apply to tf.data functions. To force eager execution of tf.data functions, please use `tf.data.experimental.enable_debug_mode()`.\n",
      "  warnings.warn(\n"
     ]
    },
    {
     "name": "stdout",
     "output_type": "stream",
     "text": [
      "143/143 [==============================] - 0s 2ms/step\n",
      "Predicciones:  [5. 2. 4. 4. 5. 4. 4. 3. 4. 4.]\n",
      "Valores reales:  [4 4 5 5 5 3 5 2 5 4]\n",
      "Precisión aproximada: 34.06%\n"
     ]
    }
   ],
   "source": [
    "# Realizar predicciones en el conjunto de prueba\n",
    "predicciones = model.predict([X_test[:, :dim_usuari], X_test[:, dim_usuari:]])\n",
    "\n",
    "# Print predictions and actual values\n",
    "print('Predicciones: ', np.round(predicciones.flatten()[:10],0))\n",
    "print('Valores reales: ', y_test[:10])\n",
    "\n",
    "# Definir un umbral de aceptación\n",
    "umbral = 0.5\n",
    "\n",
    "# Calcular el número de predicciones \"correctas\"\n",
    "predicciones_correctas = np.abs(predicciones.flatten() - y_test) <= umbral\n",
    "\n",
    "# Calcular la precisión\n",
    "precision = np.mean(predicciones_correctas)\n",
    "print(f'Precisión aproximada: {precision * 100:.2f}%')"
   ]
  },
  {
   "cell_type": "code",
   "execution_count": 33,
   "metadata": {},
   "outputs": [],
   "source": [
    "# Guardar el modelo completo\n",
    "model.save('prediccio_puntuacio.keras')"
   ]
  }
 ],
 "metadata": {
  "kernelspec": {
   "display_name": "Python 3",
   "language": "python",
   "name": "python3"
  },
  "language_info": {
   "codemirror_mode": {
    "name": "ipython",
    "version": 3
   },
   "file_extension": ".py",
   "mimetype": "text/x-python",
   "name": "python",
   "nbconvert_exporter": "python",
   "pygments_lexer": "ipython3",
   "version": "3.10.4"
  }
 },
 "nbformat": 4,
 "nbformat_minor": 2
}
