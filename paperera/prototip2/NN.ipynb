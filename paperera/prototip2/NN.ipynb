{
 "cells": [
  {
   "cell_type": "code",
   "execution_count": 1,
   "metadata": {},
   "outputs": [],
   "source": [
    "from preproces_books import preprocess_books\n",
    "#preprocess_books()"
   ]
  },
  {
   "cell_type": "code",
   "execution_count": 2,
   "metadata": {},
   "outputs": [],
   "source": [
    "import pickle\n",
    "import pandas as pd\n",
    "import tensorflow as tf\n",
    "from tensorflow.keras.models import Model\n",
    "from tensorflow.keras.layers import Input, Dense, Concatenate\n",
    "import matplotlib.pyplot as plt"
   ]
  },
  {
   "cell_type": "code",
   "execution_count": 3,
   "metadata": {},
   "outputs": [],
   "source": [
    "usuaris = pd.read_pickle('../../data/casos.pkl')\n",
    "llibres = pd.read_pickle('../../data/llibres.pkl')"
   ]
  },
  {
   "cell_type": "code",
   "execution_count": 4,
   "metadata": {},
   "outputs": [
    {
     "name": "stdout",
     "output_type": "stream",
     "text": [
      "Dimensió vector usuari: 85\n",
      "Dimensió vector llibre: 85\n",
      "Model: \"model\"\n",
      "__________________________________________________________________________________________________\n",
      " Layer (type)                Output Shape                 Param #   Connected to                  \n",
      "==================================================================================================\n",
      " entrada_usuari (InputLayer  [(None, 85)]                 0         []                            \n",
      " )                                                                                                \n",
      "                                                                                                  \n",
      " entrada_llibre (InputLayer  [(None, 85)]                 0         []                            \n",
      " )                                                                                                \n",
      "                                                                                                  \n",
      " dense (Dense)               (None, 64)                   5504      ['entrada_usuari[0][0]']      \n",
      "                                                                                                  \n",
      " dense_1 (Dense)             (None, 64)                   5504      ['entrada_llibre[0][0]']      \n",
      "                                                                                                  \n",
      " concatenate (Concatenate)   (None, 128)                  0         ['dense[0][0]',               \n",
      "                                                                     'dense_1[0][0]']             \n",
      "                                                                                                  \n",
      " dense_2 (Dense)             (None, 256)                  33024     ['concatenate[0][0]']         \n",
      "                                                                                                  \n",
      " dense_3 (Dense)             (None, 128)                  32896     ['dense_2[0][0]']             \n",
      "                                                                                                  \n",
      " dense_4 (Dense)             (None, 64)                   8256      ['dense_3[0][0]']             \n",
      "                                                                                                  \n",
      " dense_5 (Dense)             (None, 1)                    65        ['dense_4[0][0]']             \n",
      "                                                                                                  \n",
      "==================================================================================================\n",
      "Total params: 85249 (333.00 KB)\n",
      "Trainable params: 85249 (333.00 KB)\n",
      "Non-trainable params: 0 (0.00 Byte)\n",
      "__________________________________________________________________________________________________\n"
     ]
    }
   ],
   "source": [
    "# Dimensiones de los vectores de usuario y libro\n",
    "dim_usuari = len(usuaris[\"vector\"].iloc[0])\n",
    "dim_llibre = len(llibres[\"vector\"].iloc[0])\n",
    "print(\"Dimensió vector usuari:\", dim_usuari)\n",
    "print(\"Dimensió vector llibre:\", dim_llibre)\n",
    "\n",
    "# Entradas\n",
    "entrada_usuari = Input(shape=(dim_usuari,), name='entrada_usuari')\n",
    "entrada_llibre = Input(shape=(dim_llibre,), name='entrada_llibre')\n",
    "\n",
    "# Procesamiento de las entradas\n",
    "proc_usuari = Dense(64, activation='relu')(entrada_usuari)\n",
    "proc_llibre = Dense(64, activation='relu')(entrada_llibre)\n",
    "\n",
    "# Combinación de características\n",
    "combinacio = Concatenate()([proc_usuari, proc_llibre])\n",
    "\n",
    "# Capas ocultas\n",
    "oculta1 = Dense(256, activation='relu')(combinacio)\n",
    "oculta2 = Dense(128, activation='relu')(oculta1)\n",
    "oculta3 = Dense(64, activation='relu')(oculta2)\n",
    "\n",
    "# Capa de salida\n",
    "sortida = Dense(1, activation='linear')(oculta3)\n",
    "\n",
    "# Creación del modelo\n",
    "model = Model(inputs=[entrada_usuari, entrada_llibre], outputs=sortida)\n",
    "\n",
    "# Compilación del modelo\n",
    "model.compile(optimizer='adam', loss='mean_squared_error')\n",
    "\n",
    "# Resumen del modelo\n",
    "model.summary()\n"
   ]
  },
  {
   "cell_type": "code",
   "execution_count": 5,
   "metadata": {},
   "outputs": [],
   "source": [
    "def vector_llibre(id_llibre):\n",
    "    # Pasamos el book_id del libro y devolvemos su vector\n",
    "    return llibres[llibres[\"book_id\"] == int(id_llibre)][\"vector\"].iloc[0]"
   ]
  },
  {
   "cell_type": "code",
   "execution_count": 6,
   "metadata": {},
   "outputs": [],
   "source": [
    "# Inicializa listas vacías para almacenar los datos\n",
    "vectores_usuarios = []\n",
    "vectores_libros = []\n",
    "puntuaciones = []\n",
    "\n",
    "for user in usuaris.itertuples():\n",
    "    # Obtiene el vector del usuario\n",
    "    vector_usuario = user.vector\n",
    "\n",
    "    # Para cada libro leído y su puntuación\n",
    "    for book_id, val in zip(user.llibres_usuari, user.val_llibres):\n",
    "        # Obtiene el vector del libro (modifica esto según tu implementación)\n",
    "        vector_libro = vector_llibre(book_id)\n",
    "\n",
    "        # Añade los datos al conjunto de datos\n",
    "        vectores_usuarios.append(vector_usuario)\n",
    "        vectores_libros.append(vector_libro)\n",
    "        puntuaciones.append(val)\n",
    "\n",
    "    # Repite para los libros recomendados\n",
    "    for book_id, punt in zip(user.llibres_recomanats, user.puntuacions_llibres):\n",
    "        # Obtiene el vector del libro (modifica esto según tu implementación)\n",
    "        vector_libro = vector_llibre(book_id)\n",
    "\n",
    "        # Añade los datos al conjunto de datos\n",
    "        vectores_usuarios.append(vector_usuario)\n",
    "        vectores_libros.append(vector_libro)\n",
    "        puntuaciones.append(punt)\n",
    "\n",
    "# Convertir las listas en arrays de NumPy para su uso con TensorFlow/Keras\n",
    "import numpy as np\n",
    "\n",
    "vectores_usuarios_np = np.array(vectores_usuarios)\n",
    "vectores_libros_np = np.array(vectores_libros)\n",
    "puntuaciones_np = np.array(puntuaciones)"
   ]
  },
  {
   "cell_type": "code",
   "execution_count": 7,
   "metadata": {},
   "outputs": [
    {
     "name": "stdout",
     "output_type": "stream",
     "text": [
      "(22794, 85)\n",
      "(22794, 85)\n",
      "(22794,)\n"
     ]
    }
   ],
   "source": [
    "print(vectores_usuarios_np.shape)\n",
    "print(vectores_libros_np.shape)\n",
    "print(puntuaciones_np.shape)"
   ]
  },
  {
   "cell_type": "code",
   "execution_count": 8,
   "metadata": {},
   "outputs": [],
   "source": [
    "from sklearn.model_selection import train_test_split\n",
    "\n",
    "# Dividir los datos en conjuntos de entrenamiento y prueba (80% entrenamiento, 20% prueba)\n",
    "X_train, X_test, y_train, y_test = train_test_split(\n",
    "    np.hstack((vectores_usuarios_np, vectores_libros_np)),  # Concatenar vectores de usuario y libro\n",
    "    puntuaciones_np, \n",
    "    test_size=0.2, \n",
    "    random_state=42\n",
    ")"
   ]
  },
  {
   "cell_type": "code",
   "execution_count": 9,
   "metadata": {},
   "outputs": [
    {
     "name": "stdout",
     "output_type": "stream",
     "text": [
      "(18235, 170)\n",
      "(4559, 170)\n",
      "(18235,)\n",
      "(4559,)\n"
     ]
    }
   ],
   "source": [
    "print(X_train.shape)\n",
    "print(X_test.shape)\n",
    "print(y_train.shape)\n",
    "print(y_test.shape)"
   ]
  },
  {
   "cell_type": "code",
   "execution_count": 10,
   "metadata": {},
   "outputs": [
    {
     "name": "stdout",
     "output_type": "stream",
     "text": [
      "Epoch 1/50\n",
      "   9/1824 [..............................] - ETA: 12s - loss: 7.3002  "
     ]
    },
    {
     "name": "stderr",
     "output_type": "stream",
     "text": [
      "/Users/ucemarc/.pyenv/versions/3.10.4/lib/python3.10/site-packages/tensorflow/python/data/ops/structured_function.py:258: UserWarning: Even though the `tf.config.experimental_run_functions_eagerly` option is set, this option does not apply to tf.data functions. To force eager execution of tf.data functions, please use `tf.data.experimental.enable_debug_mode()`.\n",
      "  warnings.warn(\n"
     ]
    },
    {
     "name": "stdout",
     "output_type": "stream",
     "text": [
      "1824/1824 [==============================] - 14s 7ms/step - loss: 1.6092 - val_loss: 1.4305\n",
      "Epoch 2/50\n",
      "1824/1824 [==============================] - 14s 7ms/step - loss: 1.5023 - val_loss: 1.3393\n",
      "Epoch 3/50\n",
      "1824/1824 [==============================] - 13s 7ms/step - loss: 1.4722 - val_loss: 1.3161\n",
      "Epoch 4/50\n",
      "1824/1824 [==============================] - 13s 7ms/step - loss: 1.4427 - val_loss: 1.2955\n",
      "Epoch 5/50\n",
      "1824/1824 [==============================] - 13s 7ms/step - loss: 1.4096 - val_loss: 1.3073\n",
      "Epoch 6/50\n",
      "1824/1824 [==============================] - 13s 7ms/step - loss: 1.3761 - val_loss: 1.3107\n",
      "Epoch 7/50\n",
      "1824/1824 [==============================] - 13s 7ms/step - loss: 1.3631 - val_loss: 1.3355\n",
      "Epoch 8/50\n",
      "1824/1824 [==============================] - 13s 7ms/step - loss: 1.3488 - val_loss: 1.3228\n",
      "Epoch 9/50\n",
      "1824/1824 [==============================] - 13s 7ms/step - loss: 1.3253 - val_loss: 1.3860\n",
      "Epoch 10/50\n",
      "1824/1824 [==============================] - 13s 7ms/step - loss: 1.3031 - val_loss: 1.3306\n",
      "Epoch 11/50\n",
      "1824/1824 [==============================] - 13s 7ms/step - loss: 1.2840 - val_loss: 1.3495\n",
      "Epoch 12/50\n",
      "1824/1824 [==============================] - 13s 7ms/step - loss: 1.2723 - val_loss: 1.3441\n",
      "Epoch 13/50\n",
      "1824/1824 [==============================] - 13s 7ms/step - loss: 1.2511 - val_loss: 1.2834\n",
      "Epoch 14/50\n",
      "1824/1824 [==============================] - 13s 7ms/step - loss: 1.2178 - val_loss: 1.3026\n",
      "Epoch 15/50\n",
      "1824/1824 [==============================] - 13s 7ms/step - loss: 1.2066 - val_loss: 1.3231\n",
      "Epoch 16/50\n",
      "1824/1824 [==============================] - 13s 7ms/step - loss: 1.1778 - val_loss: 1.4599\n",
      "Epoch 17/50\n",
      "1824/1824 [==============================] - 13s 7ms/step - loss: 1.1630 - val_loss: 1.3168\n",
      "Epoch 18/50\n",
      "1824/1824 [==============================] - 13s 7ms/step - loss: 1.1329 - val_loss: 1.3978\n",
      "Epoch 19/50\n",
      "1824/1824 [==============================] - 13s 7ms/step - loss: 1.1175 - val_loss: 1.3604\n",
      "Epoch 20/50\n",
      "1824/1824 [==============================] - 13s 7ms/step - loss: 1.0936 - val_loss: 1.4259\n",
      "Epoch 21/50\n",
      "1824/1824 [==============================] - 13s 7ms/step - loss: 1.0766 - val_loss: 1.5346\n",
      "Epoch 22/50\n",
      "1824/1824 [==============================] - 13s 7ms/step - loss: 1.0526 - val_loss: 1.4062\n",
      "Epoch 23/50\n",
      "1824/1824 [==============================] - 13s 7ms/step - loss: 1.0291 - val_loss: 1.3792\n",
      "Epoch 24/50\n",
      "1824/1824 [==============================] - 13s 7ms/step - loss: 1.0161 - val_loss: 1.4167\n",
      "Epoch 25/50\n",
      "1824/1824 [==============================] - 13s 7ms/step - loss: 0.9954 - val_loss: 1.4443\n",
      "Epoch 26/50\n",
      "1824/1824 [==============================] - 13s 7ms/step - loss: 0.9807 - val_loss: 1.4725\n",
      "Epoch 27/50\n",
      "1824/1824 [==============================] - 13s 7ms/step - loss: 0.9546 - val_loss: 1.4579\n",
      "Epoch 28/50\n",
      "1824/1824 [==============================] - 13s 7ms/step - loss: 0.9373 - val_loss: 1.5048\n",
      "Epoch 29/50\n",
      "1824/1824 [==============================] - 13s 7ms/step - loss: 0.9108 - val_loss: 1.4909\n",
      "Epoch 30/50\n",
      "1824/1824 [==============================] - 13s 7ms/step - loss: 0.8925 - val_loss: 1.5213\n",
      "Epoch 31/50\n",
      "1824/1824 [==============================] - 13s 7ms/step - loss: 0.8799 - val_loss: 1.4986\n",
      "Epoch 32/50\n",
      "1824/1824 [==============================] - 13s 7ms/step - loss: 0.8604 - val_loss: 1.5080\n",
      "Epoch 33/50\n",
      "1824/1824 [==============================] - 13s 7ms/step - loss: 0.8468 - val_loss: 1.5610\n",
      "Epoch 34/50\n",
      "1824/1824 [==============================] - 13s 7ms/step - loss: 0.8292 - val_loss: 1.5192\n",
      "Epoch 35/50\n",
      "1824/1824 [==============================] - 13s 7ms/step - loss: 0.8113 - val_loss: 1.4999\n",
      "Epoch 36/50\n",
      "1824/1824 [==============================] - 13s 7ms/step - loss: 0.7980 - val_loss: 1.5991\n",
      "Epoch 37/50\n",
      "1824/1824 [==============================] - 13s 7ms/step - loss: 0.7737 - val_loss: 1.5831\n",
      "Epoch 38/50\n",
      "1824/1824 [==============================] - 13s 7ms/step - loss: 0.7574 - val_loss: 1.5421\n",
      "Epoch 39/50\n",
      "1824/1824 [==============================] - 13s 7ms/step - loss: 0.7486 - val_loss: 1.5551\n",
      "Epoch 40/50\n",
      "1824/1824 [==============================] - 13s 7ms/step - loss: 0.7222 - val_loss: 1.4981\n",
      "Epoch 41/50\n",
      "1824/1824 [==============================] - 13s 7ms/step - loss: 0.7125 - val_loss: 1.5460\n",
      "Epoch 42/50\n",
      "1824/1824 [==============================] - 13s 7ms/step - loss: 0.7029 - val_loss: 1.5551\n",
      "Epoch 43/50\n",
      "1824/1824 [==============================] - 13s 7ms/step - loss: 0.6931 - val_loss: 1.5281\n",
      "Epoch 44/50\n",
      "1824/1824 [==============================] - 13s 7ms/step - loss: 0.6607 - val_loss: 1.7804\n",
      "Epoch 45/50\n",
      "1824/1824 [==============================] - 13s 7ms/step - loss: 0.6561 - val_loss: 1.6043\n",
      "Epoch 46/50\n",
      "1824/1824 [==============================] - 13s 7ms/step - loss: 0.6479 - val_loss: 1.6031\n",
      "Epoch 47/50\n",
      "1824/1824 [==============================] - 13s 7ms/step - loss: 0.6364 - val_loss: 1.6513\n",
      "Epoch 48/50\n",
      "1824/1824 [==============================] - 13s 7ms/step - loss: 0.6192 - val_loss: 1.6307\n",
      "Epoch 49/50\n",
      "1824/1824 [==============================] - 13s 7ms/step - loss: 0.6149 - val_loss: 1.6105\n",
      "Epoch 50/50\n",
      "1824/1824 [==============================] - 13s 7ms/step - loss: 0.6009 - val_loss: 1.6163\n"
     ]
    }
   ],
   "source": [
    "# Enable eager execution\n",
    "tf.config.run_functions_eagerly(True)\n",
    "\n",
    "# Entrenamiento del modelo\n",
    "data = [X_train[:, :dim_usuari], X_train[:, dim_usuari:]]\n",
    "historial = model.fit(\n",
    "    data,  # Separar los vectores de usuario y libro\n",
    "    y_train, \n",
    "    epochs=50,\n",
    "    batch_size=8,\n",
    "    validation_split=0.2\n",
    ")"
   ]
  },
  {
   "cell_type": "code",
   "execution_count": 15,
   "metadata": {},
   "outputs": [
    {
     "data": {
      "image/png": "[encoded data removed]",
      "text/plain": [
       "<Figure size 1200x600 with 1 Axes>"
      ]
     },
     "metadata": {},
     "output_type": "display_data"
    }
   ],
   "source": [
    "# Plot training & validation loss values\n",
    "plt.figure(figsize=(12, 6))\n",
    "plt.plot(historial.history['loss'])\n",
    "plt.plot(historial.history['val_loss'])\n",
    "plt.title('Model loss')\n",
    "plt.ylabel('Loss')\n",
    "plt.xlabel('Epoch')\n",
    "plt.legend(['Train', 'Validation'], loc='upper right')\n",
    "plt.show()"
   ]
  },
  {
   "cell_type": "code",
   "execution_count": 12,
   "metadata": {},
   "outputs": [
    {
     "name": "stdout",
     "output_type": "stream",
     "text": [
      "143/143 [==============================] - 0s 3ms/step - loss: 1.7532\n",
      "Pérdida en el conjunto de prueba: 1.7532241344451904\n"
     ]
    }
   ],
   "source": [
    "data_eval = [X_test[:, :dim_usuari], X_test[:, dim_usuari:]]\n",
    "# Evaluación del modelo con el conjunto de prueba\n",
    "evaluacion = model.evaluate(\n",
    "    data_eval,\n",
    "    y_test\n",
    ")\n",
    "\n",
    "print(f'Pérdida en el conjunto de prueba: {evaluacion}')"
   ]
  },
  {
   "cell_type": "code",
   "execution_count": 17,
   "metadata": {},
   "outputs": [
    {
     "name": "stdout",
     "output_type": "stream",
     "text": [
      " 80/143 [===============>..............] - ETA: 0s"
     ]
    },
    {
     "name": "stderr",
     "output_type": "stream",
     "text": [
      "/Users/ucemarc/.pyenv/versions/3.10.4/lib/python3.10/site-packages/tensorflow/python/data/ops/structured_function.py:258: UserWarning: Even though the `tf.config.experimental_run_functions_eagerly` option is set, this option does not apply to tf.data functions. To force eager execution of tf.data functions, please use `tf.data.experimental.enable_debug_mode()`.\n",
      "  warnings.warn(\n"
     ]
    },
    {
     "name": "stdout",
     "output_type": "stream",
     "text": [
      "143/143 [==============================] - 0s 2ms/step\n",
      "Predicciones:  [5 1 6 5 5 4 3 3 4 5]\n",
      "Valores reales:  [4 4 5 5 5 3 5 2 5 4]\n",
      "MSE: 1.8532572932660671\n",
      "Precisión aproximada: 38.21%\n"
     ]
    }
   ],
   "source": [
    "# Realizar predicciones en el conjunto de prueba\n",
    "predicciones = model.predict([X_test[:, :dim_usuari], X_test[:, dim_usuari:]])\n",
    "predicciones = np.round(predicciones.flatten(),0).astype(int)\n",
    "\n",
    "for p in predicciones:\n",
    "    if p < 1:\n",
    "        p = 1\n",
    "    elif p > 5:\n",
    "        p = 5\n",
    "\n",
    "# Print predictions and actual values\n",
    "print('Predicciones: ', predicciones[:10])\n",
    "print('Valores reales: ', y_test[:10])\n",
    "\n",
    "# Calcular MSE\n",
    "from sklearn.metrics import mean_squared_error\n",
    "mse = mean_squared_error(y_test, predicciones)\n",
    "print(f'MSE: {mse}')\n",
    "\n",
    "# Definir un umbral de aceptación\n",
    "umbral = 0.5\n",
    "\n",
    "# Calcular el número de predicciones \"correctas\"\n",
    "predicciones_correctas = np.abs(predicciones.flatten() - y_test) <= umbral\n",
    "\n",
    "# Calcular la precisión\n",
    "precision = np.mean(predicciones_correctas)\n",
    "print(f'Precisión aproximada: {precision * 100:.2f}%')"
   ]
  },
  {
   "cell_type": "code",
   "execution_count": 14,
   "metadata": {},
   "outputs": [],
   "source": [
    "# Guardar el modelo completo\n",
    "model.save('prediccio_puntuacio.keras')"
   ]
  }
 ],
 "metadata": {
  "kernelspec": {
   "display_name": "Python 3",
   "language": "python",
   "name": "python3"
  },
  "language_info": {
   "codemirror_mode": {
    "name": "ipython",
    "version": 3
   },
   "file_extension": ".py",
   "mimetype": "text/x-python",
   "name": "python",
   "nbconvert_exporter": "python",
   "pygments_lexer": "ipython3",
   "version": "3.10.4"
  }
 },
 "nbformat": 4,
 "nbformat_minor": 2
}
