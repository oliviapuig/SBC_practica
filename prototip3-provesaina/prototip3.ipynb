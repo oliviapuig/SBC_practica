{
 "cells": [
  {
   "cell_type": "markdown",
   "metadata": {},
   "source": [
    "# SBC - Pràctica CBR\n",
    "\n",
    "- Aina Gomila\n",
    "- Ruth Parajó\n",
    "- Olivia Puig\n",
    "- Marc Ucelayeta"
   ]
  },
  {
   "cell_type": "code",
   "execution_count": 2,
   "metadata": {},
   "outputs": [],
   "source": [
    "from cbr import CBR\n",
    "import pickle\n",
    "import pandas as pd\n",
    "import random\n",
    "import numpy as np"
   ]
  },
  {
   "cell_type": "code",
   "execution_count": 3,
   "metadata": {},
   "outputs": [],
   "source": [
    "cases_pkl =pd.read_pickle('../data/casos.pkl')\n",
    "books = pd.read_pickle('../data/llibres.pkl')"
   ]
  },
  {
   "cell_type": "code",
   "execution_count": 4,
   "metadata": {},
   "outputs": [
    {
     "name": "stderr",
     "output_type": "stream",
     "text": [
      "/Library/Frameworks/Python.framework/Versions/3.10/lib/python3.10/site-packages/sklearn/base.py:348: InconsistentVersionWarning: Trying to unpickle estimator KMeans from version 1.2.2 when using version 1.3.2. This might lead to breaking code or invalid results. Use at your own risk. For more info please refer to:\n",
      "https://scikit-learn.org/stable/model_persistence.html#security-maintainability-limitations\n",
      "  warnings.warn(\n"
     ]
    }
   ],
   "source": [
    "with open('../data/clustering/model_clustering_casos.pkl', 'rb') as arxiu:\n",
    "    clustering = pickle.load(arxiu)"
   ]
  },
  {
   "cell_type": "code",
   "execution_count": 5,
   "metadata": {},
   "outputs": [
    {
     "name": "stderr",
     "output_type": "stream",
     "text": [
      "/var/folders/fp/ktz_86vj0t11qbkjrdccjklc0000gn/T/ipykernel_3381/2518736069.py:2: SettingWithCopyWarning: \n",
      "A value is trying to be set on a copy of a slice from a DataFrame\n",
      "\n",
      "See the caveats in the documentation: https://pandas.pydata.org/pandas-docs/stable/user_guide/indexing.html#returning-a-view-versus-a-copy\n",
      "  cases_pkl.llibres_recomanats[0] = []\n",
      "/var/folders/fp/ktz_86vj0t11qbkjrdccjklc0000gn/T/ipykernel_3381/2518736069.py:3: SettingWithCopyWarning: \n",
      "A value is trying to be set on a copy of a slice from a DataFrame\n",
      "\n",
      "See the caveats in the documentation: https://pandas.pydata.org/pandas-docs/stable/user_guide/indexing.html#returning-a-view-versus-a-copy\n",
      "  cases_pkl.puntuacions_llibres[0] = []\n"
     ]
    }
   ],
   "source": [
    "#estableixo nou cas com el primer borrant els seus llibres recomanats (temporal)\n",
    "cases_pkl.llibres_recomanats[0] = []\n",
    "cases_pkl.puntuacions_llibres[0] = []\n",
    "nou_cas = cases_pkl.iloc[0]\n",
    "cases_pkl=cases_pkl.iloc[1:]"
   ]
  },
  {
   "cell_type": "code",
   "execution_count": 6,
   "metadata": {},
   "outputs": [
    {
     "data": {
      "text/plain": [
       "Index(['isbn', 'book_id', 'similar_books', 'average_rating', 'description',\n",
       "       'authors', 'isbn13', 'num_pages', 'publication_year', 'title',\n",
       "       'language_code', 'format', 'series', 'genres', 'estil_literari',\n",
       "       'complexitat', 'caracteristiques', 'desenvolupament_del_personatge',\n",
       "       'accio_o_reflexio', 'epoca', 'detall_cientific', 'cluster', 'vector'],\n",
       "      dtype='object')"
      ]
     },
     "execution_count": 6,
     "metadata": {},
     "output_type": "execute_result"
    }
   ],
   "source": [
    "books.columns"
   ]
  },
  {
   "cell_type": "code",
   "execution_count": 7,
   "metadata": {},
   "outputs": [
    {
     "name": "stdout",
     "output_type": "stream",
     "text": [
      "isbn ['0800759494' '0842379428' '1503945650' ... '0307272095' '1463718764'\n",
      " '1936740796']\n",
      "book_id [   89375    89376 25317381 ... 12244583 18406774 26534115]\n",
      "average_rating [3.91       4.26       3.69       3.65       3.98       4.04\n",
      " 3.86       3.13       4.46       4.01       4.22       4.13\n",
      " 3.92       4.27       3.75       4.31       3.55       3.71\n",
      " 3.73       4.43       4.15       4.09       4.12       4.25\n",
      " 3.43       4.11       3.44       3.89       3.67       3.8\n",
      " 3.99       4.45       3.79       3.16       3.64       4.07\n",
      " 4.21       3.19       4.14       4.55       3.4        4.28\n",
      " 3.88       4.47       3.96       3.58       3.7        3.51\n",
      " 4.48       3.93       3.63       3.68       3.81       2.81\n",
      " 3.17       3.9        4.06       3.87       3.57       3.62\n",
      " 4.03       4.05       4.44       4.2        3.03       3.78\n",
      " 3.74       4.02       4.33       3.6        3.94       3.66\n",
      " 3.33       3.36       3.95       2.94       3.82       3.42\n",
      " 4.57       4.4        4.58       3.         3.45       3.59\n",
      " 3.08       4.37       3.34       3.76       3.97       3.84\n",
      " 3.31       4.63       4.17       4.39       4.1        4.\n",
      " 4.08       5.         3.72       4.53       3.46       3.85\n",
      " 3.83       2.75       4.29       3.53       4.18       3.23\n",
      " 3.5        3.32       3.37       4.24       4.19       3.1\n",
      " 4.34       3.61       4.3        2.83       4.23       4.49\n",
      " 4.38       4.32       3.56       3.77       4.61       2.9\n",
      " 4.52       3.28       4.16       4.35       3.06       3.29\n",
      " 3.41       4.51       2.79       3.22       4.89       4.59\n",
      " 2.97       4.42       4.41       4.54       3.09       3.54\n",
      " 4.5        3.27       4.67       3.49       3.52       3.2\n",
      " 3.47       3.39       3.38       3.21       4.36       3.48\n",
      " 3.11       2.99       3.35       2.95       3.04       4.64\n",
      " 3.18       4.71       3.07       3.25       3.3        2.44\n",
      " 3.26       3.24       2.67       2.47       4.7        4.77\n",
      " 3.15       2.88       4.6        4.8        1.76       2.91\n",
      " 2.86       2.84       4.56       4.86       3.12       2.82\n",
      " 3.01       2.58007804 3.14       4.69       2.8        3.05\n",
      " 4.78       4.65       3.02       2.93       2.96       2.87\n",
      " 2.41       2.08       2.19       2.92       2.5        4.81\n",
      " 2.78       4.73       2.69       4.74       4.75       4.9\n",
      " 2.55       2.25       4.68       4.62       2.45       2.65\n",
      " 2.98       4.66       2.85       2.64       2.54       2.74\n",
      " 2.29       2.73       4.72       2.66       2.         2.71\n",
      " 1.81       2.33       2.42       2.77       2.35       2.68\n",
      " 2.57       2.4        4.83       4.50890161 2.46       4.84\n",
      " 2.51       2.76       2.89       4.87       4.82       2.32\n",
      " 3.67938741 2.64314663 2.72       2.58829353]\n",
      "description [\"As he is driving home from a minister's conference, Baptist minister Don Piper collides with a semi-truck that crosses into his lane. He is pronounced dead at the scene. For the next 90 minutes, Piper experiences heaven where he is greeted by those who had influenced him spiritually. He hears beautiful music and feels true peace. Back on earth, a passing minister who had also been at the conference is led to pray for Don even though he knows the man is dead. Piper miraculously comes back to life and the bliss of heaven is replaced by a long and painful recovery. For years Piper kept his heavenly experience to himself. Finally, however, friends and family convinced him to share his remarkable story.\"\n",
      " 'What is Heaven really going to be like? What will we look like? What will we do? Won\\'t Heaven get boring after a while?\\nWe all have questions about what Heaven will be like, and after 25 years of extensive research, Dr. Randy Alcorn has the answers.\\nIn the most comprehensive and definitive book on Heaven to date, Randy invites you to picture Heaven the way Scripture describes it-- a bright, vibrant, and physical New Earth, free from sin, suffering, and death, and brimming with Christ\\'s presence, wondrous natural beauty, and the richness of human culture as God intended it.\\nGod has put eternity in our hearts. Now, Randy Alcorn brings eternity to light in a way that will surprise you, spark your imagination, and change how you live life today.\\nIf you\\'ve always thought of Heaven as a realm of disembodied spirits, clouds, and eternal harp strumming, you\\'re in for a wonderful surprise.\\nThis is a book about real people with real bodies enjoying close relationships with God and each other, eating, drinking, working, playing, traveling, worshiping, and discovering on a New Earth. Earth as God created it. Earth as he intended it to be.\\nAnd the next time you hear someone say, \"We cant begin to imagine what Heaven will be like,\" you\\'ll be able to tell them, \"I can.\"'\n",
      " \"An Amazon Best Book of the Year\\nA Goodreads Best Book of the Month\\nFrom the internationally bestselling author Catherine McKenzie comes an evocative tale of two women navigating the secrets and lies at the heart of a wildfire threatening their town.\\nAfter a decadelong career combating wildfires, Elizabeth has traded in her former life for a quieter one with her husband. Now she works as the local arson investigator in a beautiful, quaint town in the Rockies. But that tranquil life vanishes when she and her husband agree to divorce and a fire in nearby Cooper Basin begins to spread rapidly. For Elizabeth, containing a raging wildfire is easier than accepting that her marriage has failed.\\nFor Elizabeth's ex-friend Mindy, who feels disconnected from her husband and teenage children, the fire represents a chance to find a new purpose: helping a man who has lost his home to the blaze. But her faith is shattered by a shocking accusation.\\nAs the encroaching inferno threatens the town's residents, Elizabeth and Mindy must discover what will be lost in the fire, and what will be saved.\"\n",
      " ...\n",
      " \"The Noah sisters rule Titan High with their beauty, brains, and magical powers. Each year they play a secret game: Crushed. The girls pick their targets carefully and blow enchanted dust into the boy's faces, charming them, but this year Kristen makes a grave mistake. She chooses the wrong boy and almost dies that same day. Coincidence? Maybe. But something isn't quite right about Zach Bevian. He doesn't behave like a boy who's been Crushed. He goes from hot to cold, from looking at her with contempt to asking her out on a date. She doesn't know what to think. Does he hate her or is he truly falling for her? Is he trying to kill her, or is he trying to save her?\"\n",
      " \"Most eco-friendly books start with terror-inducing lists of the carcinogenic chemicals you are liberally slathering all over every single surface in your house, painting most people as unwitting eco-villains, happily Lysol-ing their way straight to hell. Well, readers can just relax and unpack the (plastic) bags -- no guilt trips today!\\nAll You Need is Lessis about realistically adopting an eco-friendly lifestyle without either losing your mind from soul-destroying guilt or becoming a preachy know-it-all whom everyone loathes. It's all gotten kind of complicated, hasn't it?\\nThis whole eco-friendly thing seems to have devolved into a horrific cycle of guilt, shaming, and one-upping, and as a result people are becoming exhausted. It doesn't have to be this way. It is possible to take baby steps towards a more Earth-friendly lifestyle without stress, guilt, or judgmental eco-shaming. Top eco-blogger Madeleine Somerville is here with really original ideas on how to save money and the planet. Her ideas are even fun! Somerville has emerged as the voice of reason on urban homesteading that is stress-free, sanity-based, and above all do-able.\"\n",
      " '\"Simfonia itineranta\" este un roman complex, ciudat, despre anii de dinainte si de dupa o pandemie care ucide majoritatea populatiei de pe Terra, avand in centru destinele unei trupe de actori supravietuitori.\\nPlanurile temporale se impletesc in mod armonios. Frumos scris, bine construit, nu este, cum s-ar putea crede, doar un roman postapocaliptic sumbru, ci ne ofera o viziune inedita despre un viitor distopic.']\n",
      "authors [\"['39054', '11099']\" \"['4862']\" \"['3111153']\" ... \"['8056252']\"\n",
      " \"['7247122']\" \"['2786093', '6968079']\"]\n",
      "isbn13 ['9780800759490' '9780842379427' '9781503945654' ... '9781463718763'\n",
      " '9781936740796' '9786066098953']\n",
      "num_pages [ 207   76  400  256  228  320  484  336  392  387  192  352  210  348\n",
      "  432  485  410   28  144  452  255  318  506  367  180  328  479  295\n",
      "  322  454  208  415  128  592  329  120  302  407  124 1087   80  448\n",
      "   96  110  528  331  215  220  509  278  264  272  304  247  451   79\n",
      "  240  390  223  310  222  152  259  496   47  366  308  224   64  369\n",
      "  408  464  364  373  253  608  383  339  856  350  323  314  376  309\n",
      "  396  360   36  435  221  502  135  368  266  160  598 1017  521  424\n",
      "  288  526  346  183  411  462  380  226  644  276  468  341  299  880\n",
      "  399  326   71  393  416  265  814  216  349  384   92  117  338   40\n",
      "  481  236  406  231  394  306  281   24  280  409  254  330  736  492\n",
      "  419  214   37  188  672  431  165  374  107  148  290  333  517  403\n",
      "  337  213  319  548  480  568  751  811  307  343  440  836  747  750\n",
      "  518  544  200  456  112  418   18  163  246  401  689  555  118  760\n",
      "  250   48   32  522  270  212  315  354  372   15  154  325  453  205\n",
      "  357  166  499  535  271  388  402  282   77  245  371  397   29  471\n",
      "  378  363  279  356  511  705  312  227  284  296  656 1061   60   83\n",
      "  237  588  292   58  645  359  258  206  332  293  777  195  624  503\n",
      "   26   63  688  140  267  463  184  516  126  168  138  469  321  185\n",
      "  361  261  427  197  508  527  351  142  241  176  127  429  218  482\n",
      "  603  157  151  478  217  147  690  466  167  209  536  289 1050  327\n",
      "  355  446  277  232  676  385  248  303  405  438  269  512  762  300\n",
      "  735  169  291  146  370  100  428  111  342   56  268  171  704  763\n",
      "  443  274  557  635  285  472  298  414  170  577  172  283  344  134\n",
      " 1294  130  434  681  263  720  582  324 1039  317  311  244  229  297\n",
      "  158  149  358  191  251  150  313  230  404  275  273  386  243  458\n",
      "  567  260  108  252  459  225  584   27  203  382   78  560  178  722\n",
      "  114  131  486   75  196  186  421  531  819  262  936    1  143  141\n",
      "  616  305    2  422  340  599  423  576  430  233  488   50  335  287\n",
      "  104  474  139 1440  182  460  181  353  648  420  174  381  294  199\n",
      "  365  301  249  756   10  395  202  189  962  514 2700  628 1439  426\n",
      "  590  565   20   68  145   88 1243  546  765  845  119  602  533  187\n",
      "   98  661  752  389  498  641  658   17  835 1207  455  425   70   82\n",
      "  204  377  136   62  632  398  663  520  886  461  179  629   84  630\n",
      "  362  670  391  417  702  731  122   67  437  788  436  219    5  538\n",
      "  570  198  153  562  791  497  201 2201 1125   52  960  175    7  611\n",
      "  617  450  334  675  121  571  105  347  194  238  449  116  600  945\n",
      "  234 1136  669  132  494 1088  597  849  909  162    0  816  345   16\n",
      "  939  662   72  190  637  561  441    9  159  125  542  316  850   73\n",
      "  734  507   69   81 1258  115  870    4  106 1534  493  465  634   87\n",
      "  286  595   44 1280  257  242  545  709  910  211 1008  523   49   85\n",
      "  177  375  640  510  239  501  818  500  439   61  974  442 1167  412\n",
      " 1005  766  433  102  513   30 1231  530  556  583  532  444  164   95\n",
      "   91  564  447  827   25  525  890 1149  470   42   93  650  235   43\n",
      "  639  541  504   57  804  489  457  851 1137  553  713 1112  490  925\n",
      "  487  920  491 1074  543  591  701  558 2496   23  161  904  623  746\n",
      "  133  554  682 1120 1007 3164  784  643  696   21   55 1011 1952  612\n",
      "  540   35   99  467  524   65  916  761  642  445  477  173  649  710\n",
      "  744  549  515  848   13 2032  129  579  552  607  483   66  680  725\n",
      "  596  932 5216  534  379  618 1200  727  604  781  866  884  495  824\n",
      "   38  563  783  123  193  601  655  473   90  940  808  926   53  547\n",
      "   94  708   31  625  653  664 1040  413  572 1155   59  156  657  519\n",
      "  654 2218  703  985 1462    8  581 1223  846  863 1173  537  754 1424\n",
      "  743 1141 1312  613  559  786  994  580  575   41  898  832  593  109\n",
      "  566  113  992   14   19  551   39 1332 1392  933  774  740  768  475\n",
      "   54  155  891   74  789  800 1104  631 1635 1126  972 4558  897 1034\n",
      "    6 4100  573  728   34  476  815  679  803  699 1098  776  730 1153\n",
      "  887  698  912 1168  586  606  101  860  878  620  717  876  801  673\n",
      "  782  610  914 1068  864  729 1090   33  574  862 4081 1172  677  585\n",
      " 1051  652 1408  539  529 1023 1859  726  937   12  780   46  660   97\n",
      "   11  956  685 1590  825  137  609  928 1607 1344 1614  651  550 2016\n",
      "  790  615 1463  976  771  666  802 1049  748  646  921  995   89  767\n",
      "  712 2039 1133  907  896  980  622 1264 1182 1796  693  103  636 1139\n",
      "   45 1318  569  874  619  943   51 1744  505  721  796  944  973  589\n",
      " 1014  953  810 1177  931  578  742  716 1433  638 1044  665 1116  778\n",
      "  683  958  594 1037 1096  911 1152 1443  759 1080  927  785  964  659\n",
      " 2088  671  700  854  647  947  692  812 1006  922 1055  626  627 1178\n",
      "  807 1276 1015 1216  694  667  919 1072  950 1310  757 1248  714   86\n",
      "  749 1262]\n",
      "publication_year [2004 2012 2013 2010 2016 2015 2008 2006 2007 2011 2014 2017 1978 1992\n",
      " 2003 1998 1997 2009 2000 2005 1993 1964 1988 1973 1995 1994 1965 1999\n",
      " 1990 1996 1987 2001 1983 1955 2002 1981 1967 1991 1989 1971 1977 1986\n",
      " 1984 1982 1968 1958 1979 1950 1975 1962 1966 1985 1963 1980 1972 1954\n",
      " 1961 1959 1969 1976 1970 1952  650 1974 1932 1945  215 1957 1960 1939\n",
      " 1947 1370 1393 1946 2018 1930]\n",
      "title ['90 Minutes in Heaven: A True Story of Death and Life' 'Heaven' 'Smoke'\n",
      " ... 'Crushed (The Witch-Game, #1)'\n",
      " 'All You Need Is Less: The Eco-friendly Guide to Guilt-Free Green Living and Stress-Free Simplicity'\n",
      " 'Simfonia itinerantă']\n",
      "language_code ['no_identificat' 'en' 'jpn' 'fil' 'spa' 'per' 'slo' 'ger' 'ara' 'gre'\n",
      " 'msa' 'rum' 'ind' 'fre' 'nl' 'tur' 'ita' 'cze' 'amh' 'swe' 'por' 'rus'\n",
      " 'fin' 'mal' 'ben' 'hun' 'dan' 'tam' 'pol' 'tgl' 'mul' 'kor' 'kan' 'nno'\n",
      " 'srp' 'scr' 'vie' 'zho']\n",
      "format ['ebook' 'tapa blanda' 'audio' 'tapa dura']\n",
      "series ['nan' '162522.0' '161525.0' '195203.0' '158565.0' '747511.0' '895759.0'\n",
      " '384360.0' '833252.0' '273035.0' '558803.0' '735877.0' '411528.0'\n",
      " '205946.0' '167817.0' '1055430.0' '157411.0' '157478.0']\n",
      "genres [\"['non-fiction', 'history', 'fiction', 'comics']\" \"['non-fiction']\"\n",
      " \"['fiction', 'mystery', 'romance', 'non-fiction']\" ...\n",
      " \"['fantasy', 'fiction', 'children', 'mystery', 'history']\"\n",
      " \"['non-fiction', 'fiction', 'history', 'children']\"\n",
      " \"['comics', 'young-adult', 'romance', 'fiction', 'mystery']\"]\n",
      "estil_literari ['modernisme' 'realisme' 'realisme magico' 'simbolisme' 'romanticisme'\n",
      " 'postmodernisme' 'naturalisme']\n",
      "complexitat ['mitjana' 'baixa' 'alta']\n",
      "caracteristiques ['simples' 'complexes']\n",
      "desenvolupament_del_personatge ['mitja' 'baix' 'alt']\n",
      "accio_o_reflexio ['reflexio' 'accio']\n",
      "epoca ['actual' 'futura' 'passada']\n",
      "detall_cientific ['baix' 'alta' 'mitja']\n",
      "cluster [0 1 2 3 4]\n"
     ]
    }
   ],
   "source": [
    "for c in books.columns:\n",
    "    try:\n",
    "        print(c,books[c].unique())\n",
    "    except:\n",
    "        continue"
   ]
  },
  {
   "cell_type": "code",
   "execution_count": 8,
   "metadata": {},
   "outputs": [
    {
     "data": {
      "text/plain": [
       "dtype('O')"
      ]
     },
     "execution_count": 8,
     "metadata": {},
     "output_type": "execute_result"
    }
   ],
   "source": [
    "books.similar_books.dtype"
   ]
  },
  {
   "cell_type": "code",
   "execution_count": 9,
   "metadata": {},
   "outputs": [
    {
     "ename": "TypeError",
     "evalue": "CBR.reuse() missing 1 required positional argument: 'users'",
     "output_type": "error",
     "traceback": [
      "\u001b[0;31m---------------------------------------------------------------------------\u001b[0m",
      "\u001b[0;31mTypeError\u001b[0m                                 Traceback (most recent call last)",
      "Cell \u001b[0;32mIn[9], line 2\u001b[0m\n\u001b[1;32m      1\u001b[0m cbr \u001b[38;5;241m=\u001b[39m CBR(cases_pkl,clustering,books)\n\u001b[0;32m----> 2\u001b[0m recomanacio \u001b[38;5;241m=\u001b[39m \u001b[43mcbr\u001b[49m\u001b[38;5;241;43m.\u001b[39;49m\u001b[43mrecomana\u001b[49m\u001b[43m(\u001b[49m\u001b[43mnou_cas\u001b[49m\u001b[43m)\u001b[49m\n\u001b[1;32m      3\u001b[0m \u001b[38;5;28mprint\u001b[39m(\u001b[38;5;124m\"\u001b[39m\u001b[38;5;124mUsuari final:\u001b[39m\u001b[38;5;124m\"\u001b[39m)\n\u001b[1;32m      4\u001b[0m \u001b[38;5;28mprint\u001b[39m(recomanacio)\n",
      "File \u001b[0;32m~/Documents/GitHub/SBC_practica/prototip3-provesaina/cbr.py:172\u001b[0m, in \u001b[0;36mCBR.recomana\u001b[0;34m(self, user)\u001b[0m\n\u001b[1;32m    169\u001b[0m \u001b[38;5;28;01mdef\u001b[39;00m \u001b[38;5;21mrecomana\u001b[39m(\u001b[38;5;28mself\u001b[39m, user):\n\u001b[1;32m    170\u001b[0m     \u001b[38;5;66;03m# user es un diccionari!!!\u001b[39;00m\n\u001b[1;32m    171\u001b[0m     users \u001b[38;5;241m=\u001b[39m \u001b[38;5;28mself\u001b[39m\u001b[38;5;241m.\u001b[39mretrieve(user)\n\u001b[0;32m--> 172\u001b[0m     ll \u001b[38;5;241m=\u001b[39m \u001b[38;5;28;43mself\u001b[39;49m\u001b[38;5;241;43m.\u001b[39;49m\u001b[43mreuse\u001b[49m\u001b[43m(\u001b[49m\u001b[43musers\u001b[49m\u001b[43m)\u001b[49m\n\u001b[1;32m    173\u001b[0m     user \u001b[38;5;241m=\u001b[39m \u001b[38;5;28mself\u001b[39m\u001b[38;5;241m.\u001b[39mrevise(user, ll)\n\u001b[1;32m    174\u001b[0m     user \u001b[38;5;241m=\u001b[39m \u001b[38;5;28mself\u001b[39m\u001b[38;5;241m.\u001b[39mreview(user)\n",
      "\u001b[0;31mTypeError\u001b[0m: CBR.reuse() missing 1 required positional argument: 'users'"
     ]
    }
   ],
   "source": [
    "cbr = CBR(cases_pkl,clustering,books)\n",
    "recomanacio = cbr.recomana(nou_cas)\n",
    "print(\"Usuari final:\")\n",
    "print(recomanacio)"
   ]
  }
 ],
 "metadata": {
  "kernelspec": {
   "display_name": "Python 3",
   "language": "python",
   "name": "python3"
  },
  "language_info": {
   "codemirror_mode": {
    "name": "ipython",
    "version": 3
   },
   "file_extension": ".py",
   "mimetype": "text/x-python",
   "name": "python",
   "nbconvert_exporter": "python",
   "pygments_lexer": "ipython3",
   "version": "3.10.11"
  }
 },
 "nbformat": 4,
 "nbformat_minor": 2
}
