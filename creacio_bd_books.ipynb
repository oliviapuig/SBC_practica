{
 "cells": [
  {
   "cell_type": "code",
   "execution_count": 18,
   "metadata": {},
   "outputs": [
    {
     "name": "stdout",
     "output_type": "stream",
     "text": [
      "Las primeras 500 filas del archivo JSON fueron descargadas exitosamente.\n"
     ]
    }
   ],
   "source": [
    "import requests\n",
    "import gzip\n",
    "import json\n",
    "\n",
    "# URL del archivo JSON comprimido\n",
    "url = 'https://datarepo.eng.ucsd.edu/mcauley_group/gdrive/goodreads/goodreads_reviews_dedup.json.gz'\n",
    "\n",
    "# Realizar la solicitud GET al servidor\n",
    "response = requests.get(url, stream=True)\n",
    "\n",
    "# Verificar si la solicitud fue exitosa (código de estado 200)\n",
    "if response.status_code == 200:\n",
    "    # Descomprimir el contenido del archivo\n",
    "    with gzip.GzipFile(fileobj=response.raw) as f:\n",
    "        # Leer las primeras 500 filas del JSON\n",
    "        primeras_500_filas = [json.loads(next(f)[:-1].decode('utf-8')) for _ in range(50000)]\n",
    "\n",
    "    # Guardar las primeras 500 filas en un nuevo archivo JSON\n",
    "    with open('dd.json', 'w', encoding='utf-8') as file:\n",
    "        json.dump(primeras_500_filas, file, indent=2)\n",
    "\n",
    "    print(\"Las primeras 500 filas del archivo JSON fueron descargadas exitosamente.\")\n",
    "else:\n",
    "    print(f\"Error al descargar el archivo. Código de estado: {response.status_code}\")"
   ]
  },
  {
   "cell_type": "code",
   "execution_count": 19,
   "metadata": {},
   "outputs": [],
   "source": [
    "import pandas as pd\n",
    "# Read eoo.json only user_id, book_id, rating\n",
    "df = pd.read_json('dd.json')\n",
    "df = df[['user_id', 'book_id', 'rating']]"
   ]
  },
  {
   "cell_type": "code",
   "execution_count": 20,
   "metadata": {},
   "outputs": [
    {
     "name": "stdout",
     "output_type": "stream",
     "text": [
      "                            user_id   book_id  rating\n",
      "0  8842281e1d1347389f2ab93d60773d4d  24375664       5\n",
      "1  8842281e1d1347389f2ab93d60773d4d  18245960       5\n",
      "2  8842281e1d1347389f2ab93d60773d4d   6392944       3\n",
      "3  8842281e1d1347389f2ab93d60773d4d  22078596       4\n",
      "4  8842281e1d1347389f2ab93d60773d4d   6644782       4\n"
     ]
    }
   ],
   "source": [
    "print(df.head())"
   ]
  },
  {
   "cell_type": "code",
   "execution_count": 30,
   "metadata": {},
   "outputs": [
    {
     "ename": "MergeError",
     "evalue": "Passing 'suffixes' which cause duplicate columns {'language_code_x', 'authors_x', 'average_rating_x', 'title_x'} is not allowed.",
     "output_type": "error",
     "traceback": [
      "\u001b[0;31m---------------------------------------------------------------------------\u001b[0m",
      "\u001b[0;31mMergeError\u001b[0m                                Traceback (most recent call last)",
      "\u001b[1;32m/Users/usuari/Desktop/SBC_practica/creacio_bd_books.ipynb Cell 4\u001b[0m line \u001b[0;36m8\n\u001b[1;32m      <a href='vscode-notebook-cell:/Users/usuari/Desktop/SBC_practica/creacio_bd_books.ipynb#X15sZmlsZQ%3D%3D?line=4'>5</a>\u001b[0m selected_columns \u001b[39m=\u001b[39m [\u001b[39m'\u001b[39m\u001b[39muser_id\u001b[39m\u001b[39m'\u001b[39m, \u001b[39m'\u001b[39m\u001b[39mbook_id\u001b[39m\u001b[39m'\u001b[39m, \u001b[39m'\u001b[39m\u001b[39mrating\u001b[39m\u001b[39m'\u001b[39m, \u001b[39m'\u001b[39m\u001b[39misbn\u001b[39m\u001b[39m'\u001b[39m, \u001b[39m'\u001b[39m\u001b[39mtext_reviews_count\u001b[39m\u001b[39m'\u001b[39m, \u001b[39m'\u001b[39m\u001b[39mseries\u001b[39m\u001b[39m'\u001b[39m, \u001b[39m'\u001b[39m\u001b[39mcountry_code\u001b[39m\u001b[39m'\u001b[39m, \u001b[39m'\u001b[39m\u001b[39mlanguage_code\u001b[39m\u001b[39m'\u001b[39m, \u001b[39m'\u001b[39m\u001b[39mis_ebook\u001b[39m\u001b[39m'\u001b[39m, \u001b[39m'\u001b[39m\u001b[39maverage_rating\u001b[39m\u001b[39m'\u001b[39m, \u001b[39m'\u001b[39m\u001b[39msimilar_books\u001b[39m\u001b[39m'\u001b[39m, \u001b[39m'\u001b[39m\u001b[39mauthor_id\u001b[39m\u001b[39m'\u001b[39m, \u001b[39m'\u001b[39m\u001b[39mpublisher\u001b[39m\u001b[39m'\u001b[39m,\u001b[39m'\u001b[39m\u001b[39mnum_pages\u001b[39m\u001b[39m'\u001b[39m]  \u001b[39m# Afegeix els altres atributs desitjats\u001b[39;00m\n\u001b[1;32m      <a href='vscode-notebook-cell:/Users/usuari/Desktop/SBC_practica/creacio_bd_books.ipynb#X15sZmlsZQ%3D%3D?line=6'>7</a>\u001b[0m \u001b[39m# Realitza el merge\u001b[39;00m\n\u001b[0;32m----> <a href='vscode-notebook-cell:/Users/usuari/Desktop/SBC_practica/creacio_bd_books.ipynb#X15sZmlsZQ%3D%3D?line=7'>8</a>\u001b[0m df_merged \u001b[39m=\u001b[39m pd\u001b[39m.\u001b[39;49mmerge(df, df2, on\u001b[39m=\u001b[39;49m\u001b[39m'\u001b[39;49m\u001b[39mbook_id\u001b[39;49m\u001b[39m'\u001b[39;49m)\n\u001b[1;32m     <a href='vscode-notebook-cell:/Users/usuari/Desktop/SBC_practica/creacio_bd_books.ipynb#X15sZmlsZQ%3D%3D?line=9'>10</a>\u001b[0m \u001b[39m# Selecciona només les columnes desitjades\u001b[39;00m\n\u001b[1;32m     <a href='vscode-notebook-cell:/Users/usuari/Desktop/SBC_practica/creacio_bd_books.ipynb#X15sZmlsZQ%3D%3D?line=10'>11</a>\u001b[0m df_final \u001b[39m=\u001b[39m df_merged[selected_columns]\n",
      "File \u001b[0;32m~/.pyenv/versions/3.11.6/lib/python3.11/site-packages/pandas/core/reshape/merge.py:183\u001b[0m, in \u001b[0;36mmerge\u001b[0;34m(left, right, how, on, left_on, right_on, left_index, right_index, sort, suffixes, copy, indicator, validate)\u001b[0m\n\u001b[1;32m    168\u001b[0m \u001b[39melse\u001b[39;00m:\n\u001b[1;32m    169\u001b[0m     op \u001b[39m=\u001b[39m _MergeOperation(\n\u001b[1;32m    170\u001b[0m         left_df,\n\u001b[1;32m    171\u001b[0m         right_df,\n\u001b[0;32m   (...)\u001b[0m\n\u001b[1;32m    181\u001b[0m         validate\u001b[39m=\u001b[39mvalidate,\n\u001b[1;32m    182\u001b[0m     )\n\u001b[0;32m--> 183\u001b[0m     \u001b[39mreturn\u001b[39;00m op\u001b[39m.\u001b[39;49mget_result(copy\u001b[39m=\u001b[39;49mcopy)\n",
      "File \u001b[0;32m~/.pyenv/versions/3.11.6/lib/python3.11/site-packages/pandas/core/reshape/merge.py:885\u001b[0m, in \u001b[0;36m_MergeOperation.get_result\u001b[0;34m(self, copy)\u001b[0m\n\u001b[1;32m    881\u001b[0m     \u001b[39mself\u001b[39m\u001b[39m.\u001b[39mleft, \u001b[39mself\u001b[39m\u001b[39m.\u001b[39mright \u001b[39m=\u001b[39m \u001b[39mself\u001b[39m\u001b[39m.\u001b[39m_indicator_pre_merge(\u001b[39mself\u001b[39m\u001b[39m.\u001b[39mleft, \u001b[39mself\u001b[39m\u001b[39m.\u001b[39mright)\n\u001b[1;32m    883\u001b[0m join_index, left_indexer, right_indexer \u001b[39m=\u001b[39m \u001b[39mself\u001b[39m\u001b[39m.\u001b[39m_get_join_info()\n\u001b[0;32m--> 885\u001b[0m result \u001b[39m=\u001b[39m \u001b[39mself\u001b[39;49m\u001b[39m.\u001b[39;49m_reindex_and_concat(\n\u001b[1;32m    886\u001b[0m     join_index, left_indexer, right_indexer, copy\u001b[39m=\u001b[39;49mcopy\n\u001b[1;32m    887\u001b[0m )\n\u001b[1;32m    888\u001b[0m result \u001b[39m=\u001b[39m result\u001b[39m.\u001b[39m__finalize__(\u001b[39mself\u001b[39m, method\u001b[39m=\u001b[39m\u001b[39mself\u001b[39m\u001b[39m.\u001b[39m_merge_type)\n\u001b[1;32m    890\u001b[0m \u001b[39mif\u001b[39;00m \u001b[39mself\u001b[39m\u001b[39m.\u001b[39mindicator:\n",
      "File \u001b[0;32m~/.pyenv/versions/3.11.6/lib/python3.11/site-packages/pandas/core/reshape/merge.py:837\u001b[0m, in \u001b[0;36m_MergeOperation._reindex_and_concat\u001b[0;34m(self, join_index, left_indexer, right_indexer, copy)\u001b[0m\n\u001b[1;32m    834\u001b[0m left \u001b[39m=\u001b[39m \u001b[39mself\u001b[39m\u001b[39m.\u001b[39mleft[:]\n\u001b[1;32m    835\u001b[0m right \u001b[39m=\u001b[39m \u001b[39mself\u001b[39m\u001b[39m.\u001b[39mright[:]\n\u001b[0;32m--> 837\u001b[0m llabels, rlabels \u001b[39m=\u001b[39m _items_overlap_with_suffix(\n\u001b[1;32m    838\u001b[0m     \u001b[39mself\u001b[39;49m\u001b[39m.\u001b[39;49mleft\u001b[39m.\u001b[39;49m_info_axis, \u001b[39mself\u001b[39;49m\u001b[39m.\u001b[39;49mright\u001b[39m.\u001b[39;49m_info_axis, \u001b[39mself\u001b[39;49m\u001b[39m.\u001b[39;49msuffixes\n\u001b[1;32m    839\u001b[0m )\n\u001b[1;32m    841\u001b[0m \u001b[39mif\u001b[39;00m left_indexer \u001b[39mis\u001b[39;00m \u001b[39mnot\u001b[39;00m \u001b[39mNone\u001b[39;00m \u001b[39mand\u001b[39;00m \u001b[39mnot\u001b[39;00m is_range_indexer(left_indexer, \u001b[39mlen\u001b[39m(left)):\n\u001b[1;32m    842\u001b[0m     \u001b[39m# Pinning the index here (and in the right code just below) is not\u001b[39;00m\n\u001b[1;32m    843\u001b[0m     \u001b[39m#  necessary, but makes the `.take` more performant if we have e.g.\u001b[39;00m\n\u001b[1;32m    844\u001b[0m     \u001b[39m#  a MultiIndex for left.index.\u001b[39;00m\n\u001b[1;32m    845\u001b[0m     lmgr \u001b[39m=\u001b[39m left\u001b[39m.\u001b[39m_mgr\u001b[39m.\u001b[39mreindex_indexer(\n\u001b[1;32m    846\u001b[0m         join_index,\n\u001b[1;32m    847\u001b[0m         left_indexer,\n\u001b[0;32m   (...)\u001b[0m\n\u001b[1;32m    852\u001b[0m         use_na_proxy\u001b[39m=\u001b[39m\u001b[39mTrue\u001b[39;00m,\n\u001b[1;32m    853\u001b[0m     )\n",
      "File \u001b[0;32m~/.pyenv/versions/3.11.6/lib/python3.11/site-packages/pandas/core/reshape/merge.py:2697\u001b[0m, in \u001b[0;36m_items_overlap_with_suffix\u001b[0;34m(left, right, suffixes)\u001b[0m\n\u001b[1;32m   2695\u001b[0m     dups\u001b[39m.\u001b[39mextend(rlabels[(rlabels\u001b[39m.\u001b[39mduplicated()) \u001b[39m&\u001b[39m (\u001b[39m~\u001b[39mright\u001b[39m.\u001b[39mduplicated())]\u001b[39m.\u001b[39mtolist())\n\u001b[1;32m   2696\u001b[0m \u001b[39mif\u001b[39;00m dups:\n\u001b[0;32m-> 2697\u001b[0m     \u001b[39mraise\u001b[39;00m MergeError(\n\u001b[1;32m   2698\u001b[0m         \u001b[39mf\u001b[39m\u001b[39m\"\u001b[39m\u001b[39mPassing \u001b[39m\u001b[39m'\u001b[39m\u001b[39msuffixes\u001b[39m\u001b[39m'\u001b[39m\u001b[39m which cause duplicate columns \u001b[39m\u001b[39m{\u001b[39;00m\u001b[39mset\u001b[39m(dups)\u001b[39m}\u001b[39;00m\u001b[39m is \u001b[39m\u001b[39m\"\u001b[39m\n\u001b[1;32m   2699\u001b[0m         \u001b[39mf\u001b[39m\u001b[39m\"\u001b[39m\u001b[39mnot allowed.\u001b[39m\u001b[39m\"\u001b[39m,\n\u001b[1;32m   2700\u001b[0m     )\n\u001b[1;32m   2702\u001b[0m \u001b[39mreturn\u001b[39;00m llabels, rlabels\n",
      "\u001b[0;31mMergeError\u001b[0m: Passing 'suffixes' which cause duplicate columns {'language_code_x', 'authors_x', 'average_rating_x', 'title_x'} is not allowed."
     ]
    }
   ],
   "source": [
    "# fes un merge entre el dataframe anterior i el 500_llibres.json segons el book_id i guarda el resultat en un nou dataframe\n",
    "df2 = pd.read_json('500_llibres.json')\n",
    "\n",
    "# Selecciona els atributs desitjats del dataframe 500_llibres.json\n",
    "\n",
    "selected_columns = ['user_id', 'book_id', 'rating', 'isbn', 'text_reviews_count', 'series', 'country_code', 'language_code', 'is_ebook', 'average_rating', 'similar_books', 'author_id', 'publisher','num_pages']  # Afegeix els altres atributs desitjats\n",
    "\n",
    "# Realitza el merge\n",
    "df_merged = pd.merge(df, df2, on='book_id')\n",
    "\n",
    "# Selecciona només les columnes desitjades\n",
    "df_final = df_merged[selected_columns]\n",
    "\n",
    "# Guarda el resultat en un nou fitxer CSV\n",
    "df_final.to_csv('resultat_final.csv', index=False)\n"
   ]
  },
  {
   "cell_type": "code",
   "execution_count": 26,
   "metadata": {},
   "outputs": [
    {
     "name": "stdout",
     "output_type": "stream",
     "text": [
      "The 'popular_shelves' column does not exist in the dataframe.\n"
     ]
    }
   ],
   "source": [
    "if 'popular_shelves' in df.columns:\n",
    "    df['popular_shelves'] = df['popular_shelves'].apply(lambda x: [{'count': item['count'], 'name': item['name']} for item in x])\n",
    "    df['popular_shelves'] = df['popular_shelves'].apply(lambda x: x[1] if len(x) > 1 else None)\n",
    "else:\n",
    "    print(\"The 'popular_shelves' column does not exist in the dataframe.\")\n"
   ]
  }
 ],
 "metadata": {
  "kernelspec": {
   "display_name": "Python 3",
   "language": "python",
   "name": "python3"
  },
  "language_info": {
   "codemirror_mode": {
    "name": "ipython",
    "version": 3
   },
   "file_extension": ".py",
   "mimetype": "text/x-python",
   "name": "python",
   "nbconvert_exporter": "python",
   "pygments_lexer": "ipython3",
   "version": "3.11.6"
  }
 },
 "nbformat": 4,
 "nbformat_minor": 2
}
