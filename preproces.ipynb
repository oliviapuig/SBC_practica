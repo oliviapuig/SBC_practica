{
 "cells": [
  {
   "cell_type": "code",
   "execution_count": 12,
   "metadata": {},
   "outputs": [],
   "source": [
    "# importar la base de dades books.csv i fer un preprocesament de les dades\n",
    "# per tal de poder fer un anàlisi posterior\n",
    "\n",
    "import pandas as pd\n",
    "import numpy as np\n",
    "import matplotlib.pyplot as plt\n",
    "import seaborn as sns\n",
    "import re\n"
   ]
  },
  {
   "cell_type": "code",
   "execution_count": 14,
   "metadata": {},
   "outputs": [
    {
     "name": "stdout",
     "output_type": "stream",
     "text": [
      "Error al leer el archivo CSV: Error tokenizing data. C error: Expected 12 fields in line 3350, saw 13\n",
      "\n",
      "Empty DataFrame\n",
      "Columns: []\n",
      "Index: []\n"
     ]
    }
   ],
   "source": [
    "import pandas as pd\n",
    "file_path = 'books.csv'\n",
    "# Función para leer el archivo CSV y manejar errores\n",
    "def read_csv_with_error_handling(file_path):\n",
    "    try:\n",
    "        # Intenta leer el archivo CSV\n",
    "        df = pd.read_csv(file_path)\n",
    "        return df\n",
    "    except pd.errors.ParserError as e:\n",
    "        # Si hay un error, imprime el mensaje de error y crea un DataFrame vacío\n",
    "        print(f\"Error al leer el archivo CSV: {e}\")\n",
    "        return pd.DataFrame()\n",
    "\n",
    "# Ruta del archivo CSV\n",
    "csv_file_path = 'books.csv'\n",
    "\n",
    "# Llama a la función para leer el archivo CSV con manejo de errores\n",
    "df = read_csv_with_error_handling(csv_file_path)\n",
    "\n",
    "# Muestra las primeras filas del DataFrame resultante\n",
    "print(df.head())\n",
    "\n"
   ]
  },
  {
   "cell_type": "code",
   "execution_count": null,
   "metadata": {},
   "outputs": [],
   "source": [
    "#PREPROCÉS\n",
    "\n",
    "# eliminar les columnes que no s'utilitzaran\n",
    "books = books.drop(['bookID', 'isbn', 'isbn13', 'language_code', 'ratings_count', 'text_reviews_count'], axis=1)\n",
    "\n",
    "# eliminar les files que no s'utilitzaran\n",
    "books = books.dropna(subset=['authors', 'title', 'average_rating', 'num_pages', 'ratings_count'])\n",
    "\n",
    "# eliminar els valors que no s'utilitzaran\n",
    "books = books[books['average_rating'] != 'Not Rated']\n",
    "books = books[books['average_rating'] != 'None']\n",
    "books = books[books['num_pages'] != 'None']\n",
    "\n",
    "# convertir les columnes a tipus de dades correctes\n",
    "books['average_rating'] = books['average_rating'].astype(float)\n",
    "books['num_pages'] = books['num_pages'].astype(int)\n",
    "\n",
    "# eliminar els valors que no s'utilitzaran\n",
    "books = books[books['average_rating'] > 0]\n",
    "books = books[books['num_pages'] > 0]\n"
   ]
  }
 ],
 "metadata": {
  "kernelspec": {
   "display_name": "Python 3",
   "language": "python",
   "name": "python3"
  },
  "language_info": {
   "codemirror_mode": {
    "name": "ipython",
    "version": 3
   },
   "file_extension": ".py",
   "mimetype": "text/x-python",
   "name": "python",
   "nbconvert_exporter": "python",
   "pygments_lexer": "ipython3",
   "version": "3.11.6"
  }
 },
 "nbformat": 4,
 "nbformat_minor": 2
}
