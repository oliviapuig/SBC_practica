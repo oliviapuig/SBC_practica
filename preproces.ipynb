{
 "cells": [
  {
   "cell_type": "code",
   "execution_count": 1,
   "metadata": {},
   "outputs": [
    {
     "name": "stdout",
     "output_type": "stream",
     "text": [
      "Fitxer creat amb èxit: 'books_clean.csv'\n"
     ]
    }
   ],
   "source": [
    "import csv\n",
    "import pandas as pd\n",
    "\n",
    "fitxer_csv = \"books.csv\"\n",
    "fitxer_csv_net = \"books_clean.csv\"\n",
    "\n",
    "# Creem una llista buida per emmagatzemar les dades netes\n",
    "dades_netes = []\n",
    "\n",
    "try:\n",
    "    with open(fitxer_csv, mode='r', encoding='utf-8') as file:\n",
    "        reader = csv.reader(file)\n",
    "\n",
    "        for i, row in enumerate(reader):\n",
    "            try:\n",
    "                # Convertim la fila en un DataFrame i l'afegim a la llista\n",
    "                df_line = pd.DataFrame([row])\n",
    "                dades_netes.append(df_line)\n",
    "            except Exception as e:\n",
    "                print(f\"Error a la línia {i}: {e}\")\n",
    "\n",
    "    # Concatenem totes les files vàlides en un sol DataFrame\n",
    "    df_net = pd.concat(dades_netes, ignore_index=True)\n",
    "\n",
    "    # Guardem el DataFrame net en un nou fitxer CSV\n",
    "    df_net.to_csv(fitxer_csv_net, index=False)\n",
    "    print(f\"Fitxer creat amb èxit: '{fitxer_csv_net}'\")\n",
    "except Exception as e:\n",
    "    print(f\"S'ha produït un error general: {e}\")\n"
   ]
  },
  {
   "cell_type": "code",
   "execution_count": 5,
   "metadata": {},
   "outputs": [],
   "source": [
    "# canviar els noms de les columnes per el nom de la primera fila\n",
    "df = pd.read_csv('books_clean.csv')\n",
    "df.columns = df.iloc[0]\n",
    "df = df.drop(df.index[0])\n",
    "df.to_csv('books_clean.csv', index=False)"
   ]
  },
  {
   "cell_type": "code",
   "execution_count": null,
   "metadata": {},
   "outputs": [],
   "source": [
    "# afegir columnes amb "
   ]
  }
 ],
 "metadata": {
  "kernelspec": {
   "display_name": "Python 3",
   "language": "python",
   "name": "python3"
  },
  "language_info": {
   "codemirror_mode": {
    "name": "ipython",
    "version": 3
   },
   "file_extension": ".py",
   "mimetype": "text/x-python",
   "name": "python",
   "nbconvert_exporter": "python",
   "pygments_lexer": "ipython3",
   "version": "3.11.6"
  }
 },
 "nbformat": 4,
 "nbformat_minor": 2
}
