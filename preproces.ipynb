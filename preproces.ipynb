{
 "cells": [
  {
   "cell_type": "code",
   "execution_count": 7,
   "metadata": {},
   "outputs": [
    {
     "name": "stdout",
     "output_type": "stream",
     "text": [
      "Fitxer creat amb èxit: 'books_clean.csv'\n"
     ]
    }
   ],
   "source": [
    "import csv\n",
    "import pandas as pd\n",
    "\n",
    "fitxer_csv = \"books.csv\"\n",
    "fitxer_csv_net = \"books_clean.csv\"\n",
    "\n",
    "# Creem una llista buida per emmagatzemar les dades netes\n",
    "dades_netes = []\n",
    "\n",
    "try:\n",
    "    with open(fitxer_csv, mode='r', encoding='utf-8') as file:\n",
    "        reader = csv.reader(file)\n",
    "\n",
    "        for i, row in enumerate(reader):\n",
    "            try:\n",
    "                # Convertim la fila en un DataFrame i l'afegim a la llista\n",
    "                df_line = pd.DataFrame([row])\n",
    "                dades_netes.append(df_line)\n",
    "            except Exception as e:\n",
    "                print(f\"Error a la línia {i}: {e}\")\n",
    "\n",
    "    # Concatenem totes les files vàlides en un sol DataFrame\n",
    "    df_net = pd.concat(dades_netes, ignore_index=True)\n",
    "\n",
    "    # Guardem el DataFrame net en un nou fitxer CSV\n",
    "    df_net.to_csv(fitxer_csv_net, index=False)\n",
    "    print(f\"Fitxer creat amb èxit: '{fitxer_csv_net}'\")\n",
    "except Exception as e:\n",
    "    print(f\"S'ha produït un error general: {e}\")\n"
   ]
  },
  {
   "cell_type": "code",
   "execution_count": 8,
   "metadata": {},
   "outputs": [],
   "source": [
    "# canviar els noms de les columnes per el nom de la primera fila\n",
    "df = pd.read_csv('books_clean.csv')\n",
    "df.columns = df.iloc[0]\n",
    "df = df.drop(df.index[0])\n",
    "df.to_csv('books_clean.csv', index=False)"
   ]
  },
  {
   "cell_type": "code",
   "execution_count": 11,
   "metadata": {},
   "outputs": [],
   "source": [
    "#Eliminar una columna de Unnamed: 12\n",
    "df = pd.read_csv('books_clean.csv')\n",
    "df = df.drop('Unnamed: 12', axis=1)\n",
    "df.to_csv('books_clean.csv', index=False)"
   ]
  },
  {
   "cell_type": "code",
   "execution_count": 12,
   "metadata": {},
   "outputs": [],
   "source": [
    "import pandas as pd\n",
    "import numpy as np\n",
    "import random\n",
    "\n",
    "# Llegir la base de dades\n",
    "df = pd.read_csv(\"books_clean.csv\")\n",
    "\n",
    "# Afegir columnes amb valors aleatoris per cada punt mencionat\n",
    "for index, row in df.iterrows():\n",
    "    df.at[index, 'estil_literari'] = random.choice([\"realisme\", \"romanticisme\", \"naturalisme\", \"simbolisme\", \"modernisme\", \"realisme magico\", \"postmodernisme\"])\n",
    "    df.at[index, 'temes_especifics'] = random.choice([\"amor\", \"aventura\", \"terror\", \"fantasia\", \"ciencia ficcio\", \"historica\", \"filosofica\", \"psicologica\", \"social\", \"politica\", \"religiosa\", \"erotica\", \"humoristica\", \"costumista\", \"negra\", \"realista\", \"fantastica\", \"mitologica\", \"poetica\", \"satirica\", \"biografica\", \"epica\", \"didactica\", \"teatral\", \"lirica\", \"epistolar\", \"dramatica\", \"epica\", \"didactica\", \"teatral\", \"lirica\", \"epistolar\", \"dramatica\"])\n",
    "    df.at[index, 'complexitat'] = random.choice([\"baixa\", \"mitjana\", \"alta\"])\n",
    "    df.at[index, 'caracteristiques'] = random.choice([\"simples\", \"complexes\"])\n",
    "    df.at[index, 'desenvolupament_del_personatge'] = random.choice([\"baix\", \"mitja\", \"alt\"])\n",
    "    df.at[index, 'accio_o_reflexio'] = random.choice([\"accio\", \"reflexio\"])\n",
    "    df.at[index, 'longitud'] = random.choice([\"curta\", \"mitjana\", \"llarga\"])\n",
    "    df.at[index, 'epoca'] = random.choice([\"actual\", \"passada\", \"futura\"])\n",
    "    df.at[index, 'detall_cientific'] = random.choice([\"baix\", \"mitja\", \"alta\"])\n",
    "\n",
    "# Guardar la base de dades amb les noves columnes en un nou CSV\n",
    "df.to_csv(\"books_clean.csv\", index=False)\n",
    "\n",
    "# Ara pots utilitzar df per a altres operacions.\n"
   ]
  }
 ],
 "metadata": {
  "kernelspec": {
   "display_name": "Python 3",
   "language": "python",
   "name": "python3"
  },
  "language_info": {
   "codemirror_mode": {
    "name": "ipython",
    "version": 3
   },
   "file_extension": ".py",
   "mimetype": "text/x-python",
   "name": "python",
   "nbconvert_exporter": "python",
   "pygments_lexer": "ipython3",
   "version": "3.11.6"
  }
 },
 "nbformat": 4,
 "nbformat_minor": 2
}
