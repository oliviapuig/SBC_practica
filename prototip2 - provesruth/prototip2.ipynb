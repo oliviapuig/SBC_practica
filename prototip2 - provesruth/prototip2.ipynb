{
 "cells": [
  {
   "cell_type": "markdown",
   "metadata": {},
   "source": [
    "# SBC - Pràctica CBR\n",
    "\n",
    "- Aina Gomila\n",
    "- Ruth Parajó\n",
    "- Olivia Puig\n",
    "- Marc Ucelayeta"
   ]
  },
  {
   "cell_type": "code",
   "execution_count": 21,
   "metadata": {},
   "outputs": [],
   "source": [
    "from cbr import CBR\n",
    "from utils import Usuari\n",
    "import pickle\n",
    "import pandas as pd\n",
    "import random"
   ]
  },
  {
   "cell_type": "code",
   "execution_count": 22,
   "metadata": {},
   "outputs": [],
   "source": [
    "#cases =pd.read_pickle('../data/casos.pkl')"
   ]
  },
  {
   "cell_type": "code",
   "execution_count": 23,
   "metadata": {},
   "outputs": [],
   "source": [
    "cases_pkl =pd.read_pickle('../data/usuaris.pkl')\n",
    "cases=pd.read_csv('../data/usuaris.csv')"
   ]
  },
  {
   "cell_type": "code",
   "execution_count": 24,
   "metadata": {},
   "outputs": [],
   "source": [
    "with open('../model_clustering_kmeans.pkl', 'rb') as arxiu:\n",
    "    clustering = pickle.load(arxiu)"
   ]
  },
  {
   "cell_type": "code",
   "execution_count": 25,
   "metadata": {},
   "outputs": [],
   "source": [
    "#estableixo nou cas com el primer borrant els seus llibres recomanats (temporal)\n",
    "cases_pkl[0].llibres_recomanats = []\n",
    "cases_pkl[0].puntuacio_llibres = []\n",
    "nou_cas = cases_pkl[0]\n",
    "cases=cases.iloc[1:]"
   ]
  },
  {
   "cell_type": "code",
   "execution_count": 26,
   "metadata": {},
   "outputs": [
    {
     "data": {
      "text/plain": [
       "\"# Crear un diccionario vacío\\nnou_cas = {}\\nnou_cas['id'] = 1\\nnou_cas['llibres_llegits'] = ['Libro1', 'Libro2', 'Libro3']\\nnou_cas['valoracions'] = [3, 4, 5]\\nnou_cas['llibres_recomanats'] = ['Libro4', 'Libro5', 'Libro6']\\nnou_cas['puntuacions'] = [3, 4, 5]\\nnou_cas['vector'] = [random.uniform(-1, 1) for _ in range(53)]\\n\""
      ]
     },
     "execution_count": 26,
     "metadata": {},
     "output_type": "execute_result"
    }
   ],
   "source": [
    "'''# Crear un diccionario vacío\n",
    "nou_cas = {}\n",
    "nou_cas['id'] = 1\n",
    "nou_cas['llibres_llegits'] = ['Libro1', 'Libro2', 'Libro3']\n",
    "nou_cas['valoracions'] = [3, 4, 5]\n",
    "nou_cas['llibres_recomanats'] = ['Libro4', 'Libro5', 'Libro6']\n",
    "nou_cas['puntuacions'] = [3, 4, 5]\n",
    "nou_cas['vector'] = [random.uniform(-1, 1) for _ in range(53)]\n",
    "'''"
   ]
  },
  {
   "cell_type": "code",
   "execution_count": 27,
   "metadata": {},
   "outputs": [
    {
     "data": {
      "text/plain": [
       "1     3\n",
       "2     0\n",
       "3     1\n",
       "4     1\n",
       "5     1\n",
       "     ..\n",
       "95    0\n",
       "96    0\n",
       "97    0\n",
       "98    3\n",
       "99    3\n",
       "Name: cluster, Length: 99, dtype: int64"
      ]
     },
     "execution_count": 27,
     "metadata": {},
     "output_type": "execute_result"
    }
   ],
   "source": [
    "cases.cluster"
   ]
  },
  {
   "cell_type": "code",
   "execution_count": 28,
   "metadata": {},
   "outputs": [
    {
     "name": "stdout",
     "output_type": "stream",
     "text": [
      "(53,)\n",
      "['[0.2 0.8 0.  1.  1.  0.  0.  0.  0.  0.  0.  0.  0.  1.  0.6 0.2 0.  0.\\n 0.  0.2 0.  0.  0.  0.  0.  0.  0.  0.  1.  0.  0.  0.  0.  0.  1.8 0.2\\n 1.  1.8 1.2 1.  0.6 1.4 1.  2.  2.2 0.8 0.  1.6 1.  0.4 0.2 1.8 1. ]'\n",
      " '[ 1.  -0.6  1.   0.  -0.2  0.   1.  -0.6  0.   1.   0.   0.   0.   0.\\n  0.   1.   0.   0.   0.   0.   0.   0.  -0.2  0.   0.   0.   1.   0.\\n  0.   0.   0.   0.   0.   0.   1.8  0.   0.4  1.   1.2 -0.2  1.   1.4\\n  0.8  1.4  1.2  0.   1.   0.4  0.   1.8  0.   2.   0.2]'\n",
      " '[ 0.   0.   0.2  0.6 -0.2  0.6  1.   0.   0.   0.   0.2  0.   0.   0.\\n  0.   0.   0.6  0.   0.   0.   0.   0.   0.   0.   0.   1.   0.   0.\\n -0.2  0.   0.6  0.   0.   0.   0.8  0.6  0.8 -0.2  2.4  1.   0.6  0.6\\n  0.   2.2  1.4  1.  -0.2 -0.2  0.6  1.8  0.6  1.   0.6]'\n",
      " '[-0.2  0.   0.  -0.2  1.   0.6  0.6  0.   0.   0.   0.   0.6  0.6  0.\\n -0.2  0.   0.   0.   0.   0.   0.   0.   0.   0.   0.   0.   0.   0.\\n -0.2  0.   0.   0.   1.   0.   0.8  0.   1.   0.4  1.4  0.6  0.8  0.4\\n  2.  -0.2  0.8  0.   1.  -0.4  2.2  0.  -0.2  1.   1. ]'\n",
      " '[ 0.   1.   0.   0.   0.   0.6  1.   0.   0.   0.   0.  -1.   0.   1.\\n  0.   0.   0.   0.   0.   0.   0.   1.   0.   0.   0.   0.   0.   0.\\n  0.   0.   1.   0.   0.6  0.   0.6  1.   1.   1.6  1.   0.   1.6  1.\\n  1.   1.6  1.   1.6  0.   0.  -0.4  3.   0.6  0.   2. ]'\n",
      " '[0.  0.2 0.  2.  0.6 1.  0.  0.  1.  0.  1.  0.  0.2 1.  0.  0.  0.  0.\\n 0.  0.  0.  0.  0.  0.6 0.  0.  0.  0.  0.  0.  0.  0.  0.  0.  1.6 1.\\n 1.2 2.6 1.2 1.8 0.  2.  2.  1.8 0.6 2.  1.2 2.  1.2 0.6 0.  2.8 1. ]'\n",
      " '[ 1.2  0.   0.  -0.6  0.   0.2  1.   0.   0.2  0.   0.   0.   0.   0.\\n  0.   0.   0.   0.   0.   0.2  0.   0.   0.   0.   0.   0.   0.4  0.\\n  0.   0.   0.   0.   0.   1.  -0.6  0.   2.4 -0.4  2.2  0.   1.2  0.6\\n  2.2 -0.4  1.   0.6  0.2 -0.4  1.2  1.  -0.6  2.2  0.2]'\n",
      " '[-0.2  1.  -0.2  1.   0.   0.   1.   0.   0.   0.   0.   0.   0.   0.8\\n  0.   0.   0.   0.   0.   0.   0.   0.   0.   0.   0.   0.   0.   0.8\\n  0.   1.   0.   0.   0.   0.   0.   0.8  1.8  1.   1.6  0.8  0.8  1.\\n -0.2  2.8  0.   1.8  0.8  1.   0.8  0.8  0.8  2.  -0.2]'\n",
      " '[ 0.   0.   0.4  0.8  0.   0.   0.6  0.   0.   0.   0.   1.6  0.  -0.2\\n  0.   0.   0.   0.  -0.2  0.   0.   0.   0.   0.   0.   0.   0.6  0.\\n  0.   0.   0.   0.   0.   0.   0.4  1.   0.4  1.2  0.6  0.4  0.   1.4\\n  2.2 -0.4  0.6  0.6  0.6  0.6  0.8  0.4  1.6  0.2  0. ]'\n",
      " '[ 1.  -1.   0.   1.2  0.6  0.   0.   1.   0.   0.   0.   0.   0.  -1.\\n  0.   0.   0.   0.   0.   0.   0.   0.   0.   0.   0.   0.   0.6  0.\\n  0.   0.   0.6  0.   0.   0.6  0.6  0.2  1.  -1.   2.8  1.2 -1.   1.6\\n -0.4  2.2  0.2  1.6  0.   1.2  1.6 -1.   1.   0.6  0.2]'\n",
      " '[ 0.2 -0.2  1.6  0.   0.  -0.6  0.   0.   0.   0.   0.   0.   0.6  0.2\\n -0.6  1.   0.  -0.2  0.   0.   0.   0.   0.   0.   0.   0.   0.   0.\\n  0.   0.   0.   0.   0.   0.   1.2 -0.2  0.   0.   1.   1.   0.2 -0.2\\n  0.   1.  -0.6  0.8  0.8 -0.2  1.2  0.   0.   0.   1. ]'\n",
      " '[ 0.   1.   0.  -0.4  0.   0.4  0.   0.   0.   0.2  0.   0.6  0.   0.\\n  0.   0.  -0.6  0.   0.   0.   0.   0.   0.   0.   0.   0.   0.   0.\\n  0.   0.  -0.2  1.   0.   0.   0.2  0.8  0.  -0.4  1.4  0.   0.4  0.6\\n  0.   1.   0.8  0.2  0.   0.  -0.8  1.8  1.   0.6 -0.6]'\n",
      " '[ 0.   0.   0.6  1.6  0.  -0.2 -0.2  0.   0.   0.   0.   0.   0.   0.\\n  0.   0.   0.   0.   0.   0.   0.  -0.2  0.   1.   0.6  0.   0.   0.\\n  0.   0.   0.   0.   0.4  0.   1.4  0.   0.4  1.2  0.6  0.6  1.2  0.\\n  0.2  1.6 -0.2  2.   0.   0.4  0.8  0.6  0.6  0.8  0.4]'\n",
      " '[0.  0.  1.  0.  0.  1.4 1.  0.  0.  0.  0.  0.  0.  0.  0.  2.  0.  0.\\n 0.  0.  0.  0.  0.  0.  0.  0.  0.  1.2 0.  0.2 0.  0.  0.  0.  1.4 2.\\n 0.  0.2 3.2 1.4 2.  0.  3.  0.4 2.2 0.2 1.  2.2 1.2 0.  3.  0.  0.4]'\n",
      " '[2.  0.  0.2 0.4 0.  0.  0.  0.  0.  0.  0.2 0.  0.  1.  0.  0.  0.  0.\\n 0.  0.2 0.  0.  0.  0.  0.  0.2 0.  0.  0.  0.  0.  0.  1.  0.  2.2 0.2\\n 0.2 0.2 2.4 2.  0.4 0.2 1.  1.6 0.2 1.2 1.2 2.4 0.2 0.  0.2 0.2 2.2]'\n",
      " '[ 0.   0.4  0.   0.   0.   1.8  0.   0.6  0.   1.   0.   0.   0.2  0.\\n  0.   0.   0.6  0.   0.   0.   0.   0.   0.   0.   0.   0.   0.   0.\\n  0.   0.   0.   0.  -0.2  0.   1.8  0.4  0.   2.2  0.   0.6  1.   0.6\\n  1.6  0.6  1.   0.6  0.6  0.6  1.   0.6  0.8  0.8  0.6]'\n",
      " '[ 0.  -0.6  1.2  0.   0.6  0.6  0.   0.   0.   0.   0.   0.   0.   0.6\\n  0.   0.   0.   0.   0.   0.6 -0.6  0.   0.   0.   0.   0.   0.   0.\\n  0.   0.   0.6  0.6  0.   0.   0.   0.6  1.2  1.2  0.6  1.2  0.6  0.\\n  1.2  0.6  1.2  0.6  0.   0.6  0.   1.2  0.6  0.   1.2]'\n",
      " '[ 0.6  0.6  0.6  0.   0.  -0.6  0.6  0.   0.   0.   0.   0.  -0.6  0.\\n  1.2  0.6  0.   0.   0.   0.   0.   0.   0.6  0.   0.   0.   0.   0.\\n  0.   0.   0.   0.   0.   0.   0.6  0.6  0.6  0.6  1.2  1.2  0.6  0.\\n  1.2  0.6  0.   1.2  0.6  0.   1.2  0.6  1.2  1.2 -0.6]']\n"
     ]
    }
   ],
   "source": [
    "print(nou_cas.vector.shape)\n",
    "print(cases[cases.cluster==3]['vector'].values)"
   ]
  },
  {
   "cell_type": "code",
   "execution_count": 29,
   "metadata": {},
   "outputs": [
    {
     "name": "stdout",
     "output_type": "stream",
     "text": [
      "Unexpected exception formatting exception. Falling back to standard exception\n"
     ]
    },
    {
     "name": "stderr",
     "output_type": "stream",
     "text": [
      "Traceback (most recent call last):\n",
      "  File \"/Users/ruthparajo/Library/Python/3.9/lib/python/site-packages/IPython/core/interactiveshell.py\", line 3526, in run_code\n",
      "    exec(code_obj, self.user_global_ns, self.user_ns)\n",
      "  File \"/var/folders/lx/01q73krn1md9zqcwvy3rqlqh0000gn/T/ipykernel_2917/502518792.py\", line 2, in <module>\n",
      "    recomanacio = cbr.recomana(nou_cas)\n",
      "  File \"/Users/ruthparajo/Desktop/uni/SBC/pràctica 2/SBC_practica/prototip2 - provesruth/cbr.py\", line 99, in recomana\n",
      "    if np.average(similarities) <= 0.6:\n",
      "  File \"/Users/ruthparajo/Desktop/uni/SBC/pràctica 2/SBC_practica/prototip2 - provesruth/cbr.py\", line 41, in retrieve\n",
      "    veins = self.cases[self.cases.cluster == cl]\n",
      "  File \"/Users/ruthparajo/Library/Python/3.9/lib/python/site-packages/pandas/core/generic.py\", line 2102, in __array_ufunc__\n",
      "    return arraylike.array_ufunc(self, ufunc, method, *inputs, **kwargs)\n",
      "  File \"/Users/ruthparajo/Library/Python/3.9/lib/python/site-packages/pandas/core/arraylike.py\", line 273, in array_ufunc\n",
      "    result = maybe_dispatch_ufunc_to_dunder_op(self, ufunc, method, *inputs, **kwargs)\n",
      "  File \"ops_dispatch.pyx\", line 113, in pandas._libs.ops_dispatch.maybe_dispatch_ufunc_to_dunder_op\n",
      "  File \"/Users/ruthparajo/Library/Python/3.9/lib/python/site-packages/pandas/core/ops/common.py\", line 76, in new_method\n",
      "    return method(self, other)\n",
      "  File \"/Users/ruthparajo/Library/Python/3.9/lib/python/site-packages/pandas/core/arraylike.py\", line 198, in __rsub__\n",
      "    return self._arith_method(other, roperator.rsub)\n",
      "  File \"/Users/ruthparajo/Library/Python/3.9/lib/python/site-packages/pandas/core/frame.py\", line 7644, in _arith_method\n",
      "    self, other = self._align_for_op(other, axis, flex=True, level=None)\n",
      "  File \"/Users/ruthparajo/Library/Python/3.9/lib/python/site-packages/pandas/core/frame.py\", line 7875, in _align_for_op\n",
      "    right = to_series(right)\n",
      "  File \"/Users/ruthparajo/Library/Python/3.9/lib/python/site-packages/pandas/core/frame.py\", line 7867, in to_series\n",
      "    raise ValueError(\n",
      "ValueError: Unable to coerce to Series, length must be 9: given 53\n",
      "\n",
      "During handling of the above exception, another exception occurred:\n",
      "\n",
      "Traceback (most recent call last):\n",
      "  File \"/Users/ruthparajo/Library/Python/3.9/lib/python/site-packages/IPython/core/interactiveshell.py\", line 2120, in showtraceback\n",
      "    stb = self.InteractiveTB.structured_traceback(\n",
      "  File \"/Users/ruthparajo/Library/Python/3.9/lib/python/site-packages/IPython/core/ultratb.py\", line 1435, in structured_traceback\n",
      "    return FormattedTB.structured_traceback(\n",
      "  File \"/Users/ruthparajo/Library/Python/3.9/lib/python/site-packages/IPython/core/ultratb.py\", line 1326, in structured_traceback\n",
      "    return VerboseTB.structured_traceback(\n",
      "  File \"/Users/ruthparajo/Library/Python/3.9/lib/python/site-packages/IPython/core/ultratb.py\", line 1173, in structured_traceback\n",
      "    formatted_exception = self.format_exception_as_a_whole(etype, evalue, etb, number_of_lines_of_context,\n",
      "  File \"/Users/ruthparajo/Library/Python/3.9/lib/python/site-packages/IPython/core/ultratb.py\", line 1063, in format_exception_as_a_whole\n",
      "    self.get_records(etb, number_of_lines_of_context, tb_offset) if etb else []\n",
      "  File \"/Users/ruthparajo/Library/Python/3.9/lib/python/site-packages/IPython/core/ultratb.py\", line 1155, in get_records\n",
      "    FrameInfo(\n",
      "  File \"/Users/ruthparajo/Library/Python/3.9/lib/python/site-packages/IPython/core/ultratb.py\", line 780, in __init__\n",
      "    ix = inspect.getsourcelines(frame)\n",
      "  File \"/Library/Developer/CommandLineTools/Library/Frameworks/Python3.framework/Versions/3.9/lib/python3.9/inspect.py\", line 1006, in getsourcelines\n",
      "    lines, lnum = findsource(object)\n",
      "  File \"/Library/Developer/CommandLineTools/Library/Frameworks/Python3.framework/Versions/3.9/lib/python3.9/inspect.py\", line 835, in findsource\n",
      "    raise OSError('could not get source code')\n",
      "OSError: could not get source code\n"
     ]
    }
   ],
   "source": [
    "cbr = CBR(cases,clustering)\n",
    "recomanacio = cbr.recomana(nou_cas)\n",
    "print(\"Usuari final:\")\n",
    "print(recomanacio)"
   ]
  }
 ],
 "metadata": {
  "kernelspec": {
   "display_name": "Python 3",
   "language": "python",
   "name": "python3"
  },
  "language_info": {
   "codemirror_mode": {
    "name": "ipython",
    "version": 3
   },
   "file_extension": ".py",
   "mimetype": "text/x-python",
   "name": "python",
   "nbconvert_exporter": "python",
   "pygments_lexer": "ipython3",
   "version": "3.9.6"
  }
 },
 "nbformat": 4,
 "nbformat_minor": 2
}
