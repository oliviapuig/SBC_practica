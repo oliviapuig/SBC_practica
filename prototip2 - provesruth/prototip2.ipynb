{
 "cells": [
  {
   "cell_type": "markdown",
   "metadata": {},
   "source": [
    "# SBC - Pràctica CBR\n",
    "\n",
    "- Aina Gomila\n",
    "- Ruth Parajó\n",
    "- Olivia Puig\n",
    "- Marc Ucelayeta"
   ]
  },
  {
   "cell_type": "code",
   "execution_count": 1,
   "metadata": {},
   "outputs": [],
   "source": [
    "from cbr import CBR\n",
    "from utils import Usuari\n",
    "import pickle\n",
    "import pandas as pd\n",
    "import random"
   ]
  },
  {
   "cell_type": "code",
   "execution_count": 2,
   "metadata": {},
   "outputs": [],
   "source": [
    "#cases =pd.read_pickle('../data/casos.pkl')"
   ]
  },
  {
   "cell_type": "code",
   "execution_count": 3,
   "metadata": {},
   "outputs": [],
   "source": [
    "cases =pd.read_pickle('../data/usuaris.pkl')"
   ]
  },
  {
   "cell_type": "code",
   "execution_count": 4,
   "metadata": {},
   "outputs": [],
   "source": [
    "with open('../model_clustering_kmeans.pkl', 'rb') as arxiu:\n",
    "    clustering = pickle.load(arxiu)"
   ]
  },
  {
   "cell_type": "code",
   "execution_count": 5,
   "metadata": {},
   "outputs": [
    {
     "data": {
      "text/plain": [
       "{'ind': 0,\n",
       " 'attributes': {'llibres_usuari': ['9780440235590',\n",
       "   '9780375761140',\n",
       "   '9780786178186',\n",
       "   '9780767916226',\n",
       "   '9780375702068'],\n",
       "  'val_llibres': [2, 4, 0, 2, 2],\n",
       "  'llibres_recomanats': ['9780099458265', '9780684831831', '9780879977641'],\n",
       "  'puntuacio_llibres': [1, 5, 3, 3, 0]},\n",
       " 'llibres_usuari': ['9780440235590',\n",
       "  '9780375761140',\n",
       "  '9780786178186',\n",
       "  '9780767916226',\n",
       "  '9780375702068'],\n",
       " 'val_llibres': [2, 4, 0, 2, 2],\n",
       " 'llibres_recomanats': ['9780099458265', '9780684831831', '9780879977641'],\n",
       " 'puntuacio_llibres': [1, 5, 3, 3, 0],\n",
       " 'vector': array([ 0. , -0.2, -0.2,  0. , -0.4,  0. , -0.2,  0. ,  0. ,  0. ,  0. ,\n",
       "         0. , -0.2,  0. , -0.2, -1. ,  0. ,  0. ,  0. ,  0. ,  0. , -0.2,\n",
       "         0. ,  0. ,  0. ,  0. ,  0. ,  0. ,  0. ,  0.6,  0. ,  0. ,  0. ,\n",
       "         0. ,  0. ,  0. , -1. ,  0.2, -1.2, -0.2, -1.2,  0.4, -1.6,  0.6,\n",
       "         0.4, -0.4, -1. ,  0. ,  0. , -1. , -1.2,  0.4, -0.2])}"
      ]
     },
     "execution_count": 5,
     "metadata": {},
     "output_type": "execute_result"
    }
   ],
   "source": [
    "cases[0].__dict__"
   ]
  },
  {
   "cell_type": "code",
   "execution_count": 6,
   "metadata": {},
   "outputs": [
    {
     "data": {
      "text/plain": [
       "<utils.Usuari at 0x1056344f0>"
      ]
     },
     "execution_count": 6,
     "metadata": {},
     "output_type": "execute_result"
    }
   ],
   "source": [
    "#estableixo nou cas com el primer borrant els seus llibres recomanats (temporal)\n",
    "cases[0].llibres_recomanats = []\n",
    "cases[0].puntuacio_llibres = []\n",
    "nou_cas = cases[0]\n",
    "cases.pop(0)"
   ]
  },
  {
   "cell_type": "code",
   "execution_count": 7,
   "metadata": {},
   "outputs": [
    {
     "data": {
      "text/plain": [
       "\"# Crear un diccionario vacío\\nnou_cas = {}\\nnou_cas['id'] = 1\\nnou_cas['llibres_llegits'] = ['Libro1', 'Libro2', 'Libro3']\\nnou_cas['valoracions'] = [3, 4, 5]\\nnou_cas['llibres_recomanats'] = ['Libro4', 'Libro5', 'Libro6']\\nnou_cas['puntuacions'] = [3, 4, 5]\\nnou_cas['vector'] = [random.uniform(-1, 1) for _ in range(53)]\\n\""
      ]
     },
     "execution_count": 7,
     "metadata": {},
     "output_type": "execute_result"
    }
   ],
   "source": [
    "'''# Crear un diccionario vacío\n",
    "nou_cas = {}\n",
    "nou_cas['id'] = 1\n",
    "nou_cas['llibres_llegits'] = ['Libro1', 'Libro2', 'Libro3']\n",
    "nou_cas['valoracions'] = [3, 4, 5]\n",
    "nou_cas['llibres_recomanats'] = ['Libro4', 'Libro5', 'Libro6']\n",
    "nou_cas['puntuacions'] = [3, 4, 5]\n",
    "nou_cas['vector'] = [random.uniform(-1, 1) for _ in range(53)]\n",
    "'''"
   ]
  },
  {
   "cell_type": "code",
   "execution_count": 8,
   "metadata": {},
   "outputs": [
    {
     "ename": "AttributeError",
     "evalue": "'list' object has no attribute 'cluster'",
     "output_type": "error",
     "traceback": [
      "\u001b[0;31m---------------------------------------------------------------------------\u001b[0m",
      "\u001b[0;31mAttributeError\u001b[0m                            Traceback (most recent call last)",
      "\u001b[1;32m/Users/ruthparajo/Desktop/uni/SBC/pràctica 2/SBC_practica/prototip2 - provesruth/prototip2.ipynb Cell 9\u001b[0m line \u001b[0;36m2\n\u001b[1;32m      <a href='vscode-notebook-cell:/Users/ruthparajo/Desktop/uni/SBC/pr%C3%A0ctica%202/SBC_practica/prototip2%20-%20provesruth/prototip2.ipynb#X11sZmlsZQ%3D%3D?line=0'>1</a>\u001b[0m cbr \u001b[39m=\u001b[39m CBR(cases,clustering)\n\u001b[0;32m----> <a href='vscode-notebook-cell:/Users/ruthparajo/Desktop/uni/SBC/pr%C3%A0ctica%202/SBC_practica/prototip2%20-%20provesruth/prototip2.ipynb#X11sZmlsZQ%3D%3D?line=1'>2</a>\u001b[0m recomanacio \u001b[39m=\u001b[39m cbr\u001b[39m.\u001b[39;49mrecomana(nou_cas)\n\u001b[1;32m      <a href='vscode-notebook-cell:/Users/ruthparajo/Desktop/uni/SBC/pr%C3%A0ctica%202/SBC_practica/prototip2%20-%20provesruth/prototip2.ipynb#X11sZmlsZQ%3D%3D?line=2'>3</a>\u001b[0m \u001b[39mprint\u001b[39m(\u001b[39m\"\u001b[39m\u001b[39mUsuari final:\u001b[39m\u001b[39m\"\u001b[39m)\n\u001b[1;32m      <a href='vscode-notebook-cell:/Users/ruthparajo/Desktop/uni/SBC/pr%C3%A0ctica%202/SBC_practica/prototip2%20-%20provesruth/prototip2.ipynb#X11sZmlsZQ%3D%3D?line=3'>4</a>\u001b[0m \u001b[39mprint\u001b[39m(recomanacio)\n",
      "File \u001b[0;32m~/Desktop/uni/SBC/pràctica 2/SBC_practica/prototip2 - provesruth/cbr.py:99\u001b[0m, in \u001b[0;36mCBR.recomana\u001b[0;34m(self, user)\u001b[0m\n\u001b[1;32m     97\u001b[0m \u001b[39mdef\u001b[39;00m \u001b[39mrecomana\u001b[39m(\u001b[39mself\u001b[39m, user):\n\u001b[1;32m     98\u001b[0m     \u001b[39m# user es un diccionari!!!\u001b[39;00m\n\u001b[0;32m---> 99\u001b[0m     users \u001b[39m=\u001b[39m \u001b[39mself\u001b[39;49m\u001b[39m.\u001b[39;49mretrieve(user)\n\u001b[1;32m    100\u001b[0m     ll, punt \u001b[39m=\u001b[39m \u001b[39mself\u001b[39m\u001b[39m.\u001b[39mreuse(users)\n\u001b[1;32m    101\u001b[0m     user \u001b[39m=\u001b[39m \u001b[39mself\u001b[39m\u001b[39m.\u001b[39mrevise(user, ll, punt)\n",
      "File \u001b[0;32m~/Desktop/uni/SBC/pràctica 2/SBC_practica/prototip2 - provesruth/cbr.py:40\u001b[0m, in \u001b[0;36mCBR.retrieve\u001b[0;34m(self, user)\u001b[0m\n\u001b[1;32m     36\u001b[0m \u001b[39m\u001b[39m\u001b[39m\"\"\"\u001b[39;00m\n\u001b[1;32m     37\u001b[0m \u001b[39mReturn 5 most similar users\u001b[39;00m\n\u001b[1;32m     38\u001b[0m \u001b[39m\"\"\"\u001b[39;00m\n\u001b[1;32m     39\u001b[0m cl\u001b[39m=\u001b[39m\u001b[39mself\u001b[39m\u001b[39m.\u001b[39mclustering\u001b[39m.\u001b[39mpredict(user\u001b[39m.\u001b[39mvector\u001b[39m.\u001b[39mreshape(\u001b[39m1\u001b[39m,\u001b[39m-\u001b[39m\u001b[39m1\u001b[39m))\n\u001b[0;32m---> 40\u001b[0m veins \u001b[39m=\u001b[39m \u001b[39mself\u001b[39m\u001b[39m.\u001b[39mcases[\u001b[39mself\u001b[39;49m\u001b[39m.\u001b[39;49mcases\u001b[39m.\u001b[39;49mcluster \u001b[39m==\u001b[39m cl]\n\u001b[1;32m     41\u001b[0m distancies \u001b[39m=\u001b[39m np\u001b[39m.\u001b[39mlinalg\u001b[39m.\u001b[39mnorm(user\u001b[39m.\u001b[39mvector \u001b[39m-\u001b[39m veins, axis\u001b[39m=\u001b[39m\u001b[39m1\u001b[39m)\n\u001b[1;32m     43\u001b[0m veins_ordenats \u001b[39m=\u001b[39m veins[np\u001b[39m.\u001b[39margsort(distancies)[\u001b[39m1\u001b[39m:]]  \u001b[39m# Excluye el propio punto\u001b[39;00m\n",
      "\u001b[0;31mAttributeError\u001b[0m: 'list' object has no attribute 'cluster'"
     ]
    }
   ],
   "source": [
    "cbr = CBR(cases,clustering)\n",
    "recomanacio = cbr.recomana(nou_cas)\n",
    "print(\"Usuari final:\")\n",
    "print(recomanacio)"
   ]
  }
 ],
 "metadata": {
  "kernelspec": {
   "display_name": "Python 3",
   "language": "python",
   "name": "python3"
  },
  "language_info": {
   "codemirror_mode": {
    "name": "ipython",
    "version": 3
   },
   "file_extension": ".py",
   "mimetype": "text/x-python",
   "name": "python",
   "nbconvert_exporter": "python",
   "pygments_lexer": "ipython3",
   "version": "3.9.6"
  }
 },
 "nbformat": 4,
 "nbformat_minor": 2
}
