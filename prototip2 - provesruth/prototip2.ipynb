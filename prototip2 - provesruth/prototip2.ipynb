{
 "cells": [
  {
   "cell_type": "markdown",
   "metadata": {},
   "source": [
    "# SBC - Pràctica CBR\n",
    "\n",
    "- Aina Gomila\n",
    "- Ruth Parajó\n",
    "- Olivia Puig\n",
    "- Marc Ucelayeta"
   ]
  },
  {
   "cell_type": "code",
   "execution_count": 11,
   "metadata": {},
   "outputs": [],
   "source": [
    "from cbr import CBR\n",
    "from utils import Usuari\n",
    "import pickle\n",
    "import pandas as pd\n",
    "import random"
   ]
  },
  {
   "cell_type": "code",
   "execution_count": 12,
   "metadata": {},
   "outputs": [],
   "source": [
    "#cases =pd.read_pickle('../data/casos.pkl')"
   ]
  },
  {
   "cell_type": "code",
   "execution_count": 13,
   "metadata": {},
   "outputs": [],
   "source": [
    "cases =pd.read_pickle('../data/usuaris.pkl')"
   ]
  },
  {
   "cell_type": "code",
   "execution_count": 14,
   "metadata": {},
   "outputs": [],
   "source": [
    "with open('../model_clustering_kmeans.pkl', 'rb') as arxiu:\n",
    "    clustering = pickle.load(arxiu)"
   ]
  },
  {
   "cell_type": "code",
   "execution_count": 15,
   "metadata": {},
   "outputs": [
    {
     "data": {
      "text/plain": [
       "{'ind': 0,\n",
       " 'attributes': {'llibres_usuari': ['9780440235590',\n",
       "   '9780375761140',\n",
       "   '9780786178186',\n",
       "   '9780767916226',\n",
       "   '9780375702068'],\n",
       "  'val_llibres': [2, 4, 0, 2, 2],\n",
       "  'llibres_recomanats': ['9780099458265', '9780684831831', '9780879977641'],\n",
       "  'puntuacio_llibres': [1, 5, 3, 3, 0]},\n",
       " 'llibres_usuari': ['9780440235590',\n",
       "  '9780375761140',\n",
       "  '9780786178186',\n",
       "  '9780767916226',\n",
       "  '9780375702068'],\n",
       " 'val_llibres': [2, 4, 0, 2, 2],\n",
       " 'llibres_recomanats': ['9780099458265', '9780684831831', '9780879977641'],\n",
       " 'puntuacio_llibres': [1, 5, 3, 3, 0],\n",
       " 'vector': array([ 0. , -0.2, -0.2,  0. , -0.4,  0. , -0.2,  0. ,  0. ,  0. ,  0. ,\n",
       "         0. , -0.2,  0. , -0.2, -1. ,  0. ,  0. ,  0. ,  0. ,  0. , -0.2,\n",
       "         0. ,  0. ,  0. ,  0. ,  0. ,  0. ,  0. ,  0.6,  0. ,  0. ,  0. ,\n",
       "         0. ,  0. ,  0. , -1. ,  0.2, -1.2, -0.2, -1.2,  0.4, -1.6,  0.6,\n",
       "         0.4, -0.4, -1. ,  0. ,  0. , -1. , -1.2,  0.4, -0.2])}"
      ]
     },
     "execution_count": 15,
     "metadata": {},
     "output_type": "execute_result"
    }
   ],
   "source": [
    "cases[0].__dict__"
   ]
  },
  {
   "cell_type": "code",
   "execution_count": 16,
   "metadata": {},
   "outputs": [
    {
     "data": {
      "text/plain": [
       "<utils.Usuari at 0x280d33dc0>"
      ]
     },
     "execution_count": 16,
     "metadata": {},
     "output_type": "execute_result"
    }
   ],
   "source": [
    "#estableixo nou cas com el primer borrant els seus llibres recomanats (temporal)\n",
    "cases[0].llibres_recomanats = []\n",
    "cases[0].puntuacio_llibres = []\n",
    "nou_cas = cases[0]\n",
    "cases.pop(0)"
   ]
  },
  {
   "cell_type": "code",
   "execution_count": 17,
   "metadata": {},
   "outputs": [
    {
     "data": {
      "text/plain": [
       "\"# Crear un diccionario vacío\\nnou_cas = {}\\nnou_cas['id'] = 1\\nnou_cas['llibres_llegits'] = ['Libro1', 'Libro2', 'Libro3']\\nnou_cas['valoracions'] = [3, 4, 5]\\nnou_cas['llibres_recomanats'] = ['Libro4', 'Libro5', 'Libro6']\\nnou_cas['puntuacions'] = [3, 4, 5]\\nnou_cas['vector'] = [random.uniform(-1, 1) for _ in range(53)]\\n\""
      ]
     },
     "execution_count": 17,
     "metadata": {},
     "output_type": "execute_result"
    }
   ],
   "source": [
    "'''# Crear un diccionario vacío\n",
    "nou_cas = {}\n",
    "nou_cas['id'] = 1\n",
    "nou_cas['llibres_llegits'] = ['Libro1', 'Libro2', 'Libro3']\n",
    "nou_cas['valoracions'] = [3, 4, 5]\n",
    "nou_cas['llibres_recomanats'] = ['Libro4', 'Libro5', 'Libro6']\n",
    "nou_cas['puntuacions'] = [3, 4, 5]\n",
    "nou_cas['vector'] = [random.uniform(-1, 1) for _ in range(53)]\n",
    "'''"
   ]
  },
  {
   "cell_type": "code",
   "execution_count": 18,
   "metadata": {},
   "outputs": [
    {
     "ename": "ValueError",
     "evalue": "Expected 2D array, got 1D array instead:\narray=[ 0.  -0.2 -0.2  0.  -0.4  0.  -0.2  0.   0.   0.   0.   0.  -0.2  0.\n -0.2 -1.   0.   0.   0.   0.   0.  -0.2  0.   0.   0.   0.   0.   0.\n  0.   0.6  0.   0.   0.   0.   0.   0.  -1.   0.2 -1.2 -0.2 -1.2  0.4\n -1.6  0.6  0.4 -0.4 -1.   0.   0.  -1.  -1.2  0.4 -0.2].\nReshape your data either using array.reshape(-1, 1) if your data has a single feature or array.reshape(1, -1) if it contains a single sample.",
     "output_type": "error",
     "traceback": [
      "\u001b[0;31m---------------------------------------------------------------------------\u001b[0m",
      "\u001b[0;31mValueError\u001b[0m                                Traceback (most recent call last)",
      "\u001b[1;32m/Users/ruthparajo/Desktop/uni/SBC/pràctica 2/SBC_practica/prototip2 - provesruth/prototip2.ipynb Cell 9\u001b[0m line \u001b[0;36m2\n\u001b[1;32m      <a href='vscode-notebook-cell:/Users/ruthparajo/Desktop/uni/SBC/pr%C3%A0ctica%202/SBC_practica/prototip2%20-%20provesruth/prototip2.ipynb#X11sZmlsZQ%3D%3D?line=0'>1</a>\u001b[0m cbr \u001b[39m=\u001b[39m CBR(cases,clustering)\n\u001b[0;32m----> <a href='vscode-notebook-cell:/Users/ruthparajo/Desktop/uni/SBC/pr%C3%A0ctica%202/SBC_practica/prototip2%20-%20provesruth/prototip2.ipynb#X11sZmlsZQ%3D%3D?line=1'>2</a>\u001b[0m recomanacio \u001b[39m=\u001b[39m cbr\u001b[39m.\u001b[39;49mrecomana(nou_cas)\n\u001b[1;32m      <a href='vscode-notebook-cell:/Users/ruthparajo/Desktop/uni/SBC/pr%C3%A0ctica%202/SBC_practica/prototip2%20-%20provesruth/prototip2.ipynb#X11sZmlsZQ%3D%3D?line=2'>3</a>\u001b[0m \u001b[39mprint\u001b[39m(\u001b[39m\"\u001b[39m\u001b[39mUsuari final:\u001b[39m\u001b[39m\"\u001b[39m)\n\u001b[1;32m      <a href='vscode-notebook-cell:/Users/ruthparajo/Desktop/uni/SBC/pr%C3%A0ctica%202/SBC_practica/prototip2%20-%20provesruth/prototip2.ipynb#X11sZmlsZQ%3D%3D?line=3'>4</a>\u001b[0m \u001b[39mprint\u001b[39m(recomanacio)\n",
      "File \u001b[0;32m~/Desktop/uni/SBC/pràctica 2/SBC_practica/prototip2 - provesruth/cbr.py:99\u001b[0m, in \u001b[0;36mCBR.recomana\u001b[0;34m(self, user)\u001b[0m\n\u001b[1;32m     97\u001b[0m \u001b[39mdef\u001b[39;00m \u001b[39mrecomana\u001b[39m(\u001b[39mself\u001b[39m, user):\n\u001b[1;32m     98\u001b[0m     \u001b[39m# user es un diccionari!!!\u001b[39;00m\n\u001b[0;32m---> 99\u001b[0m     users \u001b[39m=\u001b[39m \u001b[39mself\u001b[39;49m\u001b[39m.\u001b[39;49mretrieve(user)\n\u001b[1;32m    100\u001b[0m     ll, punt \u001b[39m=\u001b[39m \u001b[39mself\u001b[39m\u001b[39m.\u001b[39mreuse(users)\n\u001b[1;32m    101\u001b[0m     user \u001b[39m=\u001b[39m \u001b[39mself\u001b[39m\u001b[39m.\u001b[39mrevise(user, ll, punt)\n",
      "File \u001b[0;32m~/Desktop/uni/SBC/pràctica 2/SBC_practica/prototip2 - provesruth/cbr.py:39\u001b[0m, in \u001b[0;36mCBR.retrieve\u001b[0;34m(self, user)\u001b[0m\n\u001b[1;32m     35\u001b[0m \u001b[39mdef\u001b[39;00m \u001b[39mretrieve\u001b[39m(\u001b[39mself\u001b[39m, user):\n\u001b[1;32m     36\u001b[0m \u001b[39m    \u001b[39m\u001b[39m\"\"\"\u001b[39;00m\n\u001b[1;32m     37\u001b[0m \u001b[39m    Return 5 most similar users\u001b[39;00m\n\u001b[1;32m     38\u001b[0m \u001b[39m    \"\"\"\u001b[39;00m\n\u001b[0;32m---> 39\u001b[0m     cl\u001b[39m=\u001b[39m\u001b[39mself\u001b[39;49m\u001b[39m.\u001b[39;49mclustering\u001b[39m.\u001b[39;49mpredict(user\u001b[39m.\u001b[39;49mvector)\n\u001b[1;32m     40\u001b[0m     veins \u001b[39m=\u001b[39m \u001b[39mself\u001b[39m\u001b[39m.\u001b[39mcases[\u001b[39mself\u001b[39m\u001b[39m.\u001b[39mcases\u001b[39m.\u001b[39mcluster \u001b[39m==\u001b[39m cl]\n\u001b[1;32m     41\u001b[0m     distancies \u001b[39m=\u001b[39m np\u001b[39m.\u001b[39mlinalg\u001b[39m.\u001b[39mnorm(user\u001b[39m.\u001b[39mvector \u001b[39m-\u001b[39m veins, axis\u001b[39m=\u001b[39m\u001b[39m1\u001b[39m)\n",
      "File \u001b[0;32m~/Library/Python/3.9/lib/python/site-packages/sklearn/cluster/_kmeans.py:1098\u001b[0m, in \u001b[0;36m_BaseKMeans.predict\u001b[0;34m(self, X, sample_weight)\u001b[0m\n\u001b[1;32m   1072\u001b[0m \u001b[39m\u001b[39m\u001b[39m\"\"\"Predict the closest cluster each sample in X belongs to.\u001b[39;00m\n\u001b[1;32m   1073\u001b[0m \n\u001b[1;32m   1074\u001b[0m \u001b[39mIn the vector quantization literature, `cluster_centers_` is called\u001b[39;00m\n\u001b[0;32m   (...)\u001b[0m\n\u001b[1;32m   1094\u001b[0m \u001b[39m    Index of the cluster each sample belongs to.\u001b[39;00m\n\u001b[1;32m   1095\u001b[0m \u001b[39m\"\"\"\u001b[39;00m\n\u001b[1;32m   1096\u001b[0m check_is_fitted(\u001b[39mself\u001b[39m)\n\u001b[0;32m-> 1098\u001b[0m X \u001b[39m=\u001b[39m \u001b[39mself\u001b[39;49m\u001b[39m.\u001b[39;49m_check_test_data(X)\n\u001b[1;32m   1099\u001b[0m \u001b[39mif\u001b[39;00m \u001b[39mnot\u001b[39;00m (\u001b[39misinstance\u001b[39m(sample_weight, \u001b[39mstr\u001b[39m) \u001b[39mand\u001b[39;00m sample_weight \u001b[39m==\u001b[39m \u001b[39m\"\u001b[39m\u001b[39mdeprecated\u001b[39m\u001b[39m\"\u001b[39m):\n\u001b[1;32m   1100\u001b[0m     warnings\u001b[39m.\u001b[39mwarn(\n\u001b[1;32m   1101\u001b[0m         (\n\u001b[1;32m   1102\u001b[0m             \u001b[39m\"\u001b[39m\u001b[39m'\u001b[39m\u001b[39msample_weight\u001b[39m\u001b[39m'\u001b[39m\u001b[39m was deprecated in version 1.3 and \u001b[39m\u001b[39m\"\u001b[39m\n\u001b[0;32m   (...)\u001b[0m\n\u001b[1;32m   1105\u001b[0m         \u001b[39mFutureWarning\u001b[39;00m,\n\u001b[1;32m   1106\u001b[0m     )\n",
      "File \u001b[0;32m~/Library/Python/3.9/lib/python/site-packages/sklearn/cluster/_kmeans.py:950\u001b[0m, in \u001b[0;36m_BaseKMeans._check_test_data\u001b[0;34m(self, X)\u001b[0m\n\u001b[1;32m    949\u001b[0m \u001b[39mdef\u001b[39;00m \u001b[39m_check_test_data\u001b[39m(\u001b[39mself\u001b[39m, X):\n\u001b[0;32m--> 950\u001b[0m     X \u001b[39m=\u001b[39m \u001b[39mself\u001b[39;49m\u001b[39m.\u001b[39;49m_validate_data(\n\u001b[1;32m    951\u001b[0m         X,\n\u001b[1;32m    952\u001b[0m         accept_sparse\u001b[39m=\u001b[39;49m\u001b[39m\"\u001b[39;49m\u001b[39mcsr\u001b[39;49m\u001b[39m\"\u001b[39;49m,\n\u001b[1;32m    953\u001b[0m         reset\u001b[39m=\u001b[39;49m\u001b[39mFalse\u001b[39;49;00m,\n\u001b[1;32m    954\u001b[0m         dtype\u001b[39m=\u001b[39;49m[np\u001b[39m.\u001b[39;49mfloat64, np\u001b[39m.\u001b[39;49mfloat32],\n\u001b[1;32m    955\u001b[0m         order\u001b[39m=\u001b[39;49m\u001b[39m\"\u001b[39;49m\u001b[39mC\u001b[39;49m\u001b[39m\"\u001b[39;49m,\n\u001b[1;32m    956\u001b[0m         accept_large_sparse\u001b[39m=\u001b[39;49m\u001b[39mFalse\u001b[39;49;00m,\n\u001b[1;32m    957\u001b[0m     )\n\u001b[1;32m    958\u001b[0m     \u001b[39mreturn\u001b[39;00m X\n",
      "File \u001b[0;32m~/Library/Python/3.9/lib/python/site-packages/sklearn/base.py:605\u001b[0m, in \u001b[0;36mBaseEstimator._validate_data\u001b[0;34m(self, X, y, reset, validate_separately, cast_to_ndarray, **check_params)\u001b[0m\n\u001b[1;32m    603\u001b[0m         out \u001b[39m=\u001b[39m X, y\n\u001b[1;32m    604\u001b[0m \u001b[39melif\u001b[39;00m \u001b[39mnot\u001b[39;00m no_val_X \u001b[39mand\u001b[39;00m no_val_y:\n\u001b[0;32m--> 605\u001b[0m     out \u001b[39m=\u001b[39m check_array(X, input_name\u001b[39m=\u001b[39;49m\u001b[39m\"\u001b[39;49m\u001b[39mX\u001b[39;49m\u001b[39m\"\u001b[39;49m, \u001b[39m*\u001b[39;49m\u001b[39m*\u001b[39;49mcheck_params)\n\u001b[1;32m    606\u001b[0m \u001b[39melif\u001b[39;00m no_val_X \u001b[39mand\u001b[39;00m \u001b[39mnot\u001b[39;00m no_val_y:\n\u001b[1;32m    607\u001b[0m     out \u001b[39m=\u001b[39m _check_y(y, \u001b[39m*\u001b[39m\u001b[39m*\u001b[39mcheck_params)\n",
      "File \u001b[0;32m~/Library/Python/3.9/lib/python/site-packages/sklearn/utils/validation.py:938\u001b[0m, in \u001b[0;36mcheck_array\u001b[0;34m(array, accept_sparse, accept_large_sparse, dtype, order, copy, force_all_finite, ensure_2d, allow_nd, ensure_min_samples, ensure_min_features, estimator, input_name)\u001b[0m\n\u001b[1;32m    936\u001b[0m     \u001b[39m# If input is 1D raise error\u001b[39;00m\n\u001b[1;32m    937\u001b[0m     \u001b[39mif\u001b[39;00m array\u001b[39m.\u001b[39mndim \u001b[39m==\u001b[39m \u001b[39m1\u001b[39m:\n\u001b[0;32m--> 938\u001b[0m         \u001b[39mraise\u001b[39;00m \u001b[39mValueError\u001b[39;00m(\n\u001b[1;32m    939\u001b[0m             \u001b[39m\"\u001b[39m\u001b[39mExpected 2D array, got 1D array instead:\u001b[39m\u001b[39m\\n\u001b[39;00m\u001b[39marray=\u001b[39m\u001b[39m{}\u001b[39;00m\u001b[39m.\u001b[39m\u001b[39m\\n\u001b[39;00m\u001b[39m\"\u001b[39m\n\u001b[1;32m    940\u001b[0m             \u001b[39m\"\u001b[39m\u001b[39mReshape your data either using array.reshape(-1, 1) if \u001b[39m\u001b[39m\"\u001b[39m\n\u001b[1;32m    941\u001b[0m             \u001b[39m\"\u001b[39m\u001b[39myour data has a single feature or array.reshape(1, -1) \u001b[39m\u001b[39m\"\u001b[39m\n\u001b[1;32m    942\u001b[0m             \u001b[39m\"\u001b[39m\u001b[39mif it contains a single sample.\u001b[39m\u001b[39m\"\u001b[39m\u001b[39m.\u001b[39mformat(array)\n\u001b[1;32m    943\u001b[0m         )\n\u001b[1;32m    945\u001b[0m \u001b[39mif\u001b[39;00m dtype_numeric \u001b[39mand\u001b[39;00m \u001b[39mhasattr\u001b[39m(array\u001b[39m.\u001b[39mdtype, \u001b[39m\"\u001b[39m\u001b[39mkind\u001b[39m\u001b[39m\"\u001b[39m) \u001b[39mand\u001b[39;00m array\u001b[39m.\u001b[39mdtype\u001b[39m.\u001b[39mkind \u001b[39min\u001b[39;00m \u001b[39m\"\u001b[39m\u001b[39mUSV\u001b[39m\u001b[39m\"\u001b[39m:\n\u001b[1;32m    946\u001b[0m     \u001b[39mraise\u001b[39;00m \u001b[39mValueError\u001b[39;00m(\n\u001b[1;32m    947\u001b[0m         \u001b[39m\"\u001b[39m\u001b[39mdtype=\u001b[39m\u001b[39m'\u001b[39m\u001b[39mnumeric\u001b[39m\u001b[39m'\u001b[39m\u001b[39m is not compatible with arrays of bytes/strings.\u001b[39m\u001b[39m\"\u001b[39m\n\u001b[1;32m    948\u001b[0m         \u001b[39m\"\u001b[39m\u001b[39mConvert your data to numeric values explicitly instead.\u001b[39m\u001b[39m\"\u001b[39m\n\u001b[1;32m    949\u001b[0m     )\n",
      "\u001b[0;31mValueError\u001b[0m: Expected 2D array, got 1D array instead:\narray=[ 0.  -0.2 -0.2  0.  -0.4  0.  -0.2  0.   0.   0.   0.   0.  -0.2  0.\n -0.2 -1.   0.   0.   0.   0.   0.  -0.2  0.   0.   0.   0.   0.   0.\n  0.   0.6  0.   0.   0.   0.   0.   0.  -1.   0.2 -1.2 -0.2 -1.2  0.4\n -1.6  0.6  0.4 -0.4 -1.   0.   0.  -1.  -1.2  0.4 -0.2].\nReshape your data either using array.reshape(-1, 1) if your data has a single feature or array.reshape(1, -1) if it contains a single sample."
     ]
    }
   ],
   "source": [
    "cbr = CBR(cases,clustering)\n",
    "recomanacio = cbr.recomana(nou_cas)\n",
    "print(\"Usuari final:\")\n",
    "print(recomanacio)"
   ]
  }
 ],
 "metadata": {
  "kernelspec": {
   "display_name": "Python 3",
   "language": "python",
   "name": "python3"
  },
  "language_info": {
   "codemirror_mode": {
    "name": "ipython",
    "version": 3
   },
   "file_extension": ".py",
   "mimetype": "text/x-python",
   "name": "python",
   "nbconvert_exporter": "python",
   "pygments_lexer": "ipython3",
   "version": "3.9.6"
  }
 },
 "nbformat": 4,
 "nbformat_minor": 2
}
