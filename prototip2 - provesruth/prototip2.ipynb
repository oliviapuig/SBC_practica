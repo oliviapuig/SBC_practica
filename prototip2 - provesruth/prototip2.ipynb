{
 "cells": [
  {
   "cell_type": "markdown",
   "metadata": {},
   "source": [
    "# SBC - Pràctica CBR\n",
    "\n",
    "- Aina Gomila\n",
    "- Ruth Parajó\n",
    "- Olivia Puig\n",
    "- Marc Ucelayeta"
   ]
  },
  {
   "cell_type": "code",
   "execution_count": 1,
   "metadata": {},
   "outputs": [],
   "source": [
    "from cbr import CBR\n",
    "from utils import Usuari\n",
    "import pickle\n",
    "import pandas as pd\n",
    "import random\n",
    "import numpy as np"
   ]
  },
  {
   "cell_type": "code",
   "execution_count": 2,
   "metadata": {},
   "outputs": [],
   "source": [
    "#cases =pd.read_pickle('../data/casos.pkl')"
   ]
  },
  {
   "cell_type": "code",
   "execution_count": 3,
   "metadata": {},
   "outputs": [],
   "source": [
    "cases_pkl =pd.read_pickle('../casos_cluster.pkl')\n",
    "books = pd.read_pickle('../eoo/llibres.pkl')"
   ]
  },
  {
   "cell_type": "code",
   "execution_count": 4,
   "metadata": {},
   "outputs": [],
   "source": [
    "with open('../model_clustering_kmeans.pkl', 'rb') as arxiu:\n",
    "    clustering = pickle.load(arxiu)"
   ]
  },
  {
   "cell_type": "code",
   "execution_count": 6,
   "metadata": {},
   "outputs": [
    {
     "name": "stderr",
     "output_type": "stream",
     "text": [
      "/var/folders/lx/01q73krn1md9zqcwvy3rqlqh0000gn/T/ipykernel_2413/2518736069.py:2: SettingWithCopyWarning: \n",
      "A value is trying to be set on a copy of a slice from a DataFrame\n",
      "\n",
      "See the caveats in the documentation: https://pandas.pydata.org/pandas-docs/stable/user_guide/indexing.html#returning-a-view-versus-a-copy\n",
      "  cases_pkl.llibres_recomanats[0] = []\n",
      "/var/folders/lx/01q73krn1md9zqcwvy3rqlqh0000gn/T/ipykernel_2413/2518736069.py:3: SettingWithCopyWarning: \n",
      "A value is trying to be set on a copy of a slice from a DataFrame\n",
      "\n",
      "See the caveats in the documentation: https://pandas.pydata.org/pandas-docs/stable/user_guide/indexing.html#returning-a-view-versus-a-copy\n",
      "  cases_pkl.puntuacions_llibres[0] = []\n"
     ]
    }
   ],
   "source": [
    "#estableixo nou cas com el primer borrant els seus llibres recomanats (temporal)\n",
    "cases_pkl.llibres_recomanats[0] = []\n",
    "cases_pkl.puntuacions_llibres[0] = []\n",
    "nou_cas = cases_pkl.iloc[0]\n",
    "cases_pkl=cases_pkl.iloc[1:]"
   ]
  },
  {
   "cell_type": "code",
   "execution_count": 15,
   "metadata": {},
   "outputs": [
    {
     "data": {
      "text/plain": [
       "Index(['isbn', 'book_id', 'similar_books', 'average_rating', 'description',\n",
       "       'authors', 'isbn13', 'num_pages', 'publication_year', 'title',\n",
       "       'language_code', 'format', 'series', 'genres', 'estil_literari',\n",
       "       'complexitat', 'caracteristiques', 'desenvolupament_del_personatge',\n",
       "       'accio_o_reflexio', 'epoca', 'detall_cientific', 'vector'],\n",
       "      dtype='object')"
      ]
     },
     "execution_count": 15,
     "metadata": {},
     "output_type": "execute_result"
    }
   ],
   "source": [
    "books.columns"
   ]
  },
  {
   "cell_type": "code",
   "execution_count": 14,
   "metadata": {},
   "outputs": [
    {
     "name": "stdout",
     "output_type": "stream",
     "text": [
      "8811134\n"
     ]
    },
    {
     "name": "stdout",
     "output_type": "stream",
     "text": [
      "8492861\n",
      "8306857\n",
      "Similitud mitjana entre l'usuari nou i els altres: 0.7810584008432886\n",
      "Usuari final:\n",
      "user_id                                 72fb0d0087d28c832f15776b0d936598\n",
      "llibres_usuari         [800780, 30868, 2088385, 18767539, 18466898, 1...\n",
      "val_llibres            [4, 4, 5, 5, 1, 1, 5, 2, 3, 3, 4, 4, 4, 5, 2, ...\n",
      "llibres_recomanats                           [8811134, 8492861, 8306857]\n",
      "puntuacions_llibres                                            [4, 5, 4]\n",
      "vector_usuari          [-1.0, -1.0, -1.0, -1.0, -1.0, 1.0, -1.0, -1.0...\n",
      "vector                 [-1.0, -1.0, -1.0, -1.0, -1.0, 1.0, -1.0, -1.0...\n",
      "cluster                                                                2\n",
      "Name: 0, dtype: object\n"
     ]
    }
   ],
   "source": [
    "cbr = CBR(cases_pkl,clustering,books)\n",
    "recomanacio = cbr.recomana(nou_cas)\n",
    "print(\"Usuari final:\")\n",
    "print(recomanacio)"
   ]
  }
 ],
 "metadata": {
  "kernelspec": {
   "display_name": "Python 3",
   "language": "python",
   "name": "python3"
  },
  "language_info": {
   "codemirror_mode": {
    "name": "ipython",
    "version": 3
   },
   "file_extension": ".py",
   "mimetype": "text/x-python",
   "name": "python",
   "nbconvert_exporter": "python",
   "pygments_lexer": "ipython3",
   "version": "3.9.6"
  }
 },
 "nbformat": 4,
 "nbformat_minor": 2
}
