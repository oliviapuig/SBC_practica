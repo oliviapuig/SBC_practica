{
 "cells": [
  {
   "cell_type": "markdown",
   "metadata": {},
   "source": [
    "# SBC - Pràctica CBR\n",
    "\n",
    "- Aina Gomila\n",
    "- Ruth Parajó\n",
    "- Olivia Puig\n",
    "- Marc Ucelayeta"
   ]
  },
  {
   "cell_type": "code",
   "execution_count": 1,
   "metadata": {},
   "outputs": [],
   "source": [
    "from cbr import CBR\n",
    "from utils import Usuari"
   ]
  },
  {
   "cell_type": "code",
   "execution_count": 2,
   "metadata": {},
   "outputs": [],
   "source": [
    "att = {\n",
    "    \"llibres_usuari\": [\"9780439785969\", \"9780439358071\", \"9780439554893\"],\n",
    "    \"val_llibres\": [3, 2, 5],\n",
    "    \"llibres_recomanats\": [\"llibre4\", \"llibre6\", \"llibre7\"],\n",
    "    \"puntuacio_llibres\": [4, 4, 1]\n",
    "}\n",
    "\n",
    "att2 = {\n",
    "    \"llibres_usuari\": [\"9780439785969\", \"9780439358071\", \"9780439554893\"],\n",
    "    \"val_llibres\": [4, 4, 1],\n",
    "    \"llibres_recomanats\": [\"llibre1\", \"llibre2\", \"llibre3\", \"llibre4\"],\n",
    "    \"puntuacio_llibres\": [4, 1, 5, 3]\n",
    "}\n",
    "\n",
    "att3 = {\n",
    "    \"llibres_usuari\": [\"9780439785969\", \"9780439358071\", \"9780439554893\"],\n",
    "    \"val_llibres\": [4, 4, 1],\n",
    "    \"llibres_recomanats\": [],\n",
    "    \"puntuacio_llibres\": []\n",
    "}\n",
    "\n",
    "user = Usuari(0, att)\n",
    "user2 = Usuari(1, att2)\n",
    "user3 = Usuari(2, att3)\n",
    "#print(user3)"
   ]
  },
  {
   "cell_type": "code",
   "execution_count": 3,
   "metadata": {},
   "outputs": [
    {
     "name": "stdout",
     "output_type": "stream",
     "text": [
      "Similitud mitjana entre l'usuari nou i els altres: 0.44419076478925706\n",
      "Usuari final:\n",
      "User 2\n",
      "llibres_usuari: ['9780439785969', '9780439358071', '9780439554893']\n",
      "val_llibres: [4, 4, 1]\n",
      "llibres_recomanats: ['llibre3', 'llibre1', 'llibre4']\n",
      "puntuacio_llibres: [5, 5, 5]\n",
      "\n"
     ]
    },
    {
     "data": {
      "text/plain": [
       "[<utils.Usuari at 0x164d53370>,\n",
       " <utils.Usuari at 0x105319480>,\n",
       " <utils.Usuari at 0x1051afa30>]"
      ]
     },
     "execution_count": 3,
     "metadata": {},
     "output_type": "execute_result"
    }
   ],
   "source": [
    "cbr = CBR([user, user2])\n",
    "user_final = cbr.recomana(user3)\n",
    "print(\"Usuari final:\")\n",
    "print(user_final)\n",
    "cbr.users"
   ]
  }
 ],
 "metadata": {
  "kernelspec": {
   "display_name": "Python 3",
   "language": "python",
   "name": "python3"
  },
  "language_info": {
   "codemirror_mode": {
    "name": "ipython",
    "version": 3
   },
   "file_extension": ".py",
   "mimetype": "text/x-python",
   "name": "python",
   "nbconvert_exporter": "python",
   "pygments_lexer": "ipython3",
   "version": "3.10.4"
  }
 },
 "nbformat": 4,
 "nbformat_minor": 2
}
