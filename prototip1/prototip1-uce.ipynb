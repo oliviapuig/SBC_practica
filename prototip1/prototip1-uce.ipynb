{
 "cells": [
  {
   "cell_type": "markdown",
   "metadata": {},
   "source": [
    "# SBC - Pràctica CBR\n",
    "\n",
    "- Aina Gomila\n",
    "- Ruth Parajó\n",
    "- Olivia Puig\n",
    "- Marc Ucelayeta"
   ]
  },
  {
   "cell_type": "code",
   "execution_count": 1,
   "metadata": {},
   "outputs": [],
   "source": [
    "from cbr import CBR\n",
    "from utils import Usuari"
   ]
  },
  {
   "cell_type": "code",
   "execution_count": 2,
   "metadata": {},
   "outputs": [],
   "source": [
    "att = {\n",
    "    \"llibres_usuari\": [\"9780439785969\", \"9780439358071\", \"9780439554893\"],\n",
    "    \"val_llibres\": [3, 2, 5],\n",
    "    \"llibres_recomanats\": [\"llibre4\", \"llibre6\", \"llibre7\"],\n",
    "    \"puntuacio_llibres\": [4, 4, 1]\n",
    "}\n",
    "\n",
    "att2 = {\n",
    "    \"llibres_usuari\": [\"9780439785969\", \"9780439358071\", \"9780439554893\"],\n",
    "    \"val_llibres\": [4, 4, 1],\n",
    "    \"llibres_recomanats\": [\"llibre1\", \"llibre2\", \"llibre3\", \"llibre4\"],\n",
    "    \"puntuacio_llibres\": [4, 1, 5, 3]\n",
    "}\n",
    "\n",
    "att3 = {\n",
    "    \"llibres_usuari\": [\"9780439785969\", \"9780439358071\", \"9780439554893\"],\n",
    "    \"val_llibres\": [4, 4, 1],\n",
    "    \"llibres_recomanats\": [],\n",
    "    \"puntuacio_llibres\": []\n",
    "}\n",
    "\n",
    "user = Usuari(0, att)\n",
    "user2 = Usuari(1, att2)\n",
    "user3 = Usuari(2, att3)\n",
    "#print(user3)"
   ]
  },
  {
   "cell_type": "code",
   "execution_count": 3,
   "metadata": {},
   "outputs": [
    {
     "ename": "NameError",
     "evalue": "name 'preproces_books' is not defined",
     "output_type": "error",
     "traceback": [
      "\u001b[0;31m---------------------------------------------------------------------------\u001b[0m",
      "\u001b[0;31mNameError\u001b[0m                                 Traceback (most recent call last)",
      "\u001b[1;32m/Users/ruthparajo/Desktop/uni/SBC/pràctica 2/SBC_practica/prototip1/prototip1-uce.ipynb Cell 4\u001b[0m line \u001b[0;36m1\n\u001b[0;32m----> <a href='vscode-notebook-cell:/Users/ruthparajo/Desktop/uni/SBC/pr%C3%A0ctica%202/SBC_practica/prototip1/prototip1-uce.ipynb#W3sZmlsZQ%3D%3D?line=0'>1</a>\u001b[0m cbr \u001b[39m=\u001b[39m CBR([user, user2])\n\u001b[1;32m      <a href='vscode-notebook-cell:/Users/ruthparajo/Desktop/uni/SBC/pr%C3%A0ctica%202/SBC_practica/prototip1/prototip1-uce.ipynb#W3sZmlsZQ%3D%3D?line=1'>2</a>\u001b[0m user_final \u001b[39m=\u001b[39m cbr\u001b[39m.\u001b[39mrecomana(user3)\n\u001b[1;32m      <a href='vscode-notebook-cell:/Users/ruthparajo/Desktop/uni/SBC/pr%C3%A0ctica%202/SBC_practica/prototip1/prototip1-uce.ipynb#W3sZmlsZQ%3D%3D?line=2'>3</a>\u001b[0m \u001b[39mprint\u001b[39m(\u001b[39m\"\u001b[39m\u001b[39mUsuari final:\u001b[39m\u001b[39m\"\u001b[39m)\n",
      "File \u001b[0;32m~/Desktop/uni/SBC/pràctica 2/SBC_practica/prototip1/cbr.py:12\u001b[0m, in \u001b[0;36mCBR.__init__\u001b[0;34m(self, users)\u001b[0m\n\u001b[1;32m      9\u001b[0m \u001b[39mdef\u001b[39;00m \u001b[39m__init__\u001b[39m(\u001b[39mself\u001b[39m, users): \u001b[39m# users és una llista amb tots els casos (bossa de casos)\u001b[39;00m\n\u001b[1;32m     10\u001b[0m     \u001b[39m#self.encoder = self.get_encoder()\u001b[39;00m\n\u001b[1;32m     11\u001b[0m     \u001b[39m#self.users = self.transform_user_to_numeric(self.encoder, users)\u001b[39;00m\n\u001b[0;32m---> 12\u001b[0m     preproces_books()\n\u001b[1;32m     13\u001b[0m     \u001b[39mself\u001b[39m\u001b[39m.\u001b[39musers \u001b[39m=\u001b[39m users\n",
      "\u001b[0;31mNameError\u001b[0m: name 'preproces_books' is not defined"
     ]
    }
   ],
   "source": [
    "cbr = CBR([user, user2])\n",
    "user_final = cbr.recomana(user3)\n",
    "print(\"Usuari final:\")\n",
    "print(user_final)\n",
    "cbr.users"
   ]
  }
 ],
 "metadata": {
  "kernelspec": {
   "display_name": "Python 3",
   "language": "python",
   "name": "python3"
  },
  "language_info": {
   "codemirror_mode": {
    "name": "ipython",
    "version": 3
   },
   "file_extension": ".py",
   "mimetype": "text/x-python",
   "name": "python",
   "nbconvert_exporter": "python",
   "pygments_lexer": "ipython3",
   "version": "3.9.6"
  }
 },
 "nbformat": 4,
 "nbformat_minor": 2
}
