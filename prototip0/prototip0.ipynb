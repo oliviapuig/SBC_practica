{
 "cells": [
  {
   "cell_type": "markdown",
   "metadata": {},
   "source": [
    "# SBC - Pràctica CBR\n",
    "\n",
    "- Aina Gomila\n",
    "- Ruth Parajó\n",
    "- Olivia Puig\n",
    "- Marc Ucelayeta"
   ]
  },
  {
   "cell_type": "code",
   "execution_count": 1,
   "metadata": {},
   "outputs": [],
   "source": [
    "from cbr import CBR\n",
    "from utils import Usuari"
   ]
  },
  {
   "cell_type": "code",
   "execution_count": 2,
   "metadata": {},
   "outputs": [
    {
     "name": "stdout",
     "output_type": "stream",
     "text": [
      "User 2\n",
      "edat: 50\n",
      "estil_literari: simbolisme\n",
      "temas_especifics: terror\n",
      "complexitat: baixa\n",
      "caracteristiques: complexes\n",
      "desenvolupament_del_personatge: mitja\n",
      "accio_o_reflexio: reflexio\n",
      "longitud: llarga\n",
      "epoca: futura\n",
      "detall_cientific: alta\n",
      "llibres_recomanats: []\n",
      "puntuacio_llibres: []\n",
      "\n"
     ]
    }
   ],
   "source": [
    "att = {\n",
    "    \"edat\": 20,\n",
    "    \"estil_literari\": \"realisme\",\n",
    "    \"temas_especifics\": \"amor\",\n",
    "    \"complexitat\": \"baixa\",\n",
    "    \"caracteristiques\": \"simples\",\n",
    "    \"desenvolupament_del_personatge\": \"alt\",\n",
    "    \"accio_o_reflexio\": \"accio\",\n",
    "    \"longitud\": \"mitjana\",\n",
    "    \"epoca\": \"actual\",\n",
    "    \"detall_cientific\": \"baix\",\n",
    "    \"llibres_recomanats\": [\"llibre4\", \"llibre6\", \"llibre7\"],\n",
    "    \"puntuacio_llibres\": [4, 4, 1]\n",
    "}\n",
    "\n",
    "att2 = {\n",
    "    \"edat\": 50,\n",
    "    \"estil_literari\": \"simbolisme\",\n",
    "    \"temas_especifics\": \"terror\",\n",
    "    \"complexitat\": \"alta\",\n",
    "    \"caracteristiques\": \"complexes\",\n",
    "    \"desenvolupament_del_personatge\": \"mitja\",\n",
    "    \"accio_o_reflexio\": \"reflexio\",\n",
    "    \"longitud\": \"llarga\",\n",
    "    \"epoca\": \"futura\",\n",
    "    \"detall_cientific\": \"alta\",\n",
    "    \"llibres_recomanats\": [\"llibre1\", \"llibre2\", \"llibre3\", \"llibre4\"],\n",
    "    \"puntuacio_llibres\": [4, 1, 5, 3]\n",
    "}\n",
    "\n",
    "att3 = {\n",
    "    \"edat\": 50,\n",
    "    \"estil_literari\": \"simbolisme\",\n",
    "    \"temas_especifics\": \"terror\",\n",
    "    \"complexitat\": \"baixa\",\n",
    "    \"caracteristiques\": \"complexes\",\n",
    "    \"desenvolupament_del_personatge\": \"mitja\",\n",
    "    \"accio_o_reflexio\": \"reflexio\",\n",
    "    \"longitud\": \"llarga\",\n",
    "    \"epoca\": \"futura\",\n",
    "    \"detall_cientific\": \"alta\",\n",
    "    \"llibres_recomanats\": [],\n",
    "    \"puntuacio_llibres\": []\n",
    "}\n",
    "\n",
    "user = Usuari(0, att)\n",
    "user2 = Usuari(1, att2)\n",
    "user3 = Usuari(2, att3)\n",
    "print(user3)"
   ]
  },
  {
   "cell_type": "code",
   "execution_count": 3,
   "metadata": {},
   "outputs": [
    {
     "name": "stdout",
     "output_type": "stream",
     "text": [
      "0.5060920647625915\n",
      "User 2\n",
      "edat: 50\n",
      "estil_literari: simbolisme\n",
      "temas_especifics: terror\n",
      "complexitat: baixa\n",
      "caracteristiques: complexes\n",
      "desenvolupament_del_personatge: mitja\n",
      "accio_o_reflexio: reflexio\n",
      "longitud: llarga\n",
      "epoca: futura\n",
      "detall_cientific: alta\n",
      "llibres_recomanats: ['llibre3', 'llibre1', 'llibre4']\n",
      "puntuacio_llibres: [5, 5, 5]\n",
      "\n"
     ]
    },
    {
     "data": {
      "text/plain": [
       "[<utils.Usuari at 0x161c636d0>,\n",
       " <utils.Usuari at 0x161c63670>,\n",
       " <utils.Usuari at 0x161c62350>]"
      ]
     },
     "execution_count": 3,
     "metadata": {},
     "output_type": "execute_result"
    }
   ],
   "source": [
    "cbr = CBR([user, user2])\n",
    "user_final = cbr.recomana(user3)\n",
    "print(user_final)\n",
    "cbr.users"
   ]
  }
 ],
 "metadata": {
  "kernelspec": {
   "display_name": "Python 3",
   "language": "python",
   "name": "python3"
  },
  "language_info": {
   "codemirror_mode": {
    "name": "ipython",
    "version": 3
   },
   "file_extension": ".py",
   "mimetype": "text/x-python",
   "name": "python",
   "nbconvert_exporter": "python",
   "pygments_lexer": "ipython3",
   "version": "3.10.4"
  }
 },
 "nbformat": 4,
 "nbformat_minor": 2
}
