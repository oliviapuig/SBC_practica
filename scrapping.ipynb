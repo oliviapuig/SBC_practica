{
 "cells": [
  {
   "cell_type": "code",
   "execution_count": 1,
   "metadata": {},
   "outputs": [
    {
     "name": "stdout",
     "output_type": "stream",
     "text": [
      "Las primeras 500 filas del archivo JSON fueron descargadas exitosamente.\n"
     ]
    }
   ],
   "source": [
    "import requests\n",
    "import gzip\n",
    "import json\n",
    "\n",
    "# URL del archivo JSON comprimido\n",
    "url = 'https://datarepo.eng.ucsd.edu/mcauley_group/gdrive/goodreads/goodreads_books.json.gz'\n",
    "\n",
    "# Realizar la solicitud GET al servidor\n",
    "response = requests.get(url, stream=True)\n",
    "\n",
    "# Verificar si la solicitud fue exitosa (código de estado 200)\n",
    "if response.status_code == 200:\n",
    "    # Descomprimir el contenido del archivo\n",
    "    with gzip.GzipFile(fileobj=response.raw) as f:\n",
    "        # Leer las primeras 500 filas del JSON\n",
    "        primeras_500_filas = [json.loads(next(f)[:-1].decode('utf-8')) for _ in range(500)]\n",
    "\n",
    "    # Guardar las primeras 500 filas en un nuevo archivo JSON\n",
    "    with open('primeras_500_filas.json', 'w', encoding='utf-8') as file:\n",
    "        json.dump(primeras_500_filas, file, indent=2)\n",
    "\n",
    "    print(\"Las primeras 500 filas del archivo JSON fueron descargadas exitosamente.\")\n",
    "else:\n",
    "    print(f\"Error al descargar el archivo. Código de estado: {response.status_code}\")\n"
   ]
  },
  {
   "cell_type": "code",
   "execution_count": 4,
   "metadata": {},
   "outputs": [],
   "source": [
    "import pandas as pd\n",
    "df = pd.read_json('primeras_500_filas.json')\n",
    "df.to_csv('primeras_500_filas.csv', index=False)"
   ]
  },
  {
   "cell_type": "code",
   "execution_count": 2,
   "metadata": {},
   "outputs": [
    {
     "name": "stdout",
     "output_type": "stream",
     "text": [
      "Las primeras 500 filas del archivo JSON fueron descargadas exitosamente.\n"
     ]
    }
   ],
   "source": [
    "url='https://datarepo.eng.ucsd.edu/mcauley_group/gdrive/goodreads/goodreads_books.json.gz'\n",
    "\n",
    "# Realizar la solicitud GET al servidor\n",
    "response = requests.get(url, stream=True)\n",
    "\n",
    "# Verificar si la solicitud fue exitosa (código de estado 200)\n",
    "if response.status_code == 200:\n",
    "    # Descomprimir el contenido del archivo\n",
    "    with gzip.GzipFile(fileobj=response.raw) as f:\n",
    "        # Leer las primeras 500 filas del JSON\n",
    "        primeras_500_filas = [json.loads(next(f)[:-1].decode('utf-8')) for _ in range(500)]\n",
    "\n",
    "    # Guardar las primeras 500 filas en un nuevo archivo JSON\n",
    "    with open('500_llibres.json', 'w', encoding='utf-8') as file:\n",
    "        json.dump(primeras_500_filas, file, indent=2)\n",
    "\n",
    "    print(\"Las primeras 500 filas del archivo JSON fueron descargadas exitosamente.\")\n",
    "else:\n",
    "    print(f\"Error al descargar el archivo. Código de estado: {response.status_code}\")"
   ]
  }
 ],
 "metadata": {
  "kernelspec": {
   "display_name": "Python 3",
   "language": "python",
   "name": "python3"
  },
  "language_info": {
   "codemirror_mode": {
    "name": "ipython",
    "version": 3
   },
   "file_extension": ".py",
   "mimetype": "text/x-python",
   "name": "python",
   "nbconvert_exporter": "python",
   "pygments_lexer": "ipython3",
   "version": "3.10.4"
  },
  "orig_nbformat": 4
 },
 "nbformat": 4,
 "nbformat_minor": 2
}
